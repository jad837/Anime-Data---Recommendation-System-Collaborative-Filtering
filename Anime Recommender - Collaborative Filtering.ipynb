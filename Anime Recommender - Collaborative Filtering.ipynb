{
 "cells": [
  {
   "cell_type": "markdown",
   "metadata": {
    "_cell_guid": "cde0f61c-f6ab-40b6-a757-c9394566aa62"
   },
   "source": [
    "Here I want to make a simple recommender system to find the similarity between shows, users and to help me predict whether a user will enjoy a particular anime."
   ]
  },
  {
   "cell_type": "code",
   "execution_count": 51,
   "metadata": {
    "ExecuteTime": {
     "end_time": "2020-05-23T06:27:47.179533Z",
     "start_time": "2020-05-23T06:27:46.925342Z"
    },
    "_cell_guid": "27f2680b-e691-70e4-e762-1bca22449d14"
   },
   "outputs": [],
   "source": [
    "# Import relevant libraries \n",
    "\n",
    "import pandas as pd\n",
    "import numpy as np\n",
    "import scipy as sp\n",
    "import sklearn\n",
    "from sklearn.decomposition import TruncatedSVD\n",
    "from sklearn.metrics.pairwise import cosine_similarity\n",
    "import operator\n",
    "%matplotlib inline"
   ]
  },
  {
   "cell_type": "code",
   "execution_count": 75,
   "metadata": {
    "ExecuteTime": {
     "end_time": "2020-05-23T07:46:36.369594Z",
     "start_time": "2020-05-23T07:46:29.018293Z"
    },
    "_cell_guid": "f5c1d1b7-983a-daa8-27ab-d25011d1f669"
   },
   "outputs": [
    {
     "data": {
      "text/html": [
       "<div>\n",
       "<style scoped>\n",
       "    .dataframe tbody tr th:only-of-type {\n",
       "        vertical-align: middle;\n",
       "    }\n",
       "\n",
       "    .dataframe tbody tr th {\n",
       "        vertical-align: top;\n",
       "    }\n",
       "\n",
       "    .dataframe thead th {\n",
       "        text-align: right;\n",
       "    }\n",
       "</style>\n",
       "<table border=\"1\" class=\"dataframe\">\n",
       "  <thead>\n",
       "    <tr style=\"text-align: right;\">\n",
       "      <th></th>\n",
       "      <th>uid</th>\n",
       "      <th>title</th>\n",
       "      <th>genre</th>\n",
       "      <th>aired</th>\n",
       "      <th>episodes</th>\n",
       "      <th>members</th>\n",
       "      <th>popularity</th>\n",
       "      <th>ranked</th>\n",
       "      <th>score</th>\n",
       "      <th>img_url</th>\n",
       "    </tr>\n",
       "  </thead>\n",
       "  <tbody>\n",
       "    <tr>\n",
       "      <th>0</th>\n",
       "      <td>28891</td>\n",
       "      <td>Haikyuu!! Second Season</td>\n",
       "      <td>['Comedy', 'Sports', 'Drama', 'School', 'Shoun...</td>\n",
       "      <td>Oct 4, 2015 to Mar 27, 2016</td>\n",
       "      <td>25.0</td>\n",
       "      <td>489888</td>\n",
       "      <td>141</td>\n",
       "      <td>25.0</td>\n",
       "      <td>8.82</td>\n",
       "      <td>https://cdn.myanimelist.net/images/anime/9/766...</td>\n",
       "    </tr>\n",
       "    <tr>\n",
       "      <th>1</th>\n",
       "      <td>23273</td>\n",
       "      <td>Shigatsu wa Kimi no Uso</td>\n",
       "      <td>['Drama', 'Music', 'Romance', 'School', 'Shoun...</td>\n",
       "      <td>Oct 10, 2014 to Mar 20, 2015</td>\n",
       "      <td>22.0</td>\n",
       "      <td>995473</td>\n",
       "      <td>28</td>\n",
       "      <td>24.0</td>\n",
       "      <td>8.83</td>\n",
       "      <td>https://cdn.myanimelist.net/images/anime/3/671...</td>\n",
       "    </tr>\n",
       "    <tr>\n",
       "      <th>2</th>\n",
       "      <td>34599</td>\n",
       "      <td>Made in Abyss</td>\n",
       "      <td>['Sci-Fi', 'Adventure', 'Mystery', 'Drama', 'F...</td>\n",
       "      <td>Jul 7, 2017 to Sep 29, 2017</td>\n",
       "      <td>13.0</td>\n",
       "      <td>581663</td>\n",
       "      <td>98</td>\n",
       "      <td>23.0</td>\n",
       "      <td>8.83</td>\n",
       "      <td>https://cdn.myanimelist.net/images/anime/6/867...</td>\n",
       "    </tr>\n",
       "    <tr>\n",
       "      <th>3</th>\n",
       "      <td>5114</td>\n",
       "      <td>Fullmetal Alchemist: Brotherhood</td>\n",
       "      <td>['Action', 'Military', 'Adventure', 'Comedy', ...</td>\n",
       "      <td>Apr 5, 2009 to Jul 4, 2010</td>\n",
       "      <td>64.0</td>\n",
       "      <td>1615084</td>\n",
       "      <td>4</td>\n",
       "      <td>1.0</td>\n",
       "      <td>9.23</td>\n",
       "      <td>https://cdn.myanimelist.net/images/anime/1223/...</td>\n",
       "    </tr>\n",
       "    <tr>\n",
       "      <th>4</th>\n",
       "      <td>31758</td>\n",
       "      <td>Kizumonogatari III: Reiketsu-hen</td>\n",
       "      <td>['Action', 'Mystery', 'Supernatural', 'Vampire']</td>\n",
       "      <td>Jan 6, 2017</td>\n",
       "      <td>1.0</td>\n",
       "      <td>214621</td>\n",
       "      <td>502</td>\n",
       "      <td>22.0</td>\n",
       "      <td>8.83</td>\n",
       "      <td>https://cdn.myanimelist.net/images/anime/3/815...</td>\n",
       "    </tr>\n",
       "  </tbody>\n",
       "</table>\n",
       "</div>"
      ],
      "text/plain": [
       "     uid                             title  \\\n",
       "0  28891           Haikyuu!! Second Season   \n",
       "1  23273           Shigatsu wa Kimi no Uso   \n",
       "2  34599                     Made in Abyss   \n",
       "3   5114  Fullmetal Alchemist: Brotherhood   \n",
       "4  31758  Kizumonogatari III: Reiketsu-hen   \n",
       "\n",
       "                                               genre  \\\n",
       "0  ['Comedy', 'Sports', 'Drama', 'School', 'Shoun...   \n",
       "1  ['Drama', 'Music', 'Romance', 'School', 'Shoun...   \n",
       "2  ['Sci-Fi', 'Adventure', 'Mystery', 'Drama', 'F...   \n",
       "3  ['Action', 'Military', 'Adventure', 'Comedy', ...   \n",
       "4   ['Action', 'Mystery', 'Supernatural', 'Vampire']   \n",
       "\n",
       "                          aired  episodes  members  popularity  ranked  score  \\\n",
       "0   Oct 4, 2015 to Mar 27, 2016      25.0   489888         141    25.0   8.82   \n",
       "1  Oct 10, 2014 to Mar 20, 2015      22.0   995473          28    24.0   8.83   \n",
       "2   Jul 7, 2017 to Sep 29, 2017      13.0   581663          98    23.0   8.83   \n",
       "3    Apr 5, 2009 to Jul 4, 2010      64.0  1615084           4     1.0   9.23   \n",
       "4                   Jan 6, 2017       1.0   214621         502    22.0   8.83   \n",
       "\n",
       "                                             img_url  \n",
       "0  https://cdn.myanimelist.net/images/anime/9/766...  \n",
       "1  https://cdn.myanimelist.net/images/anime/3/671...  \n",
       "2  https://cdn.myanimelist.net/images/anime/6/867...  \n",
       "3  https://cdn.myanimelist.net/images/anime/1223/...  \n",
       "4  https://cdn.myanimelist.net/images/anime/3/815...  "
      ]
     },
     "execution_count": 75,
     "metadata": {},
     "output_type": "execute_result"
    }
   ],
   "source": [
    "anime = pd.read_csv('animes.csv').drop(columns=['synopsis','link'])\n",
    "rating = pd.read_csv('reviews.csv').drop(columns=['anime_uid','text','link','scores'])\n",
    "anime.head()"
   ]
  },
  {
   "cell_type": "code",
   "execution_count": 76,
   "metadata": {
    "ExecuteTime": {
     "end_time": "2020-05-23T07:46:59.772040Z",
     "start_time": "2020-05-23T07:46:59.760895Z"
    }
   },
   "outputs": [
    {
     "data": {
      "text/html": [
       "<div>\n",
       "<style scoped>\n",
       "    .dataframe tbody tr th:only-of-type {\n",
       "        vertical-align: middle;\n",
       "    }\n",
       "\n",
       "    .dataframe tbody tr th {\n",
       "        vertical-align: top;\n",
       "    }\n",
       "\n",
       "    .dataframe thead th {\n",
       "        text-align: right;\n",
       "    }\n",
       "</style>\n",
       "<table border=\"1\" class=\"dataframe\">\n",
       "  <thead>\n",
       "    <tr style=\"text-align: right;\">\n",
       "      <th></th>\n",
       "      <th>uid</th>\n",
       "      <th>profile</th>\n",
       "      <th>score</th>\n",
       "    </tr>\n",
       "  </thead>\n",
       "  <tbody>\n",
       "    <tr>\n",
       "      <th>0</th>\n",
       "      <td>255938</td>\n",
       "      <td>DesolatePsyche</td>\n",
       "      <td>8</td>\n",
       "    </tr>\n",
       "    <tr>\n",
       "      <th>1</th>\n",
       "      <td>259117</td>\n",
       "      <td>baekbeans</td>\n",
       "      <td>10</td>\n",
       "    </tr>\n",
       "    <tr>\n",
       "      <th>2</th>\n",
       "      <td>253664</td>\n",
       "      <td>skrn</td>\n",
       "      <td>7</td>\n",
       "    </tr>\n",
       "    <tr>\n",
       "      <th>3</th>\n",
       "      <td>8254</td>\n",
       "      <td>edgewalker00</td>\n",
       "      <td>9</td>\n",
       "    </tr>\n",
       "    <tr>\n",
       "      <th>4</th>\n",
       "      <td>291149</td>\n",
       "      <td>aManOfCulture99</td>\n",
       "      <td>10</td>\n",
       "    </tr>\n",
       "  </tbody>\n",
       "</table>\n",
       "</div>"
      ],
      "text/plain": [
       "      uid          profile  score\n",
       "0  255938   DesolatePsyche      8\n",
       "1  259117        baekbeans     10\n",
       "2  253664             skrn      7\n",
       "3    8254     edgewalker00      9\n",
       "4  291149  aManOfCulture99     10"
      ]
     },
     "execution_count": 76,
     "metadata": {},
     "output_type": "execute_result"
    }
   ],
   "source": [
    "rating.head()"
   ]
  },
  {
   "cell_type": "markdown",
   "metadata": {},
   "source": [
    "Join the two dataframes on the anime_id columns"
   ]
  },
  {
   "cell_type": "code",
   "execution_count": 77,
   "metadata": {
    "ExecuteTime": {
     "end_time": "2020-05-23T07:48:01.788322Z",
     "start_time": "2020-05-23T07:48:01.664370Z"
    },
    "_cell_guid": "333be05a-5492-67a2-a64c-154a52ac060f"
   },
   "outputs": [
    {
     "name": "stdout",
     "output_type": "stream",
     "text": [
      "(12783, 12)\n"
     ]
    },
    {
     "data": {
      "text/html": [
       "<div>\n",
       "<style scoped>\n",
       "    .dataframe tbody tr th:only-of-type {\n",
       "        vertical-align: middle;\n",
       "    }\n",
       "\n",
       "    .dataframe tbody tr th {\n",
       "        vertical-align: top;\n",
       "    }\n",
       "\n",
       "    .dataframe thead th {\n",
       "        text-align: right;\n",
       "    }\n",
       "</style>\n",
       "<table border=\"1\" class=\"dataframe\">\n",
       "  <thead>\n",
       "    <tr style=\"text-align: right;\">\n",
       "      <th></th>\n",
       "      <th>anime_id</th>\n",
       "      <th>profile</th>\n",
       "      <th>user_rating</th>\n",
       "      <th>title</th>\n",
       "      <th>genre</th>\n",
       "      <th>aired</th>\n",
       "      <th>episodes</th>\n",
       "      <th>members</th>\n",
       "      <th>popularity</th>\n",
       "      <th>ranked</th>\n",
       "      <th>score</th>\n",
       "      <th>img_url</th>\n",
       "    </tr>\n",
       "  </thead>\n",
       "  <tbody>\n",
       "    <tr>\n",
       "      <th>0</th>\n",
       "      <td>29323</td>\n",
       "      <td>Slushpuppy282</td>\n",
       "      <td>7</td>\n",
       "      <td>Oyaji no, Imo no Kamisama.</td>\n",
       "      <td>['Slice of Life']</td>\n",
       "      <td>Dec 31, 2014</td>\n",
       "      <td>1.0</td>\n",
       "      <td>360</td>\n",
       "      <td>11732</td>\n",
       "      <td>8664.0</td>\n",
       "      <td>5.9</td>\n",
       "      <td>https://cdn.myanimelist.net/images/anime/2/705...</td>\n",
       "    </tr>\n",
       "    <tr>\n",
       "      <th>1</th>\n",
       "      <td>29323</td>\n",
       "      <td>Slushpuppy282</td>\n",
       "      <td>7</td>\n",
       "      <td>Oyaji no, Imo no Kamisama.</td>\n",
       "      <td>['Slice of Life']</td>\n",
       "      <td>Dec 31, 2014</td>\n",
       "      <td>1.0</td>\n",
       "      <td>360</td>\n",
       "      <td>11732</td>\n",
       "      <td>8664.0</td>\n",
       "      <td>5.9</td>\n",
       "      <td>https://cdn.myanimelist.net/images/anime/2/705...</td>\n",
       "    </tr>\n",
       "    <tr>\n",
       "      <th>2</th>\n",
       "      <td>30968</td>\n",
       "      <td>ParaParaJMo</td>\n",
       "      <td>9</td>\n",
       "      <td>Kokoro no Catchball</td>\n",
       "      <td>['Kids', 'Sports']</td>\n",
       "      <td>2005</td>\n",
       "      <td>1.0</td>\n",
       "      <td>100</td>\n",
       "      <td>15323</td>\n",
       "      <td>12764.0</td>\n",
       "      <td>6.7</td>\n",
       "      <td>https://cdn.myanimelist.net/images/anime/2/745...</td>\n",
       "    </tr>\n",
       "    <tr>\n",
       "      <th>3</th>\n",
       "      <td>30968</td>\n",
       "      <td>ParaParaJMo</td>\n",
       "      <td>9</td>\n",
       "      <td>Kokoro no Catchball</td>\n",
       "      <td>['Kids', 'Sports']</td>\n",
       "      <td>2005</td>\n",
       "      <td>1.0</td>\n",
       "      <td>100</td>\n",
       "      <td>15323</td>\n",
       "      <td>12764.0</td>\n",
       "      <td>6.7</td>\n",
       "      <td>https://cdn.myanimelist.net/images/anime/2/745...</td>\n",
       "    </tr>\n",
       "    <tr>\n",
       "      <th>4</th>\n",
       "      <td>38440</td>\n",
       "      <td>Jolon</td>\n",
       "      <td>9</td>\n",
       "      <td>Shikizakura</td>\n",
       "      <td>['Action', 'Sci-Fi', 'Drama']</td>\n",
       "      <td>2021 to ?</td>\n",
       "      <td>12.0</td>\n",
       "      <td>1419</td>\n",
       "      <td>8859</td>\n",
       "      <td>NaN</td>\n",
       "      <td>NaN</td>\n",
       "      <td>https://cdn.myanimelist.net/images/anime/1203/...</td>\n",
       "    </tr>\n",
       "  </tbody>\n",
       "</table>\n",
       "</div>"
      ],
      "text/plain": [
       "   anime_id        profile  user_rating                       title  \\\n",
       "0     29323  Slushpuppy282            7  Oyaji no, Imo no Kamisama.   \n",
       "1     29323  Slushpuppy282            7  Oyaji no, Imo no Kamisama.   \n",
       "2     30968    ParaParaJMo            9         Kokoro no Catchball   \n",
       "3     30968    ParaParaJMo            9         Kokoro no Catchball   \n",
       "4     38440          Jolon            9                 Shikizakura   \n",
       "\n",
       "                           genre         aired  episodes  members  popularity  \\\n",
       "0              ['Slice of Life']  Dec 31, 2014       1.0      360       11732   \n",
       "1              ['Slice of Life']  Dec 31, 2014       1.0      360       11732   \n",
       "2             ['Kids', 'Sports']          2005       1.0      100       15323   \n",
       "3             ['Kids', 'Sports']          2005       1.0      100       15323   \n",
       "4  ['Action', 'Sci-Fi', 'Drama']     2021 to ?      12.0     1419        8859   \n",
       "\n",
       "    ranked  score                                            img_url  \n",
       "0   8664.0    5.9  https://cdn.myanimelist.net/images/anime/2/705...  \n",
       "1   8664.0    5.9  https://cdn.myanimelist.net/images/anime/2/705...  \n",
       "2  12764.0    6.7  https://cdn.myanimelist.net/images/anime/2/745...  \n",
       "3  12764.0    6.7  https://cdn.myanimelist.net/images/anime/2/745...  \n",
       "4      NaN    NaN  https://cdn.myanimelist.net/images/anime/1203/...  "
      ]
     },
     "execution_count": 77,
     "metadata": {},
     "output_type": "execute_result"
    }
   ],
   "source": [
    "# Merging anime_show and rating dataframe with inner join\n",
    "merged = rating.merge(anime, on = 'uid', suffixes= ['_user', ''], how='inner')\n",
    "# Renaming column\n",
    "merged.rename(columns = {'uid':'anime_id'}, inplace = True)\n",
    "merged.rename(columns = {'score_user':'user_rating'}, inplace = True)\n",
    "# Dropping extra column\n",
    "print(merged.shape)\n",
    "merged.head()"
   ]
  },
  {
   "cell_type": "code",
   "execution_count": 78,
   "metadata": {
    "ExecuteTime": {
     "end_time": "2020-05-23T07:48:25.191146Z",
     "start_time": "2020-05-23T07:48:24.392132Z"
    },
    "scrolled": true
   },
   "outputs": [
    {
     "name": "stdout",
     "output_type": "stream",
     "text": [
      "(10636, 12)\n"
     ]
    },
    {
     "data": {
      "text/html": [
       "<div>\n",
       "<style scoped>\n",
       "    .dataframe tbody tr th:only-of-type {\n",
       "        vertical-align: middle;\n",
       "    }\n",
       "\n",
       "    .dataframe tbody tr th {\n",
       "        vertical-align: top;\n",
       "    }\n",
       "\n",
       "    .dataframe thead th {\n",
       "        text-align: right;\n",
       "    }\n",
       "</style>\n",
       "<table border=\"1\" class=\"dataframe\">\n",
       "  <thead>\n",
       "    <tr style=\"text-align: right;\">\n",
       "      <th></th>\n",
       "      <th>anime_id</th>\n",
       "      <th>profile</th>\n",
       "      <th>user_rating</th>\n",
       "      <th>title</th>\n",
       "      <th>genre</th>\n",
       "      <th>aired</th>\n",
       "      <th>episodes</th>\n",
       "      <th>members</th>\n",
       "      <th>popularity</th>\n",
       "      <th>ranked</th>\n",
       "      <th>score</th>\n",
       "      <th>img_url</th>\n",
       "    </tr>\n",
       "  </thead>\n",
       "  <tbody>\n",
       "    <tr>\n",
       "      <th>0</th>\n",
       "      <td>29323</td>\n",
       "      <td>Slushpuppy282</td>\n",
       "      <td>7</td>\n",
       "      <td>Oyaji no, Imo no Kamisama.</td>\n",
       "      <td>['Slice of Life']</td>\n",
       "      <td>Dec 31, 2014</td>\n",
       "      <td>1.0</td>\n",
       "      <td>360</td>\n",
       "      <td>11732</td>\n",
       "      <td>8664.0</td>\n",
       "      <td>5.9</td>\n",
       "      <td>https://cdn.myanimelist.net/images/anime/2/705...</td>\n",
       "    </tr>\n",
       "    <tr>\n",
       "      <th>1</th>\n",
       "      <td>29323</td>\n",
       "      <td>Slushpuppy282</td>\n",
       "      <td>7</td>\n",
       "      <td>Oyaji no, Imo no Kamisama.</td>\n",
       "      <td>['Slice of Life']</td>\n",
       "      <td>Dec 31, 2014</td>\n",
       "      <td>1.0</td>\n",
       "      <td>360</td>\n",
       "      <td>11732</td>\n",
       "      <td>8664.0</td>\n",
       "      <td>5.9</td>\n",
       "      <td>https://cdn.myanimelist.net/images/anime/2/705...</td>\n",
       "    </tr>\n",
       "    <tr>\n",
       "      <th>2</th>\n",
       "      <td>30968</td>\n",
       "      <td>ParaParaJMo</td>\n",
       "      <td>9</td>\n",
       "      <td>Kokoro no Catchball</td>\n",
       "      <td>['Kids', 'Sports']</td>\n",
       "      <td>2005</td>\n",
       "      <td>1.0</td>\n",
       "      <td>100</td>\n",
       "      <td>15323</td>\n",
       "      <td>12764.0</td>\n",
       "      <td>6.7</td>\n",
       "      <td>https://cdn.myanimelist.net/images/anime/2/745...</td>\n",
       "    </tr>\n",
       "    <tr>\n",
       "      <th>3</th>\n",
       "      <td>30968</td>\n",
       "      <td>ParaParaJMo</td>\n",
       "      <td>9</td>\n",
       "      <td>Kokoro no Catchball</td>\n",
       "      <td>['Kids', 'Sports']</td>\n",
       "      <td>2005</td>\n",
       "      <td>1.0</td>\n",
       "      <td>100</td>\n",
       "      <td>15323</td>\n",
       "      <td>12764.0</td>\n",
       "      <td>6.7</td>\n",
       "      <td>https://cdn.myanimelist.net/images/anime/2/745...</td>\n",
       "    </tr>\n",
       "    <tr>\n",
       "      <th>8</th>\n",
       "      <td>27501</td>\n",
       "      <td>Mimi_Taylor</td>\n",
       "      <td>9</td>\n",
       "      <td>Sore Ike! Anpanman: Anpanman to Tanoshii Nakam...</td>\n",
       "      <td>['Kids', 'Adventure', 'Fantasy']</td>\n",
       "      <td>Jul 24, 1999</td>\n",
       "      <td>1.0</td>\n",
       "      <td>171</td>\n",
       "      <td>13933</td>\n",
       "      <td>13953.0</td>\n",
       "      <td>7.1</td>\n",
       "      <td>https://cdn.myanimelist.net/images/anime/9/666...</td>\n",
       "    </tr>\n",
       "  </tbody>\n",
       "</table>\n",
       "</div>"
      ],
      "text/plain": [
       "   anime_id        profile  user_rating  \\\n",
       "0     29323  Slushpuppy282            7   \n",
       "1     29323  Slushpuppy282            7   \n",
       "2     30968    ParaParaJMo            9   \n",
       "3     30968    ParaParaJMo            9   \n",
       "8     27501    Mimi_Taylor            9   \n",
       "\n",
       "                                               title  \\\n",
       "0                         Oyaji no, Imo no Kamisama.   \n",
       "1                         Oyaji no, Imo no Kamisama.   \n",
       "2                                Kokoro no Catchball   \n",
       "3                                Kokoro no Catchball   \n",
       "8  Sore Ike! Anpanman: Anpanman to Tanoshii Nakam...   \n",
       "\n",
       "                              genre         aired  episodes  members  \\\n",
       "0                 ['Slice of Life']  Dec 31, 2014       1.0      360   \n",
       "1                 ['Slice of Life']  Dec 31, 2014       1.0      360   \n",
       "2                ['Kids', 'Sports']          2005       1.0      100   \n",
       "3                ['Kids', 'Sports']          2005       1.0      100   \n",
       "8  ['Kids', 'Adventure', 'Fantasy']  Jul 24, 1999       1.0      171   \n",
       "\n",
       "   popularity   ranked  score  \\\n",
       "0       11732   8664.0    5.9   \n",
       "1       11732   8664.0    5.9   \n",
       "2       15323  12764.0    6.7   \n",
       "3       15323  12764.0    6.7   \n",
       "8       13933  13953.0    7.1   \n",
       "\n",
       "                                             img_url  \n",
       "0  https://cdn.myanimelist.net/images/anime/2/705...  \n",
       "1  https://cdn.myanimelist.net/images/anime/2/705...  \n",
       "2  https://cdn.myanimelist.net/images/anime/2/745...  \n",
       "3  https://cdn.myanimelist.net/images/anime/2/745...  \n",
       "8  https://cdn.myanimelist.net/images/anime/9/666...  "
      ]
     },
     "execution_count": 78,
     "metadata": {},
     "output_type": "execute_result"
    }
   ],
   "source": [
    "merged2 = merged.dropna()\n",
    "print(merged2.shape)\n",
    "merged2.head()"
   ]
  },
  {
   "cell_type": "markdown",
   "metadata": {
    "_cell_guid": "422fb6ee-644a-562f-ae27-99e759feaa6e"
   },
   "source": [
    "Pivoting table of users on one axis and tv show names along the other. This helps us in defining the similarity between users and shows to better predict who will like what."
   ]
  },
  {
   "cell_type": "code",
   "execution_count": 82,
   "metadata": {
    "ExecuteTime": {
     "end_time": "2020-05-23T07:50:08.354975Z",
     "start_time": "2020-05-23T07:50:04.038432Z"
    },
    "_cell_guid": "f7e42fe9-5cf2-c1fb-52ae-1d512c248a72"
   },
   "outputs": [],
   "source": [
    "piv = merged2.pivot_table(index=['profile'], columns=['title'], values='user_rating',fill_value=0)"
   ]
  },
  {
   "cell_type": "code",
   "execution_count": null,
   "metadata": {
    "ExecuteTime": {
     "start_time": "2020-05-23T07:50:11.202Z"
    },
    "_cell_guid": "978bc3ed-21c1-d563-13a8-f0b3056e8e7a"
   },
   "outputs": [],
   "source": [
    "print(piv.shape)\n",
    "piv.head()"
   ]
  },
  {
   "cell_type": "markdown",
   "metadata": {
    "ExecuteTime": {
     "end_time": "2020-05-23T05:39:38.932573Z",
     "start_time": "2020-05-23T05:39:38.927092Z"
    }
   },
   "source": [
    "Transposing the Matrix (eg. pivoted table)"
   ]
  },
  {
   "cell_type": "code",
   "execution_count": null,
   "metadata": {
    "ExecuteTime": {
     "end_time": "2020-05-23T07:49:42.350971Z",
     "start_time": "2020-05-23T07:48:08.591Z"
    }
   },
   "outputs": [],
   "source": [
    "X = piv.T\n",
    "X.shape"
   ]
  },
  {
   "cell_type": "markdown",
   "metadata": {},
   "source": [
    "Decomposing the Matrix - Lowering the total features"
   ]
  },
  {
   "cell_type": "code",
   "execution_count": null,
   "metadata": {
    "ExecuteTime": {
     "end_time": "2020-05-23T07:49:42.363075Z",
     "start_time": "2020-05-23T07:48:09.656Z"
    }
   },
   "outputs": [],
   "source": [
    "# Truncates matrix in 12 Synthetic features\n",
    "SVD = TruncatedSVD(n_components=40,random_state=12)\n",
    "\n",
    "resultant_matrix = SVD.fit_transform(X)\n",
    "\n",
    "resultant_matrix.shape"
   ]
  },
  {
   "cell_type": "markdown",
   "metadata": {},
   "source": [
    "Generating a Correlation Matrix"
   ]
  },
  {
   "cell_type": "code",
   "execution_count": null,
   "metadata": {
    "ExecuteTime": {
     "end_time": "2020-05-23T07:49:42.381029Z",
     "start_time": "2020-05-23T07:48:10.871Z"
    }
   },
   "outputs": [],
   "source": [
    "corr_mat = np.corrcoef(resultant_matrix)\n",
    "corr_mat.shape\n"
   ]
  },
  {
   "cell_type": "code",
   "execution_count": null,
   "metadata": {
    "ExecuteTime": {
     "end_time": "2020-05-23T07:49:42.396579Z",
     "start_time": "2020-05-23T07:48:12.568Z"
    }
   },
   "outputs": [],
   "source": [
    "anime_titles = piv.columns\n",
    "anime_list = list(anime_titles)\n"
   ]
  },
  {
   "cell_type": "code",
   "execution_count": null,
   "metadata": {
    "ExecuteTime": {
     "end_time": "2020-05-23T07:49:42.412140Z",
     "start_time": "2020-05-23T07:48:13.500Z"
    }
   },
   "outputs": [],
   "source": [
    "corr_naruto = corr_mat[1780]\n",
    "corr_naruto.shape"
   ]
  },
  {
   "cell_type": "markdown",
   "metadata": {},
   "source": [
    "Recommending top 10% of Hightly Correlated Anime"
   ]
  },
  {
   "cell_type": "code",
   "execution_count": null,
   "metadata": {
    "ExecuteTime": {
     "end_time": "2020-05-23T07:49:42.425887Z",
     "start_time": "2020-05-23T07:48:14.204Z"
    },
    "scrolled": true
   },
   "outputs": [],
   "source": [
    "list(anime_titles[(corr_naruto<1.0)&(corr_naruto>0.9)])"
   ]
  },
  {
   "cell_type": "markdown",
   "metadata": {},
   "source": [
    "Function to recommend the top correlated Anime, (top inputted percentage)"
   ]
  },
  {
   "cell_type": "code",
   "execution_count": null,
   "metadata": {
    "ExecuteTime": {
     "end_time": "2020-05-23T07:49:42.436843Z",
     "start_time": "2020-05-23T07:48:15.259Z"
    }
   },
   "outputs": [],
   "source": [
    "def rec_anime(x,float):\n",
    "    x_corr = anime_list.index(f'{x.title()}')\n",
    "    x_corr\n",
    "    corr_x = corr_mat[x_corr]\n",
    "    print(f'Top {int(float*100)} Percentile Correlational match to Anime: {x.title()}')\n",
    "    corr_anime = list(anime_titles[(corr_x < 1.0) & (corr_x > (1.0-float))])\n",
    "    return corr_anime\n"
   ]
  },
  {
   "cell_type": "code",
   "execution_count": null,
   "metadata": {
    "ExecuteTime": {
     "end_time": "2020-05-23T07:49:42.447020Z",
     "start_time": "2020-05-23T07:48:15.943Z"
    }
   },
   "outputs": [],
   "source": [
    "rec_anime('naruto',.1)"
   ]
  },
  {
   "cell_type": "code",
   "execution_count": null,
   "metadata": {
    "ExecuteTime": {
     "end_time": "2020-05-23T07:49:42.460076Z",
     "start_time": "2020-05-23T07:48:18.549Z"
    }
   },
   "outputs": [],
   "source": [
    "rec_anime('one piece',0.1)"
   ]
  },
  {
   "cell_type": "code",
   "execution_count": null,
   "metadata": {},
   "outputs": [],
   "source": []
  }
 ],
 "metadata": {
  "_change_revision": 0,
  "_is_fork": false,
  "kernelspec": {
   "display_name": "Python 3",
   "language": "python",
   "name": "python3"
  },
  "language_info": {
   "codemirror_mode": {
    "name": "ipython",
    "version": 3
   },
   "file_extension": ".py",
   "mimetype": "text/x-python",
   "name": "python",
   "nbconvert_exporter": "python",
   "pygments_lexer": "ipython3",
   "version": "3.7.3"
  },
  "toc": {
   "base_numbering": 1,
   "nav_menu": {},
   "number_sections": true,
   "sideBar": true,
   "skip_h1_title": false,
   "title_cell": "Table of Contents",
   "title_sidebar": "Contents",
   "toc_cell": false,
   "toc_position": {},
   "toc_section_display": true,
   "toc_window_display": false
  },
  "varInspector": {
   "cols": {
    "lenName": 16,
    "lenType": 16,
    "lenVar": 40
   },
   "kernels_config": {
    "python": {
     "delete_cmd_postfix": "",
     "delete_cmd_prefix": "del ",
     "library": "var_list.py",
     "varRefreshCmd": "print(var_dic_list())"
    },
    "r": {
     "delete_cmd_postfix": ") ",
     "delete_cmd_prefix": "rm(",
     "library": "var_list.r",
     "varRefreshCmd": "cat(var_dic_list()) "
    }
   },
   "types_to_exclude": [
    "module",
    "function",
    "builtin_function_or_method",
    "instance",
    "_Feature"
   ],
   "window_display": false
  }
 },
 "nbformat": 4,
 "nbformat_minor": 1
}
