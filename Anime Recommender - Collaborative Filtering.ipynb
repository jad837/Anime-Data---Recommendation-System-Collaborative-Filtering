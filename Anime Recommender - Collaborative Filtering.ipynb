{
 "cells": [
  {
   "cell_type": "markdown",
   "metadata": {
    "_cell_guid": "cde0f61c-f6ab-40b6-a757-c9394566aa62"
   },
   "source": [
    "Here I want to make a simple recommender system to find the similarity between shows, users and to help me predict whether a user will enjoy a particular anime."
   ]
  },
  {
   "cell_type": "code",
   "execution_count": null,
   "metadata": {
    "ExecuteTime": {
     "end_time": "2020-05-25T02:08:33.016974Z",
     "start_time": "2020-05-25T02:08:30.620782Z"
    },
    "_cell_guid": "27f2680b-e691-70e4-e762-1bca22449d14"
   },
   "outputs": [],
   "source": [
    "# Import relevant libraries \n",
    "\n",
    "import pandas as pd\n",
    "import numpy as np\n",
    "import scipy as sp\n",
    "import sklearn\n",
    "from sklearn.decomposition import TruncatedSVD\n",
    "from sklearn.metrics.pairwise import cosine_similarity\n",
    "import operator\n",
    "%matplotlib inline"
   ]
  },
  {
   "cell_type": "code",
   "execution_count": null,
   "metadata": {
    "ExecuteTime": {
     "end_time": "2020-05-25T02:08:34.719425Z",
     "start_time": "2020-05-25T02:08:33.018448Z"
    },
    "_cell_guid": "f5c1d1b7-983a-daa8-27ab-d25011d1f669"
   },
   "outputs": [],
   "source": [
    "anime = pd.read_csv('myAnimelist-No_Hentai 2.csv')\n",
    "rating = pd.read_csv('/Users/SDMAN/Documents/Flatiron/Projects/rating.csv')"
   ]
  },
  {
   "cell_type": "markdown",
   "metadata": {},
   "source": [
    "Replacing -1 value with a null value"
   ]
  },
  {
   "cell_type": "code",
   "execution_count": null,
   "metadata": {
    "ExecuteTime": {
     "end_time": "2020-05-25T02:08:34.837213Z",
     "start_time": "2020-05-25T02:08:34.722070Z"
    }
   },
   "outputs": [],
   "source": [
    "rating.rating.replace({-1: np.nan}, inplace = True)\n",
    "rating.head()"
   ]
  },
  {
   "cell_type": "code",
   "execution_count": null,
   "metadata": {
    "ExecuteTime": {
     "end_time": "2020-05-25T02:08:34.847688Z",
     "start_time": "2020-05-25T02:08:34.840040Z"
    }
   },
   "outputs": [],
   "source": [
    "rating.head()"
   ]
  },
  {
   "cell_type": "markdown",
   "metadata": {},
   "source": [
    "Join the two dataframes on the anime_id columns"
   ]
  },
  {
   "cell_type": "code",
   "execution_count": null,
   "metadata": {
    "ExecuteTime": {
     "end_time": "2020-05-25T02:08:34.867223Z",
     "start_time": "2020-05-25T02:08:34.849287Z"
    },
    "_cell_guid": "42760207-0e77-e6cc-03c1-5cb3d2107991",
    "scrolled": true
   },
   "outputs": [],
   "source": [
    "# For this analysis I'm only interest in finding recommendations for the TV category\n",
    "\n",
    "anime_show = anime[anime['type']=='TV']\n",
    "anime_show.head()"
   ]
  },
  {
   "cell_type": "code",
   "execution_count": null,
   "metadata": {
    "ExecuteTime": {
     "end_time": "2020-05-25T02:08:40.384734Z",
     "start_time": "2020-05-25T02:08:34.869128Z"
    },
    "_cell_guid": "333be05a-5492-67a2-a64c-154a52ac060f"
   },
   "outputs": [],
   "source": [
    "# Merging anime_show and rating dataframe with inner join\n",
    "merged = rating.merge(anime_show, left_on = 'anime_id', right_on = 'animeID', suffixes= ['_user', ''], how='inner')\n",
    "# Renaming column\n",
    "merged.rename(columns = {'rating_user':'user_rating'}, inplace = True)\n",
    "# Dropping extra column\n",
    "merged = merged.drop(columns=\"animeID\")\n",
    "print(merged.shape)\n",
    "merged.head()"
   ]
  },
  {
   "cell_type": "code",
   "execution_count": null,
   "metadata": {
    "ExecuteTime": {
     "end_time": "2020-05-25T02:08:43.104610Z",
     "start_time": "2020-05-25T02:08:40.386684Z"
    },
    "scrolled": true
   },
   "outputs": [],
   "source": [
    "merged2 = merged.dropna()\n",
    "print(merged2.shape)\n",
    "merged2.head()"
   ]
  },
  {
   "cell_type": "markdown",
   "metadata": {
    "_cell_guid": "422fb6ee-644a-562f-ae27-99e759feaa6e"
   },
   "source": [
    "Pivoting table of users on one axis and tv show names along the other. This helps us in defining the similarity between users and shows to better predict who will like what."
   ]
  },
  {
   "cell_type": "code",
   "execution_count": null,
   "metadata": {
    "ExecuteTime": {
     "end_time": "2020-05-25T02:09:49.702826Z",
     "start_time": "2020-05-25T02:09:13.141481Z"
    },
    "_cell_guid": "f7e42fe9-5cf2-c1fb-52ae-1d512c248a72"
   },
   "outputs": [],
   "source": [
    "piv = merged2.pivot_table(index=['user_id'], columns=['name'], values='user_rating',fill_value=0)"
   ]
  },
  {
   "cell_type": "code",
   "execution_count": null,
   "metadata": {
    "ExecuteTime": {
     "end_time": "2020-05-25T02:10:12.566712Z",
     "start_time": "2020-05-25T02:10:12.549173Z"
    },
    "_cell_guid": "978bc3ed-21c1-d563-13a8-f0b3056e8e7a"
   },
   "outputs": [],
   "source": [
    "print(piv.shape)\n",
    "piv.head()"
   ]
  },
  {
   "cell_type": "code",
   "execution_count": null,
   "metadata": {
    "ExecuteTime": {
     "end_time": "2020-05-25T02:09:49.772259Z",
     "start_time": "2020-05-25T02:09:13.711Z"
    },
    "scrolled": true
   },
   "outputs": [],
   "source": [
    "# For computing reasons I'm limiting the dataframe length to 50,000 users\n",
    "\n",
    "# merged2=merged2[['user_id', 'name', 'user_rating']]\n",
    "# merged_sub= merged2[merged2.user_id <= 50000]\n",
    "# merged_sub.head()"
   ]
  },
  {
   "cell_type": "markdown",
   "metadata": {
    "ExecuteTime": {
     "end_time": "2020-05-23T05:39:38.932573Z",
     "start_time": "2020-05-23T05:39:38.927092Z"
    }
   },
   "source": [
    "Transposing the Matrix (eg. pivoted table)"
   ]
  },
  {
   "cell_type": "code",
   "execution_count": null,
   "metadata": {
    "ExecuteTime": {
     "end_time": "2020-05-25T02:27:17.704845Z",
     "start_time": "2020-05-25T02:25:31.981184Z"
    },
    "scrolled": true
   },
   "outputs": [],
   "source": [
    "# Note: As we are subtracting the mean from each rating to standardize\n",
    "# all users with only one rating or who had rated everything the same will be dropped\n",
    "\n",
    "# Normalize the values\n",
    "piv_norm = piv.apply(lambda x: (x-np.mean(x))/(np.max(x)-np.min(x)), axis=1)\n",
    "# # Drop all columns containing only zeros representing users who did not rate\n",
    "piv_norm.fillna(0, inplace=True)\n",
    "\n",
    "\n",
    "# Transposing the Matrix\n",
    "piv_norm = piv_norm.T\n",
    "piv_norm = piv_norm.loc[:, (piv_norm != 0).any(axis=0)]\n",
    "\n",
    "print(piv_norm.shape)\n",
    "piv_norm.head()"
   ]
  },
  {
   "cell_type": "code",
   "execution_count": null,
   "metadata": {
    "ExecuteTime": {
     "end_time": "2020-05-25T02:32:45.098828Z",
     "start_time": "2020-05-25T02:31:58.345265Z"
    }
   },
   "outputs": [],
   "source": [
    "# Our data needs to be in a sparse matrix format to be read by the following functions\n",
    "piv_sparse = sp.sparse.csr_matrix(piv_norm.values)\n",
    "print(piv_sparse.shape)\n",
    "piv_sparse.head()"
   ]
  },
  {
   "cell_type": "code",
   "execution_count": null,
   "metadata": {
    "ExecuteTime": {
     "start_time": "2020-05-25T02:33:03.937Z"
    }
   },
   "outputs": [],
   "source": [
    "# Matrix showing the computed cosine similarity of anime to anime \n",
    "anime_similarity = cosine_similarity(piv_sparse)\n",
    "print(item_similarity.shape)"
   ]
  },
  {
   "cell_type": "code",
   "execution_count": null,
   "metadata": {},
   "outputs": [],
   "source": [
    "# Matrix showing the computed cosine similarity of user to user \n",
    "user_similarity = cosine_similarity(piv_sparse.T)\n",
    "print(user_similarity.shape)"
   ]
  },
  {
   "cell_type": "code",
   "execution_count": null,
   "metadata": {},
   "outputs": [],
   "source": [
    "# Inserting the 2 similarity matricies into separate dataframe objects\n",
    "\n",
    "# Item to Item cosine similarity \n",
    "item_sim_df = pd.DataFrame(item_similarity, index = piv_norm.index, columns = piv_norm.index)\n",
    "# User to User cosine similarity \n",
    "user_sim_df = pd.DataFrame(user_similarity, index = piv_norm.columns, columns = piv_norm.columns)"
   ]
  },
  {
   "cell_type": "code",
   "execution_count": null,
   "metadata": {
    "ExecuteTime": {
     "end_time": "2020-05-23T02:49:56.725913Z",
     "start_time": "2020-05-23T02:49:56.696641Z"
    },
    "_cell_guid": "5cd7919d-163a-7fd8-da8e-c06ce1d705f1"
   },
   "outputs": [],
   "source": [
    "# This function will return the top 10 shows with the highest cosine similarity value\n",
    "\n",
    "def top_animes(anime_title):\n",
    "    count = 1\n",
    "    print(f'Top 10 similar Anime shows compared to {anime_title}:\\n')\n",
    "    for item in item_sim_df.sort_values(by = anime_name, ascending = False).index[1:11]: \n",
    "        print(f'No. {count}: {item}')\n",
    "        count +=1"
   ]
  },
  {
   "cell_type": "code",
   "execution_count": null,
   "metadata": {
    "ExecuteTime": {
     "end_time": "2020-05-23T02:49:56.743082Z",
     "start_time": "2020-05-23T02:49:56.728857Z"
    },
    "_cell_guid": "725964d6-986f-d34b-a616-c10b4f504fc7"
   },
   "outputs": [],
   "source": [
    "# This function will return the top 5 users with the highest similarity value \n",
    "\n",
    "def top_users(user):\n",
    "    \n",
    "    if user not in piv_norm.columns:\n",
    "        return(f'No data available on user {user}')\n",
    "    \n",
    "    print('Top 10 similar Users compared to :\\n')\n",
    "    sim_values = user_sim_df.sort_values(by=user, ascending=False).loc[:,user].tolist()[1:11]\n",
    "    sim_users = user_sim_df.sort_values(by=user, ascending=False).index[1:11]\n",
    "    zipped = zip(sim_users, sim_values,)\n",
    "    for user, sim in zipped:\n",
    "        print('User #{0}, Similarity value: {1:.2f}'.format(user, sim))"
   ]
  },
  {
   "cell_type": "code",
   "execution_count": null,
   "metadata": {
    "ExecuteTime": {
     "end_time": "2020-05-23T02:49:56.754339Z",
     "start_time": "2020-05-23T02:49:56.745230Z"
    },
    "_cell_guid": "876a5010-0e99-7aa8-5e9c-e704181b81a3"
   },
   "outputs": [],
   "source": [
    "# This function constructs a list of lists containing the highest rated shows per similar user\n",
    "# and returns the name of the show along with the frequency it appears in the list\n",
    "\n",
    "def similar_user_recs(user):\n",
    "    \n",
    "    if user not in piv_norm.columns:\n",
    "        return(f'No data available on user {user}')\n",
    "    \n",
    "    sim_users = user_sim_df.sort_values(by=user, ascending=False).index[1:11]\n",
    "    best = []\n",
    "    most_common = {}\n",
    "    \n",
    "    for i in sim_users:\n",
    "        max_score = piv_norm.loc[:, i].max()\n",
    "        best.append(piv_norm[piv_norm.loc[:, i]==max_score].index.tolist())\n",
    "    for i in range(len(best)):\n",
    "        for j in best[i]:\n",
    "            if j in most_common:\n",
    "                most_common[j] += 1\n",
    "            else:\n",
    "                most_common[j] = 1\n",
    "    sorted_list = sorted(most_common.items(), key=operator.itemgetter(1), reverse=True)\n",
    "    return sorted_list[:5]"
   ]
  },
  {
   "cell_type": "code",
   "execution_count": null,
   "metadata": {
    "ExecuteTime": {
     "end_time": "2020-05-23T03:41:36.366855Z",
     "start_time": "2020-05-23T03:41:36.346287Z"
    },
    "_cell_guid": "55c0e789-caa4-3c6d-c062-f58fb8268a2e"
   },
   "outputs": [],
   "source": [
    "# This function calculates the weighted average of similar users\n",
    "# to determine a potential rating for an input user and show\n",
    "\n",
    "def predicted_rating(anime_name, user):\n",
    "    sim_users = user_sim_df.sort_values(by=user, ascending=False).index[1:1000]\n",
    "    user_values = user_sim_df.sort_values(by=user, ascending=False).loc[:,user].tolist()[1:1000]\n",
    "    rating_list = []\n",
    "    weight_list = []\n",
    "    for j, i in enumerate(sim_users):\n",
    "        rating = piv.loc[i, anime_name]\n",
    "        similarity = user_values[j]\n",
    "        if np.isnan(rating):\n",
    "            continue\n",
    "        elif not np.isnan(rating):\n",
    "            rating_list.append(rating*similarity)\n",
    "            weight_list.append(similarity)\n",
    "    return print(f\"The predicted score for user_id: {user} is {sum(rating_list)/sum(weight_list)}\")"
   ]
  },
  {
   "cell_type": "code",
   "execution_count": null,
   "metadata": {
    "ExecuteTime": {
     "end_time": "2020-05-23T04:36:58.383258Z",
     "start_time": "2020-05-23T04:36:58.376255Z"
    }
   },
   "outputs": [],
   "source": [
    "# Function to list every show watched by user_id \n",
    "def watchlist_of_user(user):\n",
    "    return piv.T[piv.loc[user,:]>0].index.tolist()"
   ]
  },
  {
   "cell_type": "code",
   "execution_count": null,
   "metadata": {
    "ExecuteTime": {
     "end_time": "2020-05-23T02:49:57.035432Z",
     "start_time": "2020-05-23T02:49:56.763728Z"
    },
    "_cell_guid": "50988cb1-4034-4316-2638-d0b5954b0c26"
   },
   "outputs": [],
   "source": [
    "top_animes('Naruto')"
   ]
  },
  {
   "cell_type": "code",
   "execution_count": null,
   "metadata": {
    "ExecuteTime": {
     "end_time": "2020-05-23T03:00:58.821468Z",
     "start_time": "2020-05-23T02:49:57.037669Z"
    },
    "_cell_guid": "360f71b5-86dd-166a-a235-4ae662449a77"
   },
   "outputs": [],
   "source": [
    "top_users(3)"
   ]
  },
  {
   "cell_type": "code",
   "execution_count": null,
   "metadata": {
    "ExecuteTime": {
     "end_time": "2020-05-23T03:05:39.066083Z",
     "start_time": "2020-05-23T03:00:58.898036Z"
    },
    "_cell_guid": "99affa09-1a22-e7d0-7f39-f785cd8b89a4"
   },
   "outputs": [],
   "source": [
    "similar_user_recs(3)"
   ]
  },
  {
   "cell_type": "code",
   "execution_count": null,
   "metadata": {
    "ExecuteTime": {
     "end_time": "2020-05-23T03:51:48.491585Z",
     "start_time": "2020-05-23T03:41:52.706852Z"
    },
    "_cell_guid": "007764c2-bafc-a061-d9a8-eb03a12e629f"
   },
   "outputs": [],
   "source": [
    "predicted_rating('Naruto', 3)"
   ]
  },
  {
   "cell_type": "code",
   "execution_count": null,
   "metadata": {},
   "outputs": [],
   "source": []
  },
  {
   "cell_type": "code",
   "execution_count": null,
   "metadata": {},
   "outputs": [],
   "source": []
  },
  {
   "cell_type": "code",
   "execution_count": null,
   "metadata": {},
   "outputs": [],
   "source": []
  }
 ],
 "metadata": {
  "_change_revision": 0,
  "_is_fork": false,
  "kernelspec": {
   "display_name": "Python 3",
   "language": "python",
   "name": "python3"
  },
  "language_info": {
   "codemirror_mode": {
    "name": "ipython",
    "version": 3
   },
   "file_extension": ".py",
   "mimetype": "text/x-python",
   "name": "python",
   "nbconvert_exporter": "python",
   "pygments_lexer": "ipython3",
   "version": "3.7.3"
  },
  "toc": {
   "base_numbering": 1,
   "nav_menu": {},
   "number_sections": true,
   "sideBar": true,
   "skip_h1_title": false,
   "title_cell": "Table of Contents",
   "title_sidebar": "Contents",
   "toc_cell": false,
   "toc_position": {},
   "toc_section_display": true,
   "toc_window_display": false
  },
  "varInspector": {
   "cols": {
    "lenName": 16,
    "lenType": 16,
    "lenVar": 40
   },
   "kernels_config": {
    "python": {
     "delete_cmd_postfix": "",
     "delete_cmd_prefix": "del ",
     "library": "var_list.py",
     "varRefreshCmd": "print(var_dic_list())"
    },
    "r": {
     "delete_cmd_postfix": ") ",
     "delete_cmd_prefix": "rm(",
     "library": "var_list.r",
     "varRefreshCmd": "cat(var_dic_list()) "
    }
   },
   "types_to_exclude": [
    "module",
    "function",
    "builtin_function_or_method",
    "instance",
    "_Feature"
   ],
   "window_display": false
  }
 },
 "nbformat": 4,
 "nbformat_minor": 1
}
