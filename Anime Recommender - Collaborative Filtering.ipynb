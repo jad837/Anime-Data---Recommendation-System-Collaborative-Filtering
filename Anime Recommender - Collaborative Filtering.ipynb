{
 "cells": [
  {
   "cell_type": "markdown",
   "metadata": {
    "_cell_guid": "cde0f61c-f6ab-40b6-a757-c9394566aa62"
   },
   "source": [
    "Here I want to make a simple recommender system to find the similarity between shows, users and to help me predict whether a user will enjoy a particular anime."
   ]
  },
  {
   "cell_type": "code",
   "execution_count": 1,
   "metadata": {
    "ExecuteTime": {
     "end_time": "2020-05-23T01:36:16.285562Z",
     "start_time": "2020-05-23T01:36:14.262867Z"
    },
    "_cell_guid": "27f2680b-e691-70e4-e762-1bca22449d14"
   },
   "outputs": [],
   "source": [
    "# Import relevant libraries \n",
    "\n",
    "import pandas as pd\n",
    "import numpy as np\n",
    "import scipy as sp\n",
    "from sklearn.metrics.pairwise import cosine_similarity\n",
    "import operator\n",
    "%matplotlib inline"
   ]
  },
  {
   "cell_type": "code",
   "execution_count": 2,
   "metadata": {
    "ExecuteTime": {
     "end_time": "2020-05-23T01:36:17.894370Z",
     "start_time": "2020-05-23T01:36:16.287475Z"
    },
    "_cell_guid": "f5c1d1b7-983a-daa8-27ab-d25011d1f669"
   },
   "outputs": [],
   "source": [
    "anime = pd.read_csv('myAnimelist-No_Hentai 2.csv')\n",
    "rating = pd.read_csv('/Users/SDMAN/Documents/Flatiron/Projects/rating.csv')"
   ]
  },
  {
   "cell_type": "markdown",
   "metadata": {},
   "source": [
    "Replacing -1 value with a null value"
   ]
  },
  {
   "cell_type": "code",
   "execution_count": 3,
   "metadata": {
    "ExecuteTime": {
     "end_time": "2020-05-23T01:36:18.005511Z",
     "start_time": "2020-05-23T01:36:17.897975Z"
    },
    "_cell_guid": "30c96da8-d202-85cc-c546-47d31b39c04b"
   },
   "outputs": [
    {
     "data": {
      "text/html": [
       "<div>\n",
       "<style scoped>\n",
       "    .dataframe tbody tr th:only-of-type {\n",
       "        vertical-align: middle;\n",
       "    }\n",
       "\n",
       "    .dataframe tbody tr th {\n",
       "        vertical-align: top;\n",
       "    }\n",
       "\n",
       "    .dataframe thead th {\n",
       "        text-align: right;\n",
       "    }\n",
       "</style>\n",
       "<table border=\"1\" class=\"dataframe\">\n",
       "  <thead>\n",
       "    <tr style=\"text-align: right;\">\n",
       "      <th></th>\n",
       "      <th>user_id</th>\n",
       "      <th>anime_id</th>\n",
       "      <th>rating</th>\n",
       "    </tr>\n",
       "  </thead>\n",
       "  <tbody>\n",
       "    <tr>\n",
       "      <th>0</th>\n",
       "      <td>1</td>\n",
       "      <td>20</td>\n",
       "      <td>NaN</td>\n",
       "    </tr>\n",
       "    <tr>\n",
       "      <th>1</th>\n",
       "      <td>1</td>\n",
       "      <td>24</td>\n",
       "      <td>NaN</td>\n",
       "    </tr>\n",
       "    <tr>\n",
       "      <th>2</th>\n",
       "      <td>1</td>\n",
       "      <td>79</td>\n",
       "      <td>NaN</td>\n",
       "    </tr>\n",
       "    <tr>\n",
       "      <th>3</th>\n",
       "      <td>1</td>\n",
       "      <td>226</td>\n",
       "      <td>NaN</td>\n",
       "    </tr>\n",
       "    <tr>\n",
       "      <th>4</th>\n",
       "      <td>1</td>\n",
       "      <td>241</td>\n",
       "      <td>NaN</td>\n",
       "    </tr>\n",
       "  </tbody>\n",
       "</table>\n",
       "</div>"
      ],
      "text/plain": [
       "   user_id  anime_id  rating\n",
       "0        1        20     NaN\n",
       "1        1        24     NaN\n",
       "2        1        79     NaN\n",
       "3        1       226     NaN\n",
       "4        1       241     NaN"
      ]
     },
     "execution_count": 3,
     "metadata": {},
     "output_type": "execute_result"
    }
   ],
   "source": [
    "rating.rating.replace({-1: np.nan}, inplace = True)\n",
    "rating.head()"
   ]
  },
  {
   "cell_type": "code",
   "execution_count": 4,
   "metadata": {
    "ExecuteTime": {
     "end_time": "2020-05-23T01:36:18.023556Z",
     "start_time": "2020-05-23T01:36:18.008795Z"
    },
    "_cell_guid": "42760207-0e77-e6cc-03c1-5cb3d2107991"
   },
   "outputs": [
    {
     "data": {
      "text/html": [
       "<div>\n",
       "<style scoped>\n",
       "    .dataframe tbody tr th:only-of-type {\n",
       "        vertical-align: middle;\n",
       "    }\n",
       "\n",
       "    .dataframe tbody tr th {\n",
       "        vertical-align: top;\n",
       "    }\n",
       "\n",
       "    .dataframe thead th {\n",
       "        text-align: right;\n",
       "    }\n",
       "</style>\n",
       "<table border=\"1\" class=\"dataframe\">\n",
       "  <thead>\n",
       "    <tr style=\"text-align: right;\">\n",
       "      <th></th>\n",
       "      <th>animeID</th>\n",
       "      <th>name</th>\n",
       "      <th>type</th>\n",
       "      <th>source</th>\n",
       "      <th>episodes</th>\n",
       "      <th>duration</th>\n",
       "      <th>genre</th>\n",
       "      <th>rating</th>\n",
       "      <th>score</th>\n",
       "      <th>scored_by</th>\n",
       "      <th>rank</th>\n",
       "      <th>popularity</th>\n",
       "      <th>members</th>\n",
       "      <th>favorites</th>\n",
       "    </tr>\n",
       "  </thead>\n",
       "  <tbody>\n",
       "    <tr>\n",
       "      <th>0</th>\n",
       "      <td>1</td>\n",
       "      <td>Cowboy Bebop</td>\n",
       "      <td>TV</td>\n",
       "      <td>Original</td>\n",
       "      <td>26</td>\n",
       "      <td>0:24:00</td>\n",
       "      <td>['Action', 'Adventure', 'Comedy', 'Drama', 'Sc...</td>\n",
       "      <td>R - 17+ (violence &amp; profanity)</td>\n",
       "      <td>8.81</td>\n",
       "      <td>405664</td>\n",
       "      <td>26</td>\n",
       "      <td>39</td>\n",
       "      <td>795733</td>\n",
       "      <td>43460</td>\n",
       "    </tr>\n",
       "    <tr>\n",
       "      <th>2</th>\n",
       "      <td>6</td>\n",
       "      <td>Trigun</td>\n",
       "      <td>TV</td>\n",
       "      <td>Manga</td>\n",
       "      <td>26</td>\n",
       "      <td>0:24:00</td>\n",
       "      <td>['Action', 'Sci-Fi', 'Adventure', 'Comedy', 'D...</td>\n",
       "      <td>PG-13 - Teens 13 or older</td>\n",
       "      <td>8.30</td>\n",
       "      <td>212537</td>\n",
       "      <td>255</td>\n",
       "      <td>146</td>\n",
       "      <td>408548</td>\n",
       "      <td>10432</td>\n",
       "    </tr>\n",
       "    <tr>\n",
       "      <th>3</th>\n",
       "      <td>7</td>\n",
       "      <td>Witch Hunter Robin</td>\n",
       "      <td>TV</td>\n",
       "      <td>Original</td>\n",
       "      <td>26</td>\n",
       "      <td>0:25:00</td>\n",
       "      <td>['Action', 'Magic', 'Police', 'Supernatural', ...</td>\n",
       "      <td>PG-13 - Teens 13 or older</td>\n",
       "      <td>7.33</td>\n",
       "      <td>32837</td>\n",
       "      <td>2371</td>\n",
       "      <td>1171</td>\n",
       "      <td>79397</td>\n",
       "      <td>537</td>\n",
       "    </tr>\n",
       "    <tr>\n",
       "      <th>4</th>\n",
       "      <td>8</td>\n",
       "      <td>Bouken Ou Beet</td>\n",
       "      <td>TV</td>\n",
       "      <td>Manga</td>\n",
       "      <td>52</td>\n",
       "      <td>0:23:00</td>\n",
       "      <td>['Adventure', 'Fantasy', 'Shounen', 'Supernatu...</td>\n",
       "      <td>PG - Children</td>\n",
       "      <td>7.03</td>\n",
       "      <td>4894</td>\n",
       "      <td>3544</td>\n",
       "      <td>3704</td>\n",
       "      <td>11708</td>\n",
       "      <td>14</td>\n",
       "    </tr>\n",
       "    <tr>\n",
       "      <th>5</th>\n",
       "      <td>16</td>\n",
       "      <td>Hachimitsu to Clover</td>\n",
       "      <td>TV</td>\n",
       "      <td>Manga</td>\n",
       "      <td>24</td>\n",
       "      <td>0:23:00</td>\n",
       "      <td>['Comedy', 'Drama', 'Josei', 'Romance', 'Slice...</td>\n",
       "      <td>PG-13 - Teens 13 or older</td>\n",
       "      <td>8.12</td>\n",
       "      <td>57065</td>\n",
       "      <td>419</td>\n",
       "      <td>536</td>\n",
       "      <td>172274</td>\n",
       "      <td>3752</td>\n",
       "    </tr>\n",
       "  </tbody>\n",
       "</table>\n",
       "</div>"
      ],
      "text/plain": [
       "   animeID                  name type    source  episodes duration  \\\n",
       "0        1          Cowboy Bebop   TV  Original        26  0:24:00   \n",
       "2        6                Trigun   TV     Manga        26  0:24:00   \n",
       "3        7    Witch Hunter Robin   TV  Original        26  0:25:00   \n",
       "4        8        Bouken Ou Beet   TV     Manga        52  0:23:00   \n",
       "5       16  Hachimitsu to Clover   TV     Manga        24  0:23:00   \n",
       "\n",
       "                                               genre  \\\n",
       "0  ['Action', 'Adventure', 'Comedy', 'Drama', 'Sc...   \n",
       "2  ['Action', 'Sci-Fi', 'Adventure', 'Comedy', 'D...   \n",
       "3  ['Action', 'Magic', 'Police', 'Supernatural', ...   \n",
       "4  ['Adventure', 'Fantasy', 'Shounen', 'Supernatu...   \n",
       "5  ['Comedy', 'Drama', 'Josei', 'Romance', 'Slice...   \n",
       "\n",
       "                           rating  score  scored_by  rank  popularity  \\\n",
       "0  R - 17+ (violence & profanity)   8.81     405664    26          39   \n",
       "2       PG-13 - Teens 13 or older   8.30     212537   255         146   \n",
       "3       PG-13 - Teens 13 or older   7.33      32837  2371        1171   \n",
       "4                   PG - Children   7.03       4894  3544        3704   \n",
       "5       PG-13 - Teens 13 or older   8.12      57065   419         536   \n",
       "\n",
       "   members  favorites  \n",
       "0   795733      43460  \n",
       "2   408548      10432  \n",
       "3    79397        537  \n",
       "4    11708         14  \n",
       "5   172274       3752  "
      ]
     },
     "execution_count": 4,
     "metadata": {},
     "output_type": "execute_result"
    }
   ],
   "source": [
    "# For this analysis I'm only interest in finding recommendations for the TV category\n",
    "\n",
    "anime_show = anime[anime['type']=='TV']\n",
    "anime_show.head()"
   ]
  },
  {
   "cell_type": "code",
   "execution_count": 5,
   "metadata": {
    "ExecuteTime": {
     "end_time": "2020-05-23T01:36:23.173302Z",
     "start_time": "2020-05-23T01:36:18.025431Z"
    },
    "_cell_guid": "333be05a-5492-67a2-a64c-154a52ac060f"
   },
   "outputs": [
    {
     "name": "stdout",
     "output_type": "stream",
     "text": [
      "(5185071, 17)\n",
      "(5185071, 16)\n"
     ]
    },
    {
     "data": {
      "text/html": [
       "<div>\n",
       "<style scoped>\n",
       "    .dataframe tbody tr th:only-of-type {\n",
       "        vertical-align: middle;\n",
       "    }\n",
       "\n",
       "    .dataframe tbody tr th {\n",
       "        vertical-align: top;\n",
       "    }\n",
       "\n",
       "    .dataframe thead th {\n",
       "        text-align: right;\n",
       "    }\n",
       "</style>\n",
       "<table border=\"1\" class=\"dataframe\">\n",
       "  <thead>\n",
       "    <tr style=\"text-align: right;\">\n",
       "      <th></th>\n",
       "      <th>user_id</th>\n",
       "      <th>anime_id</th>\n",
       "      <th>user_rating</th>\n",
       "      <th>name</th>\n",
       "      <th>type</th>\n",
       "      <th>source</th>\n",
       "      <th>episodes</th>\n",
       "      <th>duration</th>\n",
       "      <th>genre</th>\n",
       "      <th>rating</th>\n",
       "      <th>score</th>\n",
       "      <th>scored_by</th>\n",
       "      <th>rank</th>\n",
       "      <th>popularity</th>\n",
       "      <th>members</th>\n",
       "      <th>favorites</th>\n",
       "    </tr>\n",
       "  </thead>\n",
       "  <tbody>\n",
       "    <tr>\n",
       "      <th>0</th>\n",
       "      <td>1</td>\n",
       "      <td>20</td>\n",
       "      <td>NaN</td>\n",
       "      <td>Naruto</td>\n",
       "      <td>TV</td>\n",
       "      <td>Manga</td>\n",
       "      <td>220</td>\n",
       "      <td>0:23:00</td>\n",
       "      <td>['Action', 'Adventure', 'Comedy', 'Super Power...</td>\n",
       "      <td>PG-13 - Teens 13 or older</td>\n",
       "      <td>7.9</td>\n",
       "      <td>716412</td>\n",
       "      <td>705</td>\n",
       "      <td>10</td>\n",
       "      <td>1091313</td>\n",
       "      <td>39356</td>\n",
       "    </tr>\n",
       "    <tr>\n",
       "      <th>1</th>\n",
       "      <td>3</td>\n",
       "      <td>20</td>\n",
       "      <td>8.0</td>\n",
       "      <td>Naruto</td>\n",
       "      <td>TV</td>\n",
       "      <td>Manga</td>\n",
       "      <td>220</td>\n",
       "      <td>0:23:00</td>\n",
       "      <td>['Action', 'Adventure', 'Comedy', 'Super Power...</td>\n",
       "      <td>PG-13 - Teens 13 or older</td>\n",
       "      <td>7.9</td>\n",
       "      <td>716412</td>\n",
       "      <td>705</td>\n",
       "      <td>10</td>\n",
       "      <td>1091313</td>\n",
       "      <td>39356</td>\n",
       "    </tr>\n",
       "    <tr>\n",
       "      <th>2</th>\n",
       "      <td>5</td>\n",
       "      <td>20</td>\n",
       "      <td>6.0</td>\n",
       "      <td>Naruto</td>\n",
       "      <td>TV</td>\n",
       "      <td>Manga</td>\n",
       "      <td>220</td>\n",
       "      <td>0:23:00</td>\n",
       "      <td>['Action', 'Adventure', 'Comedy', 'Super Power...</td>\n",
       "      <td>PG-13 - Teens 13 or older</td>\n",
       "      <td>7.9</td>\n",
       "      <td>716412</td>\n",
       "      <td>705</td>\n",
       "      <td>10</td>\n",
       "      <td>1091313</td>\n",
       "      <td>39356</td>\n",
       "    </tr>\n",
       "    <tr>\n",
       "      <th>3</th>\n",
       "      <td>6</td>\n",
       "      <td>20</td>\n",
       "      <td>NaN</td>\n",
       "      <td>Naruto</td>\n",
       "      <td>TV</td>\n",
       "      <td>Manga</td>\n",
       "      <td>220</td>\n",
       "      <td>0:23:00</td>\n",
       "      <td>['Action', 'Adventure', 'Comedy', 'Super Power...</td>\n",
       "      <td>PG-13 - Teens 13 or older</td>\n",
       "      <td>7.9</td>\n",
       "      <td>716412</td>\n",
       "      <td>705</td>\n",
       "      <td>10</td>\n",
       "      <td>1091313</td>\n",
       "      <td>39356</td>\n",
       "    </tr>\n",
       "    <tr>\n",
       "      <th>4</th>\n",
       "      <td>10</td>\n",
       "      <td>20</td>\n",
       "      <td>NaN</td>\n",
       "      <td>Naruto</td>\n",
       "      <td>TV</td>\n",
       "      <td>Manga</td>\n",
       "      <td>220</td>\n",
       "      <td>0:23:00</td>\n",
       "      <td>['Action', 'Adventure', 'Comedy', 'Super Power...</td>\n",
       "      <td>PG-13 - Teens 13 or older</td>\n",
       "      <td>7.9</td>\n",
       "      <td>716412</td>\n",
       "      <td>705</td>\n",
       "      <td>10</td>\n",
       "      <td>1091313</td>\n",
       "      <td>39356</td>\n",
       "    </tr>\n",
       "  </tbody>\n",
       "</table>\n",
       "</div>"
      ],
      "text/plain": [
       "   user_id  anime_id  user_rating    name type source  episodes duration  \\\n",
       "0        1        20          NaN  Naruto   TV  Manga       220  0:23:00   \n",
       "1        3        20          8.0  Naruto   TV  Manga       220  0:23:00   \n",
       "2        5        20          6.0  Naruto   TV  Manga       220  0:23:00   \n",
       "3        6        20          NaN  Naruto   TV  Manga       220  0:23:00   \n",
       "4       10        20          NaN  Naruto   TV  Manga       220  0:23:00   \n",
       "\n",
       "                                               genre  \\\n",
       "0  ['Action', 'Adventure', 'Comedy', 'Super Power...   \n",
       "1  ['Action', 'Adventure', 'Comedy', 'Super Power...   \n",
       "2  ['Action', 'Adventure', 'Comedy', 'Super Power...   \n",
       "3  ['Action', 'Adventure', 'Comedy', 'Super Power...   \n",
       "4  ['Action', 'Adventure', 'Comedy', 'Super Power...   \n",
       "\n",
       "                      rating  score  scored_by  rank  popularity  members  \\\n",
       "0  PG-13 - Teens 13 or older    7.9     716412   705          10  1091313   \n",
       "1  PG-13 - Teens 13 or older    7.9     716412   705          10  1091313   \n",
       "2  PG-13 - Teens 13 or older    7.9     716412   705          10  1091313   \n",
       "3  PG-13 - Teens 13 or older    7.9     716412   705          10  1091313   \n",
       "4  PG-13 - Teens 13 or older    7.9     716412   705          10  1091313   \n",
       "\n",
       "   favorites  \n",
       "0      39356  \n",
       "1      39356  \n",
       "2      39356  \n",
       "3      39356  \n",
       "4      39356  "
      ]
     },
     "execution_count": 5,
     "metadata": {},
     "output_type": "execute_result"
    }
   ],
   "source": [
    "# Join the two dataframes on the anime_id columns\n",
    "\n",
    "merged = rating.merge(anime_show, left_on = 'anime_id', right_on = 'animeID', suffixes= ['_user', ''], how='inner')\n",
    "merged.rename(columns = {'rating_user':'user_rating'}, inplace = True)\n",
    "print(merged.shape)\n",
    "merged.head()\n",
    "merged = merged.drop(columns=\"animeID\")\n",
    "print(merged.shape)\n",
    "merged.head()"
   ]
  },
  {
   "cell_type": "code",
   "execution_count": 6,
   "metadata": {
    "ExecuteTime": {
     "end_time": "2020-05-23T01:36:25.748012Z",
     "start_time": "2020-05-23T01:36:23.174852Z"
    },
    "scrolled": true
   },
   "outputs": [
    {
     "name": "stdout",
     "output_type": "stream",
     "text": [
      "(4284319, 16)\n"
     ]
    },
    {
     "data": {
      "text/html": [
       "<div>\n",
       "<style scoped>\n",
       "    .dataframe tbody tr th:only-of-type {\n",
       "        vertical-align: middle;\n",
       "    }\n",
       "\n",
       "    .dataframe tbody tr th {\n",
       "        vertical-align: top;\n",
       "    }\n",
       "\n",
       "    .dataframe thead th {\n",
       "        text-align: right;\n",
       "    }\n",
       "</style>\n",
       "<table border=\"1\" class=\"dataframe\">\n",
       "  <thead>\n",
       "    <tr style=\"text-align: right;\">\n",
       "      <th></th>\n",
       "      <th>user_id</th>\n",
       "      <th>anime_id</th>\n",
       "      <th>user_rating</th>\n",
       "      <th>name</th>\n",
       "      <th>type</th>\n",
       "      <th>source</th>\n",
       "      <th>episodes</th>\n",
       "      <th>duration</th>\n",
       "      <th>genre</th>\n",
       "      <th>rating</th>\n",
       "      <th>score</th>\n",
       "      <th>scored_by</th>\n",
       "      <th>rank</th>\n",
       "      <th>popularity</th>\n",
       "      <th>members</th>\n",
       "      <th>favorites</th>\n",
       "    </tr>\n",
       "  </thead>\n",
       "  <tbody>\n",
       "    <tr>\n",
       "      <th>1</th>\n",
       "      <td>3</td>\n",
       "      <td>20</td>\n",
       "      <td>8.0</td>\n",
       "      <td>Naruto</td>\n",
       "      <td>TV</td>\n",
       "      <td>Manga</td>\n",
       "      <td>220</td>\n",
       "      <td>0:23:00</td>\n",
       "      <td>['Action', 'Adventure', 'Comedy', 'Super Power...</td>\n",
       "      <td>PG-13 - Teens 13 or older</td>\n",
       "      <td>7.9</td>\n",
       "      <td>716412</td>\n",
       "      <td>705</td>\n",
       "      <td>10</td>\n",
       "      <td>1091313</td>\n",
       "      <td>39356</td>\n",
       "    </tr>\n",
       "    <tr>\n",
       "      <th>2</th>\n",
       "      <td>5</td>\n",
       "      <td>20</td>\n",
       "      <td>6.0</td>\n",
       "      <td>Naruto</td>\n",
       "      <td>TV</td>\n",
       "      <td>Manga</td>\n",
       "      <td>220</td>\n",
       "      <td>0:23:00</td>\n",
       "      <td>['Action', 'Adventure', 'Comedy', 'Super Power...</td>\n",
       "      <td>PG-13 - Teens 13 or older</td>\n",
       "      <td>7.9</td>\n",
       "      <td>716412</td>\n",
       "      <td>705</td>\n",
       "      <td>10</td>\n",
       "      <td>1091313</td>\n",
       "      <td>39356</td>\n",
       "    </tr>\n",
       "    <tr>\n",
       "      <th>5</th>\n",
       "      <td>21</td>\n",
       "      <td>20</td>\n",
       "      <td>8.0</td>\n",
       "      <td>Naruto</td>\n",
       "      <td>TV</td>\n",
       "      <td>Manga</td>\n",
       "      <td>220</td>\n",
       "      <td>0:23:00</td>\n",
       "      <td>['Action', 'Adventure', 'Comedy', 'Super Power...</td>\n",
       "      <td>PG-13 - Teens 13 or older</td>\n",
       "      <td>7.9</td>\n",
       "      <td>716412</td>\n",
       "      <td>705</td>\n",
       "      <td>10</td>\n",
       "      <td>1091313</td>\n",
       "      <td>39356</td>\n",
       "    </tr>\n",
       "    <tr>\n",
       "      <th>6</th>\n",
       "      <td>28</td>\n",
       "      <td>20</td>\n",
       "      <td>9.0</td>\n",
       "      <td>Naruto</td>\n",
       "      <td>TV</td>\n",
       "      <td>Manga</td>\n",
       "      <td>220</td>\n",
       "      <td>0:23:00</td>\n",
       "      <td>['Action', 'Adventure', 'Comedy', 'Super Power...</td>\n",
       "      <td>PG-13 - Teens 13 or older</td>\n",
       "      <td>7.9</td>\n",
       "      <td>716412</td>\n",
       "      <td>705</td>\n",
       "      <td>10</td>\n",
       "      <td>1091313</td>\n",
       "      <td>39356</td>\n",
       "    </tr>\n",
       "    <tr>\n",
       "      <th>7</th>\n",
       "      <td>34</td>\n",
       "      <td>20</td>\n",
       "      <td>9.0</td>\n",
       "      <td>Naruto</td>\n",
       "      <td>TV</td>\n",
       "      <td>Manga</td>\n",
       "      <td>220</td>\n",
       "      <td>0:23:00</td>\n",
       "      <td>['Action', 'Adventure', 'Comedy', 'Super Power...</td>\n",
       "      <td>PG-13 - Teens 13 or older</td>\n",
       "      <td>7.9</td>\n",
       "      <td>716412</td>\n",
       "      <td>705</td>\n",
       "      <td>10</td>\n",
       "      <td>1091313</td>\n",
       "      <td>39356</td>\n",
       "    </tr>\n",
       "  </tbody>\n",
       "</table>\n",
       "</div>"
      ],
      "text/plain": [
       "   user_id  anime_id  user_rating    name type source  episodes duration  \\\n",
       "1        3        20          8.0  Naruto   TV  Manga       220  0:23:00   \n",
       "2        5        20          6.0  Naruto   TV  Manga       220  0:23:00   \n",
       "5       21        20          8.0  Naruto   TV  Manga       220  0:23:00   \n",
       "6       28        20          9.0  Naruto   TV  Manga       220  0:23:00   \n",
       "7       34        20          9.0  Naruto   TV  Manga       220  0:23:00   \n",
       "\n",
       "                                               genre  \\\n",
       "1  ['Action', 'Adventure', 'Comedy', 'Super Power...   \n",
       "2  ['Action', 'Adventure', 'Comedy', 'Super Power...   \n",
       "5  ['Action', 'Adventure', 'Comedy', 'Super Power...   \n",
       "6  ['Action', 'Adventure', 'Comedy', 'Super Power...   \n",
       "7  ['Action', 'Adventure', 'Comedy', 'Super Power...   \n",
       "\n",
       "                      rating  score  scored_by  rank  popularity  members  \\\n",
       "1  PG-13 - Teens 13 or older    7.9     716412   705          10  1091313   \n",
       "2  PG-13 - Teens 13 or older    7.9     716412   705          10  1091313   \n",
       "5  PG-13 - Teens 13 or older    7.9     716412   705          10  1091313   \n",
       "6  PG-13 - Teens 13 or older    7.9     716412   705          10  1091313   \n",
       "7  PG-13 - Teens 13 or older    7.9     716412   705          10  1091313   \n",
       "\n",
       "   favorites  \n",
       "1      39356  \n",
       "2      39356  \n",
       "5      39356  \n",
       "6      39356  \n",
       "7      39356  "
      ]
     },
     "execution_count": 6,
     "metadata": {},
     "output_type": "execute_result"
    }
   ],
   "source": [
    "merged2 = merged.dropna()\n",
    "print(merged2.shape)\n",
    "merged2.head()"
   ]
  },
  {
   "cell_type": "code",
   "execution_count": 7,
   "metadata": {
    "ExecuteTime": {
     "end_time": "2020-05-23T01:36:25.951765Z",
     "start_time": "2020-05-23T01:36:25.749737Z"
    }
   },
   "outputs": [
    {
     "data": {
      "text/html": [
       "<div>\n",
       "<style scoped>\n",
       "    .dataframe tbody tr th:only-of-type {\n",
       "        vertical-align: middle;\n",
       "    }\n",
       "\n",
       "    .dataframe tbody tr th {\n",
       "        vertical-align: top;\n",
       "    }\n",
       "\n",
       "    .dataframe thead th {\n",
       "        text-align: right;\n",
       "    }\n",
       "</style>\n",
       "<table border=\"1\" class=\"dataframe\">\n",
       "  <thead>\n",
       "    <tr style=\"text-align: right;\">\n",
       "      <th></th>\n",
       "      <th>user_id</th>\n",
       "      <th>name</th>\n",
       "      <th>user_rating</th>\n",
       "    </tr>\n",
       "  </thead>\n",
       "  <tbody>\n",
       "    <tr>\n",
       "      <th>1</th>\n",
       "      <td>3</td>\n",
       "      <td>Naruto</td>\n",
       "      <td>8.0</td>\n",
       "    </tr>\n",
       "    <tr>\n",
       "      <th>2</th>\n",
       "      <td>5</td>\n",
       "      <td>Naruto</td>\n",
       "      <td>6.0</td>\n",
       "    </tr>\n",
       "    <tr>\n",
       "      <th>5</th>\n",
       "      <td>21</td>\n",
       "      <td>Naruto</td>\n",
       "      <td>8.0</td>\n",
       "    </tr>\n",
       "    <tr>\n",
       "      <th>6</th>\n",
       "      <td>28</td>\n",
       "      <td>Naruto</td>\n",
       "      <td>9.0</td>\n",
       "    </tr>\n",
       "    <tr>\n",
       "      <th>7</th>\n",
       "      <td>34</td>\n",
       "      <td>Naruto</td>\n",
       "      <td>9.0</td>\n",
       "    </tr>\n",
       "  </tbody>\n",
       "</table>\n",
       "</div>"
      ],
      "text/plain": [
       "   user_id    name  user_rating\n",
       "1        3  Naruto          8.0\n",
       "2        5  Naruto          6.0\n",
       "5       21  Naruto          8.0\n",
       "6       28  Naruto          9.0\n",
       "7       34  Naruto          9.0"
      ]
     },
     "execution_count": 7,
     "metadata": {},
     "output_type": "execute_result"
    }
   ],
   "source": [
    "# For computing reasons I'm limiting the dataframe length to 200,000 users\n",
    "\n",
    "merged2=merged2[['user_id', 'name', 'user_rating']]\n",
    "merged_sub= merged2[merged2.user_id <= 200000]\n",
    "merged_sub.head()"
   ]
  },
  {
   "cell_type": "markdown",
   "metadata": {
    "_cell_guid": "422fb6ee-644a-562f-ae27-99e759feaa6e"
   },
   "source": [
    "Pivoting table of users on one axis and tv show names along the other. This helps us in defining the similarity between users and shows to better predict who will like what."
   ]
  },
  {
   "cell_type": "code",
   "execution_count": 8,
   "metadata": {
    "ExecuteTime": {
     "end_time": "2020-05-23T01:36:35.934049Z",
     "start_time": "2020-05-23T01:36:25.955687Z"
    },
    "_cell_guid": "f7e42fe9-5cf2-c1fb-52ae-1d512c248a72"
   },
   "outputs": [],
   "source": [
    "piv = merged_sub.pivot_table(index=['user_id'], columns=['name'], values='user_rating')"
   ]
  },
  {
   "cell_type": "code",
   "execution_count": 9,
   "metadata": {
    "ExecuteTime": {
     "end_time": "2020-05-23T01:36:35.964747Z",
     "start_time": "2020-05-23T01:36:35.936942Z"
    },
    "_cell_guid": "978bc3ed-21c1-d563-13a8-f0b3056e8e7a"
   },
   "outputs": [
    {
     "name": "stdout",
     "output_type": "stream",
     "text": [
      "(68840, 2968)\n"
     ]
    },
    {
     "data": {
      "text/html": [
       "<div>\n",
       "<style scoped>\n",
       "    .dataframe tbody tr th:only-of-type {\n",
       "        vertical-align: middle;\n",
       "    }\n",
       "\n",
       "    .dataframe tbody tr th {\n",
       "        vertical-align: top;\n",
       "    }\n",
       "\n",
       "    .dataframe thead th {\n",
       "        text-align: right;\n",
       "    }\n",
       "</style>\n",
       "<table border=\"1\" class=\"dataframe\">\n",
       "  <thead>\n",
       "    <tr style=\"text-align: right;\">\n",
       "      <th>name</th>\n",
       "      <th>.hack//Roots</th>\n",
       "      <th>.hack//Sign</th>\n",
       "      <th>009-1</th>\n",
       "      <th>07-Ghost</th>\n",
       "      <th>11eyes</th>\n",
       "      <th>12-sai.: Chicchana Mune no Tokimeki</th>\n",
       "      <th>12-sai.: Chicchana Mune no Tokimeki 2nd Season</th>\n",
       "      <th>2020 Nyeon Ujuui Wonder Kiddy</th>\n",
       "      <th>21 Emon</th>\n",
       "      <th>3 Choume no Tama: Uchi no Tama Shirimasenka?</th>\n",
       "      <th>...</th>\n",
       "      <th>Zombie-Loan</th>\n",
       "      <th>Zone of the Enders: Dolores, I</th>\n",
       "      <th>Zukkoke Knight: Don De La Mancha</th>\n",
       "      <th>ef: A Tale of Melodies.</th>\n",
       "      <th>ef: A Tale of Memories.</th>\n",
       "      <th>gdgd Fairies</th>\n",
       "      <th>gdgd Fairies 2</th>\n",
       "      <th>s.CRY.ed</th>\n",
       "      <th>xxxHOLiC</th>\n",
       "      <th>xxxHOLiC Kei</th>\n",
       "    </tr>\n",
       "    <tr>\n",
       "      <th>user_id</th>\n",
       "      <th></th>\n",
       "      <th></th>\n",
       "      <th></th>\n",
       "      <th></th>\n",
       "      <th></th>\n",
       "      <th></th>\n",
       "      <th></th>\n",
       "      <th></th>\n",
       "      <th></th>\n",
       "      <th></th>\n",
       "      <th></th>\n",
       "      <th></th>\n",
       "      <th></th>\n",
       "      <th></th>\n",
       "      <th></th>\n",
       "      <th></th>\n",
       "      <th></th>\n",
       "      <th></th>\n",
       "      <th></th>\n",
       "      <th></th>\n",
       "      <th></th>\n",
       "    </tr>\n",
       "  </thead>\n",
       "  <tbody>\n",
       "    <tr>\n",
       "      <th>1</th>\n",
       "      <td>NaN</td>\n",
       "      <td>NaN</td>\n",
       "      <td>NaN</td>\n",
       "      <td>NaN</td>\n",
       "      <td>NaN</td>\n",
       "      <td>NaN</td>\n",
       "      <td>NaN</td>\n",
       "      <td>NaN</td>\n",
       "      <td>NaN</td>\n",
       "      <td>NaN</td>\n",
       "      <td>...</td>\n",
       "      <td>NaN</td>\n",
       "      <td>NaN</td>\n",
       "      <td>NaN</td>\n",
       "      <td>NaN</td>\n",
       "      <td>NaN</td>\n",
       "      <td>NaN</td>\n",
       "      <td>NaN</td>\n",
       "      <td>NaN</td>\n",
       "      <td>NaN</td>\n",
       "      <td>NaN</td>\n",
       "    </tr>\n",
       "    <tr>\n",
       "      <th>2</th>\n",
       "      <td>NaN</td>\n",
       "      <td>NaN</td>\n",
       "      <td>NaN</td>\n",
       "      <td>NaN</td>\n",
       "      <td>NaN</td>\n",
       "      <td>NaN</td>\n",
       "      <td>NaN</td>\n",
       "      <td>NaN</td>\n",
       "      <td>NaN</td>\n",
       "      <td>NaN</td>\n",
       "      <td>...</td>\n",
       "      <td>NaN</td>\n",
       "      <td>NaN</td>\n",
       "      <td>NaN</td>\n",
       "      <td>NaN</td>\n",
       "      <td>NaN</td>\n",
       "      <td>NaN</td>\n",
       "      <td>NaN</td>\n",
       "      <td>NaN</td>\n",
       "      <td>NaN</td>\n",
       "      <td>NaN</td>\n",
       "    </tr>\n",
       "    <tr>\n",
       "      <th>3</th>\n",
       "      <td>NaN</td>\n",
       "      <td>NaN</td>\n",
       "      <td>NaN</td>\n",
       "      <td>NaN</td>\n",
       "      <td>NaN</td>\n",
       "      <td>NaN</td>\n",
       "      <td>NaN</td>\n",
       "      <td>NaN</td>\n",
       "      <td>NaN</td>\n",
       "      <td>NaN</td>\n",
       "      <td>...</td>\n",
       "      <td>7.0</td>\n",
       "      <td>NaN</td>\n",
       "      <td>NaN</td>\n",
       "      <td>NaN</td>\n",
       "      <td>NaN</td>\n",
       "      <td>NaN</td>\n",
       "      <td>NaN</td>\n",
       "      <td>NaN</td>\n",
       "      <td>NaN</td>\n",
       "      <td>NaN</td>\n",
       "    </tr>\n",
       "    <tr>\n",
       "      <th>5</th>\n",
       "      <td>NaN</td>\n",
       "      <td>NaN</td>\n",
       "      <td>NaN</td>\n",
       "      <td>NaN</td>\n",
       "      <td>NaN</td>\n",
       "      <td>NaN</td>\n",
       "      <td>NaN</td>\n",
       "      <td>NaN</td>\n",
       "      <td>NaN</td>\n",
       "      <td>NaN</td>\n",
       "      <td>...</td>\n",
       "      <td>NaN</td>\n",
       "      <td>NaN</td>\n",
       "      <td>NaN</td>\n",
       "      <td>NaN</td>\n",
       "      <td>NaN</td>\n",
       "      <td>NaN</td>\n",
       "      <td>NaN</td>\n",
       "      <td>NaN</td>\n",
       "      <td>2.0</td>\n",
       "      <td>NaN</td>\n",
       "    </tr>\n",
       "    <tr>\n",
       "      <th>7</th>\n",
       "      <td>NaN</td>\n",
       "      <td>NaN</td>\n",
       "      <td>NaN</td>\n",
       "      <td>NaN</td>\n",
       "      <td>NaN</td>\n",
       "      <td>NaN</td>\n",
       "      <td>NaN</td>\n",
       "      <td>NaN</td>\n",
       "      <td>NaN</td>\n",
       "      <td>NaN</td>\n",
       "      <td>...</td>\n",
       "      <td>NaN</td>\n",
       "      <td>NaN</td>\n",
       "      <td>NaN</td>\n",
       "      <td>NaN</td>\n",
       "      <td>NaN</td>\n",
       "      <td>NaN</td>\n",
       "      <td>NaN</td>\n",
       "      <td>NaN</td>\n",
       "      <td>NaN</td>\n",
       "      <td>NaN</td>\n",
       "    </tr>\n",
       "  </tbody>\n",
       "</table>\n",
       "<p>5 rows × 2968 columns</p>\n",
       "</div>"
      ],
      "text/plain": [
       "name     .hack//Roots  .hack//Sign  009-1  07-Ghost  11eyes  \\\n",
       "user_id                                                       \n",
       "1                 NaN          NaN    NaN       NaN     NaN   \n",
       "2                 NaN          NaN    NaN       NaN     NaN   \n",
       "3                 NaN          NaN    NaN       NaN     NaN   \n",
       "5                 NaN          NaN    NaN       NaN     NaN   \n",
       "7                 NaN          NaN    NaN       NaN     NaN   \n",
       "\n",
       "name     12-sai.: Chicchana Mune no Tokimeki  \\\n",
       "user_id                                        \n",
       "1                                        NaN   \n",
       "2                                        NaN   \n",
       "3                                        NaN   \n",
       "5                                        NaN   \n",
       "7                                        NaN   \n",
       "\n",
       "name     12-sai.: Chicchana Mune no Tokimeki 2nd Season  \\\n",
       "user_id                                                   \n",
       "1                                                   NaN   \n",
       "2                                                   NaN   \n",
       "3                                                   NaN   \n",
       "5                                                   NaN   \n",
       "7                                                   NaN   \n",
       "\n",
       "name     2020 Nyeon Ujuui Wonder Kiddy  21 Emon  \\\n",
       "user_id                                           \n",
       "1                                  NaN      NaN   \n",
       "2                                  NaN      NaN   \n",
       "3                                  NaN      NaN   \n",
       "5                                  NaN      NaN   \n",
       "7                                  NaN      NaN   \n",
       "\n",
       "name     3 Choume no Tama: Uchi no Tama Shirimasenka?  ...  Zombie-Loan  \\\n",
       "user_id                                                ...                \n",
       "1                                                 NaN  ...          NaN   \n",
       "2                                                 NaN  ...          NaN   \n",
       "3                                                 NaN  ...          7.0   \n",
       "5                                                 NaN  ...          NaN   \n",
       "7                                                 NaN  ...          NaN   \n",
       "\n",
       "name     Zone of the Enders: Dolores, I  Zukkoke Knight: Don De La Mancha  \\\n",
       "user_id                                                                     \n",
       "1                                   NaN                               NaN   \n",
       "2                                   NaN                               NaN   \n",
       "3                                   NaN                               NaN   \n",
       "5                                   NaN                               NaN   \n",
       "7                                   NaN                               NaN   \n",
       "\n",
       "name     ef: A Tale of Melodies.  ef: A Tale of Memories.  gdgd Fairies  \\\n",
       "user_id                                                                   \n",
       "1                            NaN                      NaN           NaN   \n",
       "2                            NaN                      NaN           NaN   \n",
       "3                            NaN                      NaN           NaN   \n",
       "5                            NaN                      NaN           NaN   \n",
       "7                            NaN                      NaN           NaN   \n",
       "\n",
       "name     gdgd Fairies 2  s.CRY.ed  xxxHOLiC  xxxHOLiC Kei  \n",
       "user_id                                                    \n",
       "1                   NaN       NaN       NaN           NaN  \n",
       "2                   NaN       NaN       NaN           NaN  \n",
       "3                   NaN       NaN       NaN           NaN  \n",
       "5                   NaN       NaN       2.0           NaN  \n",
       "7                   NaN       NaN       NaN           NaN  \n",
       "\n",
       "[5 rows x 2968 columns]"
      ]
     },
     "execution_count": 9,
     "metadata": {},
     "output_type": "execute_result"
    }
   ],
   "source": [
    "print(piv.shape)\n",
    "piv.head()"
   ]
  },
  {
   "cell_type": "code",
   "execution_count": null,
   "metadata": {
    "ExecuteTime": {
     "start_time": "2020-05-23T01:37:04.290Z"
    },
    "_cell_guid": "a7632dde-c89f-3103-cb1e-36b23d530628"
   },
   "outputs": [],
   "source": [
    "# Note: As we are subtracting the mean from each rating to standardize\n",
    "# all users with only one rating or who had rated everything the same will be dropped\n",
    "\n",
    "# Normalize the values\n",
    "piv_norm = piv.apply(lambda x: (x-np.mean(x))/(np.max(x)-np.min(x)), axis=1)\n",
    "\n",
    "\n",
    "# Drop all columns containing only zeros representing users who did not rate\n",
    "piv_norm.fillna(0, inplace=True)\n",
    "piv_norm = piv_norm.T\n",
    "piv_norm = piv_norm.loc[:, (piv_norm != 0).any(axis=0)]\n",
    "print(piv_norm.shape)\n",
    "piv_norm.head()"
   ]
  },
  {
   "cell_type": "code",
   "execution_count": null,
   "metadata": {
    "ExecuteTime": {
     "start_time": "2020-05-23T01:37:04.375Z"
    },
    "_cell_guid": "1784d9ce-6851-6388-dd05-0ff26493d268"
   },
   "outputs": [],
   "source": [
    "# Our data needs to be in a sparse matrix format to be read by the following functions\n",
    "\n",
    "piv_sparse = sp.sparse.csr_matrix(piv_norm.values)"
   ]
  },
  {
   "cell_type": "markdown",
   "metadata": {
    "_cell_guid": "56f295e3-153f-5628-f309-559b5494e30c"
   },
   "source": [
    "These matrices show us the computed cosine similarity values \n",
    "between each user/user array pair and item/item array pair."
   ]
  },
  {
   "cell_type": "code",
   "execution_count": null,
   "metadata": {
    "ExecuteTime": {
     "start_time": "2020-05-23T01:37:04.788Z"
    },
    "_cell_guid": "7fa31240-3634-73e3-f0a1-9e8ecfb399dc"
   },
   "outputs": [],
   "source": [
    "item_similarity = cosine_similarity(piv_sparse)\n",
    "user_similarity = cosine_similarity(piv_sparse.T)"
   ]
  },
  {
   "cell_type": "code",
   "execution_count": null,
   "metadata": {
    "ExecuteTime": {
     "start_time": "2020-05-23T01:37:04.971Z"
    },
    "_cell_guid": "49228028-329f-cafa-6a31-87e27c2a7e54"
   },
   "outputs": [],
   "source": [
    "# Inserting the similarity matricies into dataframe objects\n",
    "\n",
    "item_sim_df = pd.DataFrame(item_similarity, index = piv_norm.index, columns = piv_norm.index)\n",
    "user_sim_df = pd.DataFrame(user_similarity, index = piv_norm.columns, columns = piv_norm.columns)"
   ]
  },
  {
   "cell_type": "code",
   "execution_count": null,
   "metadata": {
    "ExecuteTime": {
     "start_time": "2020-05-23T01:37:05.148Z"
    },
    "_cell_guid": "5cd7919d-163a-7fd8-da8e-c06ce1d705f1"
   },
   "outputs": [],
   "source": [
    "# This function will return the top 10 shows with the highest cosine similarity value\n",
    "\n",
    "def top_animes(anime_name):\n",
    "    count = 1\n",
    "    print(f'Similar shows to {anime_name} include:\\n')\n",
    "    for item in item_sim_df.sort_values(by = anime_name, ascending = False).index[1:11]:\n",
    "        print(f'No. {count}: {item}')\n",
    "        count +=1"
   ]
  },
  {
   "cell_type": "code",
   "execution_count": null,
   "metadata": {
    "ExecuteTime": {
     "start_time": "2020-05-23T01:37:05.273Z"
    },
    "_cell_guid": "725964d6-986f-d34b-a616-c10b4f504fc7"
   },
   "outputs": [],
   "source": [
    "# This function will return the top 5 users with the highest similarity value \n",
    "\n",
    "def top_users(user):\n",
    "    \n",
    "    if user not in piv_norm.columns:\n",
    "        return(f'No data available on user {user}')\n",
    "    \n",
    "    print('Most Similar Users:\\n')\n",
    "    sim_values = user_sim_df.sort_values(by=user, ascending=False).loc[:,user].tolist()[1:11]\n",
    "    sim_users = user_sim_df.sort_values(by=user, ascending=False).index[1:11]\n",
    "    zipped = zip(sim_users, sim_values,)\n",
    "    for user, sim in zipped:\n",
    "        print('User #{0}, Similarity value: {1:.2f}'.format(user, sim))"
   ]
  },
  {
   "cell_type": "code",
   "execution_count": null,
   "metadata": {
    "ExecuteTime": {
     "start_time": "2020-05-23T01:37:05.460Z"
    },
    "_cell_guid": "876a5010-0e99-7aa8-5e9c-e704181b81a3"
   },
   "outputs": [],
   "source": [
    "# This function constructs a list of lists containing the highest rated shows per similar user\n",
    "# and returns the name of the show along with the frequency it appears in the list\n",
    "\n",
    "def similar_user_recs(user):\n",
    "    \n",
    "    if user not in piv_norm.columns:\n",
    "        return('No data available on user {}'.format(user))\n",
    "    \n",
    "    sim_users = user_sim_df.sort_values(by=user, ascending=False).index[1:11]\n",
    "    best = []\n",
    "    most_common = {}\n",
    "    \n",
    "    for i in sim_users:\n",
    "        max_score = piv_norm.loc[:, i].max()\n",
    "        best.append(piv_norm[piv_norm.loc[:, i]==max_score].index.tolist())\n",
    "    for i in range(len(best)):\n",
    "        for j in best[i]:\n",
    "            if j in most_common:\n",
    "                most_common[j] += 1\n",
    "            else:\n",
    "                most_common[j] = 1\n",
    "    sorted_list = sorted(most_common.items(), key=operator.itemgetter(1), reverse=True)\n",
    "    return sorted_list[:5]    "
   ]
  },
  {
   "cell_type": "code",
   "execution_count": null,
   "metadata": {
    "ExecuteTime": {
     "start_time": "2020-05-23T01:37:05.640Z"
    },
    "_cell_guid": "55c0e789-caa4-3c6d-c062-f58fb8268a2e"
   },
   "outputs": [],
   "source": [
    "# This function constructs a list of lists containing the highest rated shows per similar user\n",
    "# and returns the name of the show along with the frequency it appears in the list\n",
    "\n",
    "def similar_user_recs(user):\n",
    "    \n",
    "    if user not in piv_norm.columns:\n",
    "        return(f'No data available on user {user}')\n",
    "    \n",
    "    sim_users = user_sim_df.sort_values(by=user, ascending=False).index[1:11]\n",
    "    best = []\n",
    "    most_common = {}\n",
    "    \n",
    "    for i in sim_users:\n",
    "        max_score = piv_norm.loc[:, i].max()\n",
    "        best.append(piv_norm[piv_norm.loc[:, i]==max_score].index.tolist())\n",
    "    for i in range(len(best)):\n",
    "        for j in best[i]:\n",
    "            if j in most_common:\n",
    "                most_common[j] += 1\n",
    "            else:\n",
    "                most_common[j] = 1\n",
    "    sorted_list = sorted(most_common.items(), key=operator.itemgetter(1), reverse=True)\n",
    "    return sorted_list[:5]"
   ]
  },
  {
   "cell_type": "code",
   "execution_count": null,
   "metadata": {
    "ExecuteTime": {
     "start_time": "2020-05-23T01:37:05.841Z"
    },
    "_cell_guid": "50988cb1-4034-4316-2638-d0b5954b0c26"
   },
   "outputs": [],
   "source": [
    "top_animes('Naruto')"
   ]
  },
  {
   "cell_type": "code",
   "execution_count": null,
   "metadata": {
    "ExecuteTime": {
     "start_time": "2020-05-23T01:37:06.016Z"
    },
    "_cell_guid": "360f71b5-86dd-166a-a235-4ae662449a77"
   },
   "outputs": [],
   "source": [
    "top_users(3)"
   ]
  },
  {
   "cell_type": "code",
   "execution_count": null,
   "metadata": {
    "ExecuteTime": {
     "start_time": "2020-05-23T01:37:06.184Z"
    },
    "_cell_guid": "99affa09-1a22-e7d0-7f39-f785cd8b89a4"
   },
   "outputs": [],
   "source": [
    "similar_user_recs(3)"
   ]
  },
  {
   "cell_type": "code",
   "execution_count": null,
   "metadata": {
    "ExecuteTime": {
     "start_time": "2020-05-23T01:37:06.357Z"
    },
    "_cell_guid": "007764c2-bafc-a061-d9a8-eb03a12e629f"
   },
   "outputs": [],
   "source": [
    "predicted_rating('Naruto', 3)"
   ]
  },
  {
   "cell_type": "markdown",
   "metadata": {
    "_cell_guid": "6c0f46ae-dcab-82d5-0023-fecf156b0a5f"
   },
   "source": [
    "Below we'll see how the predict_rating function performs compared to the observed rated values for user 3."
   ]
  },
  {
   "cell_type": "code",
   "execution_count": null,
   "metadata": {
    "ExecuteTime": {
     "start_time": "2020-05-23T01:37:06.688Z"
    },
    "_cell_guid": "1be578f6-4990-2a5a-a121-c4f2e63279a3"
   },
   "outputs": [],
   "source": [
    "# Creates a list of every show watched by user 3\n",
    "\n",
    "watched = piv.T[piv.loc[3,:]>0].index.tolist()"
   ]
  },
  {
   "cell_type": "code",
   "execution_count": null,
   "metadata": {
    "ExecuteTime": {
     "start_time": "2020-05-23T01:37:06.836Z"
    },
    "_cell_guid": "716aba34-a60a-2418-822c-8143d512da74"
   },
   "outputs": [],
   "source": [
    "# Make a list of the squared errors between actual and predicted value\n",
    "\n",
    "errors = []\n",
    "for i in watched:\n",
    "    actual=piv.loc[3, i]\n",
    "    predicted = predicted_rating(i, 3)\n",
    "    errors.append((actual-predicted)**2)"
   ]
  },
  {
   "cell_type": "code",
   "execution_count": null,
   "metadata": {
    "ExecuteTime": {
     "start_time": "2020-05-23T01:37:07.055Z"
    },
    "_cell_guid": "6c05ec3d-7874-6ff2-c0a9-7d732b3485cf"
   },
   "outputs": [],
   "source": [
    "# This is the average squared error for user 3\n",
    "np.mean(errors)"
   ]
  },
  {
   "cell_type": "code",
   "execution_count": null,
   "metadata": {},
   "outputs": [],
   "source": []
  }
 ],
 "metadata": {
  "_change_revision": 0,
  "_is_fork": false,
  "kernelspec": {
   "display_name": "Python 3",
   "language": "python",
   "name": "python3"
  },
  "language_info": {
   "codemirror_mode": {
    "name": "ipython",
    "version": 3
   },
   "file_extension": ".py",
   "mimetype": "text/x-python",
   "name": "python",
   "nbconvert_exporter": "python",
   "pygments_lexer": "ipython3",
   "version": "3.7.3"
  },
  "toc": {
   "base_numbering": 1,
   "nav_menu": {},
   "number_sections": true,
   "sideBar": true,
   "skip_h1_title": false,
   "title_cell": "Table of Contents",
   "title_sidebar": "Contents",
   "toc_cell": false,
   "toc_position": {},
   "toc_section_display": true,
   "toc_window_display": false
  },
  "varInspector": {
   "cols": {
    "lenName": 16,
    "lenType": 16,
    "lenVar": 40
   },
   "kernels_config": {
    "python": {
     "delete_cmd_postfix": "",
     "delete_cmd_prefix": "del ",
     "library": "var_list.py",
     "varRefreshCmd": "print(var_dic_list())"
    },
    "r": {
     "delete_cmd_postfix": ") ",
     "delete_cmd_prefix": "rm(",
     "library": "var_list.r",
     "varRefreshCmd": "cat(var_dic_list()) "
    }
   },
   "types_to_exclude": [
    "module",
    "function",
    "builtin_function_or_method",
    "instance",
    "_Feature"
   ],
   "window_display": false
  }
 },
 "nbformat": 4,
 "nbformat_minor": 1
}
