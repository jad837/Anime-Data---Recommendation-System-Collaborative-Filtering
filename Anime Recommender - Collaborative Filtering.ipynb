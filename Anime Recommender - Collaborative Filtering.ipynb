{
 "cells": [
  {
   "cell_type": "markdown",
   "metadata": {
    "_cell_guid": "cde0f61c-f6ab-40b6-a757-c9394566aa62"
   },
   "source": [
    "Here I want to make a simple recommender system to find the similarity between shows, users and to help me predict whether a user will enjoy a particular anime."
   ]
  },
  {
   "cell_type": "code",
   "execution_count": 129,
   "metadata": {
    "ExecuteTime": {
     "end_time": "2020-05-23T08:38:35.491985Z",
     "start_time": "2020-05-23T08:38:35.403508Z"
    },
    "_cell_guid": "27f2680b-e691-70e4-e762-1bca22449d14"
   },
   "outputs": [],
   "source": [
    "# Import relevant libraries \n",
    "\n",
    "import pandas as pd\n",
    "import numpy as np\n",
    "import scipy as sp\n",
    "import sklearn\n",
    "from sklearn.decomposition import TruncatedSVD\n",
    "from sklearn.metrics.pairwise import cosine_similarity\n",
    "import operator\n",
    "%matplotlib inline"
   ]
  },
  {
   "cell_type": "code",
   "execution_count": 130,
   "metadata": {
    "ExecuteTime": {
     "end_time": "2020-05-23T08:38:54.501676Z",
     "start_time": "2020-05-23T08:38:52.874653Z"
    },
    "_cell_guid": "f5c1d1b7-983a-daa8-27ab-d25011d1f669"
   },
   "outputs": [],
   "source": [
    "anime = pd.read_csv('myAnimelist-No_Hentai 2.csv')\n",
    "rating = pd.read_csv('/Users/SDMAN/Documents/Flatiron/Projects/rating.csv')"
   ]
  },
  {
   "cell_type": "markdown",
   "metadata": {},
   "source": [
    "Replacing -1 value with a null value"
   ]
  },
  {
   "cell_type": "code",
   "execution_count": 141,
   "metadata": {
    "ExecuteTime": {
     "end_time": "2020-05-23T08:45:07.014697Z",
     "start_time": "2020-05-23T08:45:06.676624Z"
    }
   },
   "outputs": [
    {
     "data": {
      "text/html": [
       "<div>\n",
       "<style scoped>\n",
       "    .dataframe tbody tr th:only-of-type {\n",
       "        vertical-align: middle;\n",
       "    }\n",
       "\n",
       "    .dataframe tbody tr th {\n",
       "        vertical-align: top;\n",
       "    }\n",
       "\n",
       "    .dataframe thead th {\n",
       "        text-align: right;\n",
       "    }\n",
       "</style>\n",
       "<table border=\"1\" class=\"dataframe\">\n",
       "  <thead>\n",
       "    <tr style=\"text-align: right;\">\n",
       "      <th></th>\n",
       "      <th>user_id</th>\n",
       "      <th>anime_id</th>\n",
       "      <th>rating</th>\n",
       "    </tr>\n",
       "  </thead>\n",
       "  <tbody>\n",
       "    <tr>\n",
       "      <th>0</th>\n",
       "      <td>1</td>\n",
       "      <td>20</td>\n",
       "      <td>NaN</td>\n",
       "    </tr>\n",
       "    <tr>\n",
       "      <th>1</th>\n",
       "      <td>1</td>\n",
       "      <td>24</td>\n",
       "      <td>NaN</td>\n",
       "    </tr>\n",
       "    <tr>\n",
       "      <th>2</th>\n",
       "      <td>1</td>\n",
       "      <td>79</td>\n",
       "      <td>NaN</td>\n",
       "    </tr>\n",
       "    <tr>\n",
       "      <th>3</th>\n",
       "      <td>1</td>\n",
       "      <td>226</td>\n",
       "      <td>NaN</td>\n",
       "    </tr>\n",
       "    <tr>\n",
       "      <th>4</th>\n",
       "      <td>1</td>\n",
       "      <td>241</td>\n",
       "      <td>NaN</td>\n",
       "    </tr>\n",
       "  </tbody>\n",
       "</table>\n",
       "</div>"
      ],
      "text/plain": [
       "   user_id  anime_id  rating\n",
       "0        1        20     NaN\n",
       "1        1        24     NaN\n",
       "2        1        79     NaN\n",
       "3        1       226     NaN\n",
       "4        1       241     NaN"
      ]
     },
     "execution_count": 141,
     "metadata": {},
     "output_type": "execute_result"
    }
   ],
   "source": [
    "rating.rating.replace({-1: np.nan}, inplace = True)\n",
    "rating.head()"
   ]
  },
  {
   "cell_type": "code",
   "execution_count": 142,
   "metadata": {
    "ExecuteTime": {
     "end_time": "2020-05-23T08:45:34.055471Z",
     "start_time": "2020-05-23T08:45:34.039092Z"
    }
   },
   "outputs": [
    {
     "data": {
      "text/html": [
       "<div>\n",
       "<style scoped>\n",
       "    .dataframe tbody tr th:only-of-type {\n",
       "        vertical-align: middle;\n",
       "    }\n",
       "\n",
       "    .dataframe tbody tr th {\n",
       "        vertical-align: top;\n",
       "    }\n",
       "\n",
       "    .dataframe thead th {\n",
       "        text-align: right;\n",
       "    }\n",
       "</style>\n",
       "<table border=\"1\" class=\"dataframe\">\n",
       "  <thead>\n",
       "    <tr style=\"text-align: right;\">\n",
       "      <th></th>\n",
       "      <th>user_id</th>\n",
       "      <th>anime_id</th>\n",
       "      <th>rating</th>\n",
       "    </tr>\n",
       "  </thead>\n",
       "  <tbody>\n",
       "    <tr>\n",
       "      <th>0</th>\n",
       "      <td>1</td>\n",
       "      <td>20</td>\n",
       "      <td>NaN</td>\n",
       "    </tr>\n",
       "    <tr>\n",
       "      <th>1</th>\n",
       "      <td>1</td>\n",
       "      <td>24</td>\n",
       "      <td>NaN</td>\n",
       "    </tr>\n",
       "    <tr>\n",
       "      <th>2</th>\n",
       "      <td>1</td>\n",
       "      <td>79</td>\n",
       "      <td>NaN</td>\n",
       "    </tr>\n",
       "    <tr>\n",
       "      <th>3</th>\n",
       "      <td>1</td>\n",
       "      <td>226</td>\n",
       "      <td>NaN</td>\n",
       "    </tr>\n",
       "    <tr>\n",
       "      <th>4</th>\n",
       "      <td>1</td>\n",
       "      <td>241</td>\n",
       "      <td>NaN</td>\n",
       "    </tr>\n",
       "  </tbody>\n",
       "</table>\n",
       "</div>"
      ],
      "text/plain": [
       "   user_id  anime_id  rating\n",
       "0        1        20     NaN\n",
       "1        1        24     NaN\n",
       "2        1        79     NaN\n",
       "3        1       226     NaN\n",
       "4        1       241     NaN"
      ]
     },
     "execution_count": 142,
     "metadata": {},
     "output_type": "execute_result"
    }
   ],
   "source": [
    "rating.head()"
   ]
  },
  {
   "cell_type": "markdown",
   "metadata": {},
   "source": [
    "Join the two dataframes on the anime_id columns"
   ]
  },
  {
   "cell_type": "code",
   "execution_count": 143,
   "metadata": {
    "ExecuteTime": {
     "end_time": "2020-05-23T08:47:13.860879Z",
     "start_time": "2020-05-23T08:47:13.814705Z"
    },
    "_cell_guid": "42760207-0e77-e6cc-03c1-5cb3d2107991",
    "scrolled": true
   },
   "outputs": [
    {
     "data": {
      "text/html": [
       "<div>\n",
       "<style scoped>\n",
       "    .dataframe tbody tr th:only-of-type {\n",
       "        vertical-align: middle;\n",
       "    }\n",
       "\n",
       "    .dataframe tbody tr th {\n",
       "        vertical-align: top;\n",
       "    }\n",
       "\n",
       "    .dataframe thead th {\n",
       "        text-align: right;\n",
       "    }\n",
       "</style>\n",
       "<table border=\"1\" class=\"dataframe\">\n",
       "  <thead>\n",
       "    <tr style=\"text-align: right;\">\n",
       "      <th></th>\n",
       "      <th>animeID</th>\n",
       "      <th>name</th>\n",
       "      <th>type</th>\n",
       "      <th>source</th>\n",
       "      <th>episodes</th>\n",
       "      <th>duration</th>\n",
       "      <th>genre</th>\n",
       "      <th>rating</th>\n",
       "      <th>score</th>\n",
       "      <th>scored_by</th>\n",
       "      <th>rank</th>\n",
       "      <th>popularity</th>\n",
       "      <th>members</th>\n",
       "      <th>favorites</th>\n",
       "    </tr>\n",
       "  </thead>\n",
       "  <tbody>\n",
       "    <tr>\n",
       "      <th>0</th>\n",
       "      <td>1</td>\n",
       "      <td>Cowboy Bebop</td>\n",
       "      <td>TV</td>\n",
       "      <td>Original</td>\n",
       "      <td>26</td>\n",
       "      <td>0:24:00</td>\n",
       "      <td>['Action', 'Adventure', 'Comedy', 'Drama', 'Sc...</td>\n",
       "      <td>R - 17+ (violence &amp; profanity)</td>\n",
       "      <td>8.81</td>\n",
       "      <td>405664</td>\n",
       "      <td>26</td>\n",
       "      <td>39</td>\n",
       "      <td>795733</td>\n",
       "      <td>43460</td>\n",
       "    </tr>\n",
       "    <tr>\n",
       "      <th>2</th>\n",
       "      <td>6</td>\n",
       "      <td>Trigun</td>\n",
       "      <td>TV</td>\n",
       "      <td>Manga</td>\n",
       "      <td>26</td>\n",
       "      <td>0:24:00</td>\n",
       "      <td>['Action', 'Sci-Fi', 'Adventure', 'Comedy', 'D...</td>\n",
       "      <td>PG-13 - Teens 13 or older</td>\n",
       "      <td>8.30</td>\n",
       "      <td>212537</td>\n",
       "      <td>255</td>\n",
       "      <td>146</td>\n",
       "      <td>408548</td>\n",
       "      <td>10432</td>\n",
       "    </tr>\n",
       "    <tr>\n",
       "      <th>3</th>\n",
       "      <td>7</td>\n",
       "      <td>Witch Hunter Robin</td>\n",
       "      <td>TV</td>\n",
       "      <td>Original</td>\n",
       "      <td>26</td>\n",
       "      <td>0:25:00</td>\n",
       "      <td>['Action', 'Magic', 'Police', 'Supernatural', ...</td>\n",
       "      <td>PG-13 - Teens 13 or older</td>\n",
       "      <td>7.33</td>\n",
       "      <td>32837</td>\n",
       "      <td>2371</td>\n",
       "      <td>1171</td>\n",
       "      <td>79397</td>\n",
       "      <td>537</td>\n",
       "    </tr>\n",
       "    <tr>\n",
       "      <th>4</th>\n",
       "      <td>8</td>\n",
       "      <td>Bouken Ou Beet</td>\n",
       "      <td>TV</td>\n",
       "      <td>Manga</td>\n",
       "      <td>52</td>\n",
       "      <td>0:23:00</td>\n",
       "      <td>['Adventure', 'Fantasy', 'Shounen', 'Supernatu...</td>\n",
       "      <td>PG - Children</td>\n",
       "      <td>7.03</td>\n",
       "      <td>4894</td>\n",
       "      <td>3544</td>\n",
       "      <td>3704</td>\n",
       "      <td>11708</td>\n",
       "      <td>14</td>\n",
       "    </tr>\n",
       "    <tr>\n",
       "      <th>5</th>\n",
       "      <td>16</td>\n",
       "      <td>Hachimitsu to Clover</td>\n",
       "      <td>TV</td>\n",
       "      <td>Manga</td>\n",
       "      <td>24</td>\n",
       "      <td>0:23:00</td>\n",
       "      <td>['Comedy', 'Drama', 'Josei', 'Romance', 'Slice...</td>\n",
       "      <td>PG-13 - Teens 13 or older</td>\n",
       "      <td>8.12</td>\n",
       "      <td>57065</td>\n",
       "      <td>419</td>\n",
       "      <td>536</td>\n",
       "      <td>172274</td>\n",
       "      <td>3752</td>\n",
       "    </tr>\n",
       "  </tbody>\n",
       "</table>\n",
       "</div>"
      ],
      "text/plain": [
       "   animeID                  name type    source  episodes duration  \\\n",
       "0        1          Cowboy Bebop   TV  Original        26  0:24:00   \n",
       "2        6                Trigun   TV     Manga        26  0:24:00   \n",
       "3        7    Witch Hunter Robin   TV  Original        26  0:25:00   \n",
       "4        8        Bouken Ou Beet   TV     Manga        52  0:23:00   \n",
       "5       16  Hachimitsu to Clover   TV     Manga        24  0:23:00   \n",
       "\n",
       "                                               genre  \\\n",
       "0  ['Action', 'Adventure', 'Comedy', 'Drama', 'Sc...   \n",
       "2  ['Action', 'Sci-Fi', 'Adventure', 'Comedy', 'D...   \n",
       "3  ['Action', 'Magic', 'Police', 'Supernatural', ...   \n",
       "4  ['Adventure', 'Fantasy', 'Shounen', 'Supernatu...   \n",
       "5  ['Comedy', 'Drama', 'Josei', 'Romance', 'Slice...   \n",
       "\n",
       "                           rating  score  scored_by  rank  popularity  \\\n",
       "0  R - 17+ (violence & profanity)   8.81     405664    26          39   \n",
       "2       PG-13 - Teens 13 or older   8.30     212537   255         146   \n",
       "3       PG-13 - Teens 13 or older   7.33      32837  2371        1171   \n",
       "4                   PG - Children   7.03       4894  3544        3704   \n",
       "5       PG-13 - Teens 13 or older   8.12      57065   419         536   \n",
       "\n",
       "   members  favorites  \n",
       "0   795733      43460  \n",
       "2   408548      10432  \n",
       "3    79397        537  \n",
       "4    11708         14  \n",
       "5   172274       3752  "
      ]
     },
     "execution_count": 143,
     "metadata": {},
     "output_type": "execute_result"
    }
   ],
   "source": [
    "# For this analysis I'm only interest in finding recommendations for the TV category\n",
    "\n",
    "anime_show = anime[anime['type']=='TV']\n",
    "anime_show.head()"
   ]
  },
  {
   "cell_type": "code",
   "execution_count": 144,
   "metadata": {
    "ExecuteTime": {
     "end_time": "2020-05-23T08:47:44.860259Z",
     "start_time": "2020-05-23T08:47:39.507680Z"
    },
    "_cell_guid": "333be05a-5492-67a2-a64c-154a52ac060f"
   },
   "outputs": [
    {
     "name": "stdout",
     "output_type": "stream",
     "text": [
      "(5185071, 16)\n"
     ]
    },
    {
     "data": {
      "text/html": [
       "<div>\n",
       "<style scoped>\n",
       "    .dataframe tbody tr th:only-of-type {\n",
       "        vertical-align: middle;\n",
       "    }\n",
       "\n",
       "    .dataframe tbody tr th {\n",
       "        vertical-align: top;\n",
       "    }\n",
       "\n",
       "    .dataframe thead th {\n",
       "        text-align: right;\n",
       "    }\n",
       "</style>\n",
       "<table border=\"1\" class=\"dataframe\">\n",
       "  <thead>\n",
       "    <tr style=\"text-align: right;\">\n",
       "      <th></th>\n",
       "      <th>user_id</th>\n",
       "      <th>anime_id</th>\n",
       "      <th>user_rating</th>\n",
       "      <th>name</th>\n",
       "      <th>type</th>\n",
       "      <th>source</th>\n",
       "      <th>episodes</th>\n",
       "      <th>duration</th>\n",
       "      <th>genre</th>\n",
       "      <th>rating</th>\n",
       "      <th>score</th>\n",
       "      <th>scored_by</th>\n",
       "      <th>rank</th>\n",
       "      <th>popularity</th>\n",
       "      <th>members</th>\n",
       "      <th>favorites</th>\n",
       "    </tr>\n",
       "  </thead>\n",
       "  <tbody>\n",
       "    <tr>\n",
       "      <th>0</th>\n",
       "      <td>1</td>\n",
       "      <td>20</td>\n",
       "      <td>NaN</td>\n",
       "      <td>Naruto</td>\n",
       "      <td>TV</td>\n",
       "      <td>Manga</td>\n",
       "      <td>220</td>\n",
       "      <td>0:23:00</td>\n",
       "      <td>['Action', 'Adventure', 'Comedy', 'Super Power...</td>\n",
       "      <td>PG-13 - Teens 13 or older</td>\n",
       "      <td>7.9</td>\n",
       "      <td>716412</td>\n",
       "      <td>705</td>\n",
       "      <td>10</td>\n",
       "      <td>1091313</td>\n",
       "      <td>39356</td>\n",
       "    </tr>\n",
       "    <tr>\n",
       "      <th>1</th>\n",
       "      <td>3</td>\n",
       "      <td>20</td>\n",
       "      <td>8.0</td>\n",
       "      <td>Naruto</td>\n",
       "      <td>TV</td>\n",
       "      <td>Manga</td>\n",
       "      <td>220</td>\n",
       "      <td>0:23:00</td>\n",
       "      <td>['Action', 'Adventure', 'Comedy', 'Super Power...</td>\n",
       "      <td>PG-13 - Teens 13 or older</td>\n",
       "      <td>7.9</td>\n",
       "      <td>716412</td>\n",
       "      <td>705</td>\n",
       "      <td>10</td>\n",
       "      <td>1091313</td>\n",
       "      <td>39356</td>\n",
       "    </tr>\n",
       "    <tr>\n",
       "      <th>2</th>\n",
       "      <td>5</td>\n",
       "      <td>20</td>\n",
       "      <td>6.0</td>\n",
       "      <td>Naruto</td>\n",
       "      <td>TV</td>\n",
       "      <td>Manga</td>\n",
       "      <td>220</td>\n",
       "      <td>0:23:00</td>\n",
       "      <td>['Action', 'Adventure', 'Comedy', 'Super Power...</td>\n",
       "      <td>PG-13 - Teens 13 or older</td>\n",
       "      <td>7.9</td>\n",
       "      <td>716412</td>\n",
       "      <td>705</td>\n",
       "      <td>10</td>\n",
       "      <td>1091313</td>\n",
       "      <td>39356</td>\n",
       "    </tr>\n",
       "    <tr>\n",
       "      <th>3</th>\n",
       "      <td>6</td>\n",
       "      <td>20</td>\n",
       "      <td>NaN</td>\n",
       "      <td>Naruto</td>\n",
       "      <td>TV</td>\n",
       "      <td>Manga</td>\n",
       "      <td>220</td>\n",
       "      <td>0:23:00</td>\n",
       "      <td>['Action', 'Adventure', 'Comedy', 'Super Power...</td>\n",
       "      <td>PG-13 - Teens 13 or older</td>\n",
       "      <td>7.9</td>\n",
       "      <td>716412</td>\n",
       "      <td>705</td>\n",
       "      <td>10</td>\n",
       "      <td>1091313</td>\n",
       "      <td>39356</td>\n",
       "    </tr>\n",
       "    <tr>\n",
       "      <th>4</th>\n",
       "      <td>10</td>\n",
       "      <td>20</td>\n",
       "      <td>NaN</td>\n",
       "      <td>Naruto</td>\n",
       "      <td>TV</td>\n",
       "      <td>Manga</td>\n",
       "      <td>220</td>\n",
       "      <td>0:23:00</td>\n",
       "      <td>['Action', 'Adventure', 'Comedy', 'Super Power...</td>\n",
       "      <td>PG-13 - Teens 13 or older</td>\n",
       "      <td>7.9</td>\n",
       "      <td>716412</td>\n",
       "      <td>705</td>\n",
       "      <td>10</td>\n",
       "      <td>1091313</td>\n",
       "      <td>39356</td>\n",
       "    </tr>\n",
       "  </tbody>\n",
       "</table>\n",
       "</div>"
      ],
      "text/plain": [
       "   user_id  anime_id  user_rating    name type source  episodes duration  \\\n",
       "0        1        20          NaN  Naruto   TV  Manga       220  0:23:00   \n",
       "1        3        20          8.0  Naruto   TV  Manga       220  0:23:00   \n",
       "2        5        20          6.0  Naruto   TV  Manga       220  0:23:00   \n",
       "3        6        20          NaN  Naruto   TV  Manga       220  0:23:00   \n",
       "4       10        20          NaN  Naruto   TV  Manga       220  0:23:00   \n",
       "\n",
       "                                               genre  \\\n",
       "0  ['Action', 'Adventure', 'Comedy', 'Super Power...   \n",
       "1  ['Action', 'Adventure', 'Comedy', 'Super Power...   \n",
       "2  ['Action', 'Adventure', 'Comedy', 'Super Power...   \n",
       "3  ['Action', 'Adventure', 'Comedy', 'Super Power...   \n",
       "4  ['Action', 'Adventure', 'Comedy', 'Super Power...   \n",
       "\n",
       "                      rating  score  scored_by  rank  popularity  members  \\\n",
       "0  PG-13 - Teens 13 or older    7.9     716412   705          10  1091313   \n",
       "1  PG-13 - Teens 13 or older    7.9     716412   705          10  1091313   \n",
       "2  PG-13 - Teens 13 or older    7.9     716412   705          10  1091313   \n",
       "3  PG-13 - Teens 13 or older    7.9     716412   705          10  1091313   \n",
       "4  PG-13 - Teens 13 or older    7.9     716412   705          10  1091313   \n",
       "\n",
       "   favorites  \n",
       "0      39356  \n",
       "1      39356  \n",
       "2      39356  \n",
       "3      39356  \n",
       "4      39356  "
      ]
     },
     "execution_count": 144,
     "metadata": {},
     "output_type": "execute_result"
    }
   ],
   "source": [
    "# Merging anime_show and rating dataframe with inner join\n",
    "merged = rating.merge(anime_show, left_on = 'anime_id', right_on = 'animeID', suffixes= ['_user', ''], how='inner')\n",
    "# Renaming column\n",
    "merged.rename(columns = {'rating_user':'user_rating'}, inplace = True)\n",
    "# Dropping extra column\n",
    "merged = merged.drop(columns=\"animeID\")\n",
    "print(merged.shape)\n",
    "merged.head()"
   ]
  },
  {
   "cell_type": "code",
   "execution_count": 145,
   "metadata": {
    "ExecuteTime": {
     "end_time": "2020-05-23T08:48:13.124387Z",
     "start_time": "2020-05-23T08:48:10.317242Z"
    },
    "scrolled": true
   },
   "outputs": [
    {
     "name": "stdout",
     "output_type": "stream",
     "text": [
      "(4284319, 16)\n"
     ]
    },
    {
     "data": {
      "text/html": [
       "<div>\n",
       "<style scoped>\n",
       "    .dataframe tbody tr th:only-of-type {\n",
       "        vertical-align: middle;\n",
       "    }\n",
       "\n",
       "    .dataframe tbody tr th {\n",
       "        vertical-align: top;\n",
       "    }\n",
       "\n",
       "    .dataframe thead th {\n",
       "        text-align: right;\n",
       "    }\n",
       "</style>\n",
       "<table border=\"1\" class=\"dataframe\">\n",
       "  <thead>\n",
       "    <tr style=\"text-align: right;\">\n",
       "      <th></th>\n",
       "      <th>user_id</th>\n",
       "      <th>anime_id</th>\n",
       "      <th>user_rating</th>\n",
       "      <th>name</th>\n",
       "      <th>type</th>\n",
       "      <th>source</th>\n",
       "      <th>episodes</th>\n",
       "      <th>duration</th>\n",
       "      <th>genre</th>\n",
       "      <th>rating</th>\n",
       "      <th>score</th>\n",
       "      <th>scored_by</th>\n",
       "      <th>rank</th>\n",
       "      <th>popularity</th>\n",
       "      <th>members</th>\n",
       "      <th>favorites</th>\n",
       "    </tr>\n",
       "  </thead>\n",
       "  <tbody>\n",
       "    <tr>\n",
       "      <th>1</th>\n",
       "      <td>3</td>\n",
       "      <td>20</td>\n",
       "      <td>8.0</td>\n",
       "      <td>Naruto</td>\n",
       "      <td>TV</td>\n",
       "      <td>Manga</td>\n",
       "      <td>220</td>\n",
       "      <td>0:23:00</td>\n",
       "      <td>['Action', 'Adventure', 'Comedy', 'Super Power...</td>\n",
       "      <td>PG-13 - Teens 13 or older</td>\n",
       "      <td>7.9</td>\n",
       "      <td>716412</td>\n",
       "      <td>705</td>\n",
       "      <td>10</td>\n",
       "      <td>1091313</td>\n",
       "      <td>39356</td>\n",
       "    </tr>\n",
       "    <tr>\n",
       "      <th>2</th>\n",
       "      <td>5</td>\n",
       "      <td>20</td>\n",
       "      <td>6.0</td>\n",
       "      <td>Naruto</td>\n",
       "      <td>TV</td>\n",
       "      <td>Manga</td>\n",
       "      <td>220</td>\n",
       "      <td>0:23:00</td>\n",
       "      <td>['Action', 'Adventure', 'Comedy', 'Super Power...</td>\n",
       "      <td>PG-13 - Teens 13 or older</td>\n",
       "      <td>7.9</td>\n",
       "      <td>716412</td>\n",
       "      <td>705</td>\n",
       "      <td>10</td>\n",
       "      <td>1091313</td>\n",
       "      <td>39356</td>\n",
       "    </tr>\n",
       "    <tr>\n",
       "      <th>5</th>\n",
       "      <td>21</td>\n",
       "      <td>20</td>\n",
       "      <td>8.0</td>\n",
       "      <td>Naruto</td>\n",
       "      <td>TV</td>\n",
       "      <td>Manga</td>\n",
       "      <td>220</td>\n",
       "      <td>0:23:00</td>\n",
       "      <td>['Action', 'Adventure', 'Comedy', 'Super Power...</td>\n",
       "      <td>PG-13 - Teens 13 or older</td>\n",
       "      <td>7.9</td>\n",
       "      <td>716412</td>\n",
       "      <td>705</td>\n",
       "      <td>10</td>\n",
       "      <td>1091313</td>\n",
       "      <td>39356</td>\n",
       "    </tr>\n",
       "    <tr>\n",
       "      <th>6</th>\n",
       "      <td>28</td>\n",
       "      <td>20</td>\n",
       "      <td>9.0</td>\n",
       "      <td>Naruto</td>\n",
       "      <td>TV</td>\n",
       "      <td>Manga</td>\n",
       "      <td>220</td>\n",
       "      <td>0:23:00</td>\n",
       "      <td>['Action', 'Adventure', 'Comedy', 'Super Power...</td>\n",
       "      <td>PG-13 - Teens 13 or older</td>\n",
       "      <td>7.9</td>\n",
       "      <td>716412</td>\n",
       "      <td>705</td>\n",
       "      <td>10</td>\n",
       "      <td>1091313</td>\n",
       "      <td>39356</td>\n",
       "    </tr>\n",
       "    <tr>\n",
       "      <th>7</th>\n",
       "      <td>34</td>\n",
       "      <td>20</td>\n",
       "      <td>9.0</td>\n",
       "      <td>Naruto</td>\n",
       "      <td>TV</td>\n",
       "      <td>Manga</td>\n",
       "      <td>220</td>\n",
       "      <td>0:23:00</td>\n",
       "      <td>['Action', 'Adventure', 'Comedy', 'Super Power...</td>\n",
       "      <td>PG-13 - Teens 13 or older</td>\n",
       "      <td>7.9</td>\n",
       "      <td>716412</td>\n",
       "      <td>705</td>\n",
       "      <td>10</td>\n",
       "      <td>1091313</td>\n",
       "      <td>39356</td>\n",
       "    </tr>\n",
       "  </tbody>\n",
       "</table>\n",
       "</div>"
      ],
      "text/plain": [
       "   user_id  anime_id  user_rating    name type source  episodes duration  \\\n",
       "1        3        20          8.0  Naruto   TV  Manga       220  0:23:00   \n",
       "2        5        20          6.0  Naruto   TV  Manga       220  0:23:00   \n",
       "5       21        20          8.0  Naruto   TV  Manga       220  0:23:00   \n",
       "6       28        20          9.0  Naruto   TV  Manga       220  0:23:00   \n",
       "7       34        20          9.0  Naruto   TV  Manga       220  0:23:00   \n",
       "\n",
       "                                               genre  \\\n",
       "1  ['Action', 'Adventure', 'Comedy', 'Super Power...   \n",
       "2  ['Action', 'Adventure', 'Comedy', 'Super Power...   \n",
       "5  ['Action', 'Adventure', 'Comedy', 'Super Power...   \n",
       "6  ['Action', 'Adventure', 'Comedy', 'Super Power...   \n",
       "7  ['Action', 'Adventure', 'Comedy', 'Super Power...   \n",
       "\n",
       "                      rating  score  scored_by  rank  popularity  members  \\\n",
       "1  PG-13 - Teens 13 or older    7.9     716412   705          10  1091313   \n",
       "2  PG-13 - Teens 13 or older    7.9     716412   705          10  1091313   \n",
       "5  PG-13 - Teens 13 or older    7.9     716412   705          10  1091313   \n",
       "6  PG-13 - Teens 13 or older    7.9     716412   705          10  1091313   \n",
       "7  PG-13 - Teens 13 or older    7.9     716412   705          10  1091313   \n",
       "\n",
       "   favorites  \n",
       "1      39356  \n",
       "2      39356  \n",
       "5      39356  \n",
       "6      39356  \n",
       "7      39356  "
      ]
     },
     "execution_count": 145,
     "metadata": {},
     "output_type": "execute_result"
    }
   ],
   "source": [
    "merged2 = merged.dropna()\n",
    "print(merged2.shape)\n",
    "merged2.head()"
   ]
  },
  {
   "cell_type": "markdown",
   "metadata": {
    "_cell_guid": "422fb6ee-644a-562f-ae27-99e759feaa6e"
   },
   "source": [
    "Pivoting table of users on one axis and tv show names along the other. This helps us in defining the similarity between users and shows to better predict who will like what."
   ]
  },
  {
   "cell_type": "code",
   "execution_count": 156,
   "metadata": {
    "ExecuteTime": {
     "end_time": "2020-05-23T08:55:11.225854Z",
     "start_time": "2020-05-23T08:54:30.610949Z"
    },
    "_cell_guid": "f7e42fe9-5cf2-c1fb-52ae-1d512c248a72"
   },
   "outputs": [],
   "source": [
    "piv = merged.pivot_table(index=['user_id'], columns=['name'], values='user_rating',fill_value=0)"
   ]
  },
  {
   "cell_type": "code",
   "execution_count": 157,
   "metadata": {
    "ExecuteTime": {
     "end_time": "2020-05-23T08:55:38.971704Z",
     "start_time": "2020-05-23T08:55:38.937154Z"
    },
    "_cell_guid": "978bc3ed-21c1-d563-13a8-f0b3056e8e7a"
   },
   "outputs": [
    {
     "name": "stdout",
     "output_type": "stream",
     "text": [
      "(68840, 2968)\n"
     ]
    },
    {
     "data": {
      "text/html": [
       "<div>\n",
       "<style scoped>\n",
       "    .dataframe tbody tr th:only-of-type {\n",
       "        vertical-align: middle;\n",
       "    }\n",
       "\n",
       "    .dataframe tbody tr th {\n",
       "        vertical-align: top;\n",
       "    }\n",
       "\n",
       "    .dataframe thead th {\n",
       "        text-align: right;\n",
       "    }\n",
       "</style>\n",
       "<table border=\"1\" class=\"dataframe\">\n",
       "  <thead>\n",
       "    <tr style=\"text-align: right;\">\n",
       "      <th>name</th>\n",
       "      <th>.hack//Roots</th>\n",
       "      <th>.hack//Sign</th>\n",
       "      <th>009-1</th>\n",
       "      <th>07-Ghost</th>\n",
       "      <th>11eyes</th>\n",
       "      <th>12-sai.: Chicchana Mune no Tokimeki</th>\n",
       "      <th>12-sai.: Chicchana Mune no Tokimeki 2nd Season</th>\n",
       "      <th>2020 Nyeon Ujuui Wonder Kiddy</th>\n",
       "      <th>21 Emon</th>\n",
       "      <th>3 Choume no Tama: Uchi no Tama Shirimasenka?</th>\n",
       "      <th>...</th>\n",
       "      <th>Zombie-Loan</th>\n",
       "      <th>Zone of the Enders: Dolores, I</th>\n",
       "      <th>Zukkoke Knight: Don De La Mancha</th>\n",
       "      <th>ef: A Tale of Melodies.</th>\n",
       "      <th>ef: A Tale of Memories.</th>\n",
       "      <th>gdgd Fairies</th>\n",
       "      <th>gdgd Fairies 2</th>\n",
       "      <th>s.CRY.ed</th>\n",
       "      <th>xxxHOLiC</th>\n",
       "      <th>xxxHOLiC Kei</th>\n",
       "    </tr>\n",
       "    <tr>\n",
       "      <th>user_id</th>\n",
       "      <th></th>\n",
       "      <th></th>\n",
       "      <th></th>\n",
       "      <th></th>\n",
       "      <th></th>\n",
       "      <th></th>\n",
       "      <th></th>\n",
       "      <th></th>\n",
       "      <th></th>\n",
       "      <th></th>\n",
       "      <th></th>\n",
       "      <th></th>\n",
       "      <th></th>\n",
       "      <th></th>\n",
       "      <th></th>\n",
       "      <th></th>\n",
       "      <th></th>\n",
       "      <th></th>\n",
       "      <th></th>\n",
       "      <th></th>\n",
       "      <th></th>\n",
       "    </tr>\n",
       "  </thead>\n",
       "  <tbody>\n",
       "    <tr>\n",
       "      <th>1</th>\n",
       "      <td>0</td>\n",
       "      <td>0</td>\n",
       "      <td>0</td>\n",
       "      <td>0</td>\n",
       "      <td>0</td>\n",
       "      <td>0</td>\n",
       "      <td>0</td>\n",
       "      <td>0</td>\n",
       "      <td>0</td>\n",
       "      <td>0</td>\n",
       "      <td>...</td>\n",
       "      <td>0</td>\n",
       "      <td>0</td>\n",
       "      <td>0</td>\n",
       "      <td>0</td>\n",
       "      <td>0</td>\n",
       "      <td>0</td>\n",
       "      <td>0</td>\n",
       "      <td>0</td>\n",
       "      <td>0</td>\n",
       "      <td>0</td>\n",
       "    </tr>\n",
       "    <tr>\n",
       "      <th>2</th>\n",
       "      <td>0</td>\n",
       "      <td>0</td>\n",
       "      <td>0</td>\n",
       "      <td>0</td>\n",
       "      <td>0</td>\n",
       "      <td>0</td>\n",
       "      <td>0</td>\n",
       "      <td>0</td>\n",
       "      <td>0</td>\n",
       "      <td>0</td>\n",
       "      <td>...</td>\n",
       "      <td>0</td>\n",
       "      <td>0</td>\n",
       "      <td>0</td>\n",
       "      <td>0</td>\n",
       "      <td>0</td>\n",
       "      <td>0</td>\n",
       "      <td>0</td>\n",
       "      <td>0</td>\n",
       "      <td>0</td>\n",
       "      <td>0</td>\n",
       "    </tr>\n",
       "    <tr>\n",
       "      <th>3</th>\n",
       "      <td>0</td>\n",
       "      <td>0</td>\n",
       "      <td>0</td>\n",
       "      <td>0</td>\n",
       "      <td>0</td>\n",
       "      <td>0</td>\n",
       "      <td>0</td>\n",
       "      <td>0</td>\n",
       "      <td>0</td>\n",
       "      <td>0</td>\n",
       "      <td>...</td>\n",
       "      <td>7</td>\n",
       "      <td>0</td>\n",
       "      <td>0</td>\n",
       "      <td>0</td>\n",
       "      <td>0</td>\n",
       "      <td>0</td>\n",
       "      <td>0</td>\n",
       "      <td>0</td>\n",
       "      <td>0</td>\n",
       "      <td>0</td>\n",
       "    </tr>\n",
       "    <tr>\n",
       "      <th>5</th>\n",
       "      <td>0</td>\n",
       "      <td>0</td>\n",
       "      <td>0</td>\n",
       "      <td>0</td>\n",
       "      <td>0</td>\n",
       "      <td>0</td>\n",
       "      <td>0</td>\n",
       "      <td>0</td>\n",
       "      <td>0</td>\n",
       "      <td>0</td>\n",
       "      <td>...</td>\n",
       "      <td>0</td>\n",
       "      <td>0</td>\n",
       "      <td>0</td>\n",
       "      <td>0</td>\n",
       "      <td>0</td>\n",
       "      <td>0</td>\n",
       "      <td>0</td>\n",
       "      <td>0</td>\n",
       "      <td>2</td>\n",
       "      <td>0</td>\n",
       "    </tr>\n",
       "    <tr>\n",
       "      <th>7</th>\n",
       "      <td>0</td>\n",
       "      <td>0</td>\n",
       "      <td>0</td>\n",
       "      <td>0</td>\n",
       "      <td>0</td>\n",
       "      <td>0</td>\n",
       "      <td>0</td>\n",
       "      <td>0</td>\n",
       "      <td>0</td>\n",
       "      <td>0</td>\n",
       "      <td>...</td>\n",
       "      <td>0</td>\n",
       "      <td>0</td>\n",
       "      <td>0</td>\n",
       "      <td>0</td>\n",
       "      <td>0</td>\n",
       "      <td>0</td>\n",
       "      <td>0</td>\n",
       "      <td>0</td>\n",
       "      <td>0</td>\n",
       "      <td>0</td>\n",
       "    </tr>\n",
       "  </tbody>\n",
       "</table>\n",
       "<p>5 rows × 2968 columns</p>\n",
       "</div>"
      ],
      "text/plain": [
       "name     .hack//Roots  .hack//Sign  009-1  07-Ghost  11eyes  \\\n",
       "user_id                                                       \n",
       "1                   0            0      0         0       0   \n",
       "2                   0            0      0         0       0   \n",
       "3                   0            0      0         0       0   \n",
       "5                   0            0      0         0       0   \n",
       "7                   0            0      0         0       0   \n",
       "\n",
       "name     12-sai.: Chicchana Mune no Tokimeki  \\\n",
       "user_id                                        \n",
       "1                                          0   \n",
       "2                                          0   \n",
       "3                                          0   \n",
       "5                                          0   \n",
       "7                                          0   \n",
       "\n",
       "name     12-sai.: Chicchana Mune no Tokimeki 2nd Season  \\\n",
       "user_id                                                   \n",
       "1                                                     0   \n",
       "2                                                     0   \n",
       "3                                                     0   \n",
       "5                                                     0   \n",
       "7                                                     0   \n",
       "\n",
       "name     2020 Nyeon Ujuui Wonder Kiddy  21 Emon  \\\n",
       "user_id                                           \n",
       "1                                    0        0   \n",
       "2                                    0        0   \n",
       "3                                    0        0   \n",
       "5                                    0        0   \n",
       "7                                    0        0   \n",
       "\n",
       "name     3 Choume no Tama: Uchi no Tama Shirimasenka?  ...  Zombie-Loan  \\\n",
       "user_id                                                ...                \n",
       "1                                                   0  ...            0   \n",
       "2                                                   0  ...            0   \n",
       "3                                                   0  ...            7   \n",
       "5                                                   0  ...            0   \n",
       "7                                                   0  ...            0   \n",
       "\n",
       "name     Zone of the Enders: Dolores, I  Zukkoke Knight: Don De La Mancha  \\\n",
       "user_id                                                                     \n",
       "1                                     0                                 0   \n",
       "2                                     0                                 0   \n",
       "3                                     0                                 0   \n",
       "5                                     0                                 0   \n",
       "7                                     0                                 0   \n",
       "\n",
       "name     ef: A Tale of Melodies.  ef: A Tale of Memories.  gdgd Fairies  \\\n",
       "user_id                                                                   \n",
       "1                              0                        0             0   \n",
       "2                              0                        0             0   \n",
       "3                              0                        0             0   \n",
       "5                              0                        0             0   \n",
       "7                              0                        0             0   \n",
       "\n",
       "name     gdgd Fairies 2  s.CRY.ed  xxxHOLiC  xxxHOLiC Kei  \n",
       "user_id                                                    \n",
       "1                     0         0         0             0  \n",
       "2                     0         0         0             0  \n",
       "3                     0         0         0             0  \n",
       "5                     0         0         2             0  \n",
       "7                     0         0         0             0  \n",
       "\n",
       "[5 rows x 2968 columns]"
      ]
     },
     "execution_count": 157,
     "metadata": {},
     "output_type": "execute_result"
    }
   ],
   "source": [
    "print(piv.shape)\n",
    "piv.head()"
   ]
  },
  {
   "cell_type": "code",
   "execution_count": 158,
   "metadata": {
    "ExecuteTime": {
     "end_time": "2020-05-23T08:56:05.984890Z",
     "start_time": "2020-05-23T08:56:04.581790Z"
    }
   },
   "outputs": [
    {
     "data": {
      "text/html": [
       "<div>\n",
       "<style scoped>\n",
       "    .dataframe tbody tr th:only-of-type {\n",
       "        vertical-align: middle;\n",
       "    }\n",
       "\n",
       "    .dataframe tbody tr th {\n",
       "        vertical-align: top;\n",
       "    }\n",
       "\n",
       "    .dataframe thead th {\n",
       "        text-align: right;\n",
       "    }\n",
       "</style>\n",
       "<table border=\"1\" class=\"dataframe\">\n",
       "  <thead>\n",
       "    <tr style=\"text-align: right;\">\n",
       "      <th></th>\n",
       "      <th>user_id</th>\n",
       "      <th>anime_id</th>\n",
       "      <th>user_rating</th>\n",
       "      <th>name</th>\n",
       "      <th>type</th>\n",
       "      <th>source</th>\n",
       "      <th>episodes</th>\n",
       "      <th>duration</th>\n",
       "      <th>genre</th>\n",
       "      <th>rating</th>\n",
       "      <th>score</th>\n",
       "      <th>scored_by</th>\n",
       "      <th>rank</th>\n",
       "      <th>popularity</th>\n",
       "      <th>members</th>\n",
       "      <th>favorites</th>\n",
       "    </tr>\n",
       "  </thead>\n",
       "  <tbody>\n",
       "    <tr>\n",
       "      <th>1</th>\n",
       "      <td>3</td>\n",
       "      <td>20</td>\n",
       "      <td>8.0</td>\n",
       "      <td>Naruto</td>\n",
       "      <td>TV</td>\n",
       "      <td>Manga</td>\n",
       "      <td>220</td>\n",
       "      <td>0:23:00</td>\n",
       "      <td>['Action', 'Adventure', 'Comedy', 'Super Power...</td>\n",
       "      <td>PG-13 - Teens 13 or older</td>\n",
       "      <td>7.9</td>\n",
       "      <td>716412</td>\n",
       "      <td>705</td>\n",
       "      <td>10</td>\n",
       "      <td>1091313</td>\n",
       "      <td>39356</td>\n",
       "    </tr>\n",
       "    <tr>\n",
       "      <th>2</th>\n",
       "      <td>5</td>\n",
       "      <td>20</td>\n",
       "      <td>6.0</td>\n",
       "      <td>Naruto</td>\n",
       "      <td>TV</td>\n",
       "      <td>Manga</td>\n",
       "      <td>220</td>\n",
       "      <td>0:23:00</td>\n",
       "      <td>['Action', 'Adventure', 'Comedy', 'Super Power...</td>\n",
       "      <td>PG-13 - Teens 13 or older</td>\n",
       "      <td>7.9</td>\n",
       "      <td>716412</td>\n",
       "      <td>705</td>\n",
       "      <td>10</td>\n",
       "      <td>1091313</td>\n",
       "      <td>39356</td>\n",
       "    </tr>\n",
       "    <tr>\n",
       "      <th>5</th>\n",
       "      <td>21</td>\n",
       "      <td>20</td>\n",
       "      <td>8.0</td>\n",
       "      <td>Naruto</td>\n",
       "      <td>TV</td>\n",
       "      <td>Manga</td>\n",
       "      <td>220</td>\n",
       "      <td>0:23:00</td>\n",
       "      <td>['Action', 'Adventure', 'Comedy', 'Super Power...</td>\n",
       "      <td>PG-13 - Teens 13 or older</td>\n",
       "      <td>7.9</td>\n",
       "      <td>716412</td>\n",
       "      <td>705</td>\n",
       "      <td>10</td>\n",
       "      <td>1091313</td>\n",
       "      <td>39356</td>\n",
       "    </tr>\n",
       "    <tr>\n",
       "      <th>6</th>\n",
       "      <td>28</td>\n",
       "      <td>20</td>\n",
       "      <td>9.0</td>\n",
       "      <td>Naruto</td>\n",
       "      <td>TV</td>\n",
       "      <td>Manga</td>\n",
       "      <td>220</td>\n",
       "      <td>0:23:00</td>\n",
       "      <td>['Action', 'Adventure', 'Comedy', 'Super Power...</td>\n",
       "      <td>PG-13 - Teens 13 or older</td>\n",
       "      <td>7.9</td>\n",
       "      <td>716412</td>\n",
       "      <td>705</td>\n",
       "      <td>10</td>\n",
       "      <td>1091313</td>\n",
       "      <td>39356</td>\n",
       "    </tr>\n",
       "    <tr>\n",
       "      <th>7</th>\n",
       "      <td>34</td>\n",
       "      <td>20</td>\n",
       "      <td>9.0</td>\n",
       "      <td>Naruto</td>\n",
       "      <td>TV</td>\n",
       "      <td>Manga</td>\n",
       "      <td>220</td>\n",
       "      <td>0:23:00</td>\n",
       "      <td>['Action', 'Adventure', 'Comedy', 'Super Power...</td>\n",
       "      <td>PG-13 - Teens 13 or older</td>\n",
       "      <td>7.9</td>\n",
       "      <td>716412</td>\n",
       "      <td>705</td>\n",
       "      <td>10</td>\n",
       "      <td>1091313</td>\n",
       "      <td>39356</td>\n",
       "    </tr>\n",
       "  </tbody>\n",
       "</table>\n",
       "</div>"
      ],
      "text/plain": [
       "   user_id  anime_id  user_rating    name type source  episodes duration  \\\n",
       "1        3        20          8.0  Naruto   TV  Manga       220  0:23:00   \n",
       "2        5        20          6.0  Naruto   TV  Manga       220  0:23:00   \n",
       "5       21        20          8.0  Naruto   TV  Manga       220  0:23:00   \n",
       "6       28        20          9.0  Naruto   TV  Manga       220  0:23:00   \n",
       "7       34        20          9.0  Naruto   TV  Manga       220  0:23:00   \n",
       "\n",
       "                                               genre  \\\n",
       "1  ['Action', 'Adventure', 'Comedy', 'Super Power...   \n",
       "2  ['Action', 'Adventure', 'Comedy', 'Super Power...   \n",
       "5  ['Action', 'Adventure', 'Comedy', 'Super Power...   \n",
       "6  ['Action', 'Adventure', 'Comedy', 'Super Power...   \n",
       "7  ['Action', 'Adventure', 'Comedy', 'Super Power...   \n",
       "\n",
       "                      rating  score  scored_by  rank  popularity  members  \\\n",
       "1  PG-13 - Teens 13 or older    7.9     716412   705          10  1091313   \n",
       "2  PG-13 - Teens 13 or older    7.9     716412   705          10  1091313   \n",
       "5  PG-13 - Teens 13 or older    7.9     716412   705          10  1091313   \n",
       "6  PG-13 - Teens 13 or older    7.9     716412   705          10  1091313   \n",
       "7  PG-13 - Teens 13 or older    7.9     716412   705          10  1091313   \n",
       "\n",
       "   favorites  \n",
       "1      39356  \n",
       "2      39356  \n",
       "5      39356  \n",
       "6      39356  \n",
       "7      39356  "
      ]
     },
     "execution_count": 158,
     "metadata": {},
     "output_type": "execute_result"
    }
   ],
   "source": [
    "# For computing reasons I'm limiting the dataframe length to 50,000 users\n",
    "\n",
    "# merged2=merged2[['user_id', 'name', 'user_rating']]\n",
    "# merged_sub= merged2[merged2.user_id <= 50000]\n",
    "# merged_sub.head()"
   ]
  },
  {
   "cell_type": "markdown",
   "metadata": {
    "ExecuteTime": {
     "end_time": "2020-05-23T05:39:38.932573Z",
     "start_time": "2020-05-23T05:39:38.927092Z"
    }
   },
   "source": [
    "Transposing the Matrix (eg. pivoted table)"
   ]
  },
  {
   "cell_type": "code",
   "execution_count": 159,
   "metadata": {
    "ExecuteTime": {
     "end_time": "2020-05-23T08:56:34.033960Z",
     "start_time": "2020-05-23T08:56:31.866644Z"
    }
   },
   "outputs": [
    {
     "data": {
      "text/plain": [
       "(2968, 68840)"
      ]
     },
     "execution_count": 159,
     "metadata": {},
     "output_type": "execute_result"
    }
   ],
   "source": [
    "X = piv.T\n",
    "X.shape"
   ]
  },
  {
   "cell_type": "markdown",
   "metadata": {},
   "source": [
    "Decomposing the Matrix - Lowering the total features"
   ]
  },
  {
   "cell_type": "code",
   "execution_count": 161,
   "metadata": {
    "ExecuteTime": {
     "end_time": "2020-05-23T08:57:38.221800Z",
     "start_time": "2020-05-23T08:57:34.639028Z"
    }
   },
   "outputs": [
    {
     "data": {
      "text/plain": [
       "(2968, 12)"
      ]
     },
     "execution_count": 161,
     "metadata": {},
     "output_type": "execute_result"
    }
   ],
   "source": [
    "# Truncates matrix in 12 Synthetic features\n",
    "SVD = TruncatedSVD(n_components=12,random_state=12)\n",
    "\n",
    "resultant_matrix = SVD.fit_transform(X)\n",
    "\n",
    "resultant_matrix.shape"
   ]
  },
  {
   "cell_type": "markdown",
   "metadata": {},
   "source": [
    "Generating a Correlation Matrix"
   ]
  },
  {
   "cell_type": "code",
   "execution_count": 162,
   "metadata": {
    "ExecuteTime": {
     "end_time": "2020-05-23T08:58:04.201486Z",
     "start_time": "2020-05-23T08:58:04.089795Z"
    }
   },
   "outputs": [
    {
     "data": {
      "text/plain": [
       "(2968, 2968)"
      ]
     },
     "execution_count": 162,
     "metadata": {},
     "output_type": "execute_result"
    }
   ],
   "source": [
    "corr_mat = np.corrcoef(resultant_matrix)\n",
    "corr_mat.shape\n"
   ]
  },
  {
   "cell_type": "code",
   "execution_count": 164,
   "metadata": {
    "ExecuteTime": {
     "end_time": "2020-05-23T08:58:42.806182Z",
     "start_time": "2020-05-23T08:58:42.801009Z"
    }
   },
   "outputs": [
    {
     "name": "stdout",
     "output_type": "stream",
     "text": [
      "1808\n"
     ]
    }
   ],
   "source": [
    "anime_titles = piv.columns\n",
    "anime_list = list(anime_titles)\n",
    "naruto_corr = anime_list.index('naruto'.title())\n",
    "print(naruto_corr)"
   ]
  },
  {
   "cell_type": "code",
   "execution_count": 165,
   "metadata": {
    "ExecuteTime": {
     "end_time": "2020-05-23T08:59:08.156583Z",
     "start_time": "2020-05-23T08:59:08.137301Z"
    }
   },
   "outputs": [
    {
     "data": {
      "text/plain": [
       "(2968,)"
      ]
     },
     "execution_count": 165,
     "metadata": {},
     "output_type": "execute_result"
    }
   ],
   "source": [
    "corr_naruto = corr_mat[int(naruto_corr)]\n",
    "corr_naruto.shape"
   ]
  },
  {
   "cell_type": "markdown",
   "metadata": {},
   "source": [
    "Recommending top 10% of Hightly Correlated Anime"
   ]
  },
  {
   "cell_type": "code",
   "execution_count": 206,
   "metadata": {
    "ExecuteTime": {
     "end_time": "2020-05-23T09:33:03.214382Z",
     "start_time": "2020-05-23T09:33:03.194973Z"
    },
    "scrolled": true
   },
   "outputs": [
    {
     "data": {
      "text/plain": [
       "['Bleach', 'Ghost in the Shell: Nyuumon Arise', 'Shaman King']"
      ]
     },
     "execution_count": 206,
     "metadata": {},
     "output_type": "execute_result"
    }
   ],
   "source": [
    "list(anime_titles[(corr_naruto<1.0)&(corr_naruto>0.9)])"
   ]
  },
  {
   "cell_type": "markdown",
   "metadata": {},
   "source": [
    "Function to recommend the top correlated Anime, (top inputted percentage)"
   ]
  },
  {
   "cell_type": "code",
   "execution_count": 266,
   "metadata": {
    "ExecuteTime": {
     "end_time": "2020-05-23T10:46:54.484281Z",
     "start_time": "2020-05-23T10:46:54.479338Z"
    }
   },
   "outputs": [],
   "source": [
    "def rec_anime(x,float):\n",
    "    x_corr = anime_list.index(f'{x.title()}')\n",
    "    x_corr\n",
    "    corr_x = corr_mat[x_corr]\n",
    "    print(f'{100-int(float*100)}% Correlational match to Anime: {x.title()}\\n')\n",
    "    corr_anime = list(anime_titles[(corr_x < 1.0) & (corr_x > (1.0-float))])\n",
    "    count = 1\n",
    "    for item in corr_anime:\n",
    "        print(f'No. {count}: {item}')\n",
    "        count +=1\n",
    "\n"
   ]
  },
  {
   "cell_type": "code",
   "execution_count": 267,
   "metadata": {
    "ExecuteTime": {
     "end_time": "2020-05-23T10:47:20.871680Z",
     "start_time": "2020-05-23T10:47:20.866785Z"
    }
   },
   "outputs": [
    {
     "name": "stdout",
     "output_type": "stream",
     "text": [
      "90% Correlational match to Anime: Naruto\n",
      "\n",
      "No. 1: Bleach\n",
      "No. 2: Ghost in the Shell: Nyuumon Arise\n",
      "No. 3: Shaman King\n"
     ]
    }
   ],
   "source": [
    "rec_anime('naruto',.1)"
   ]
  },
  {
   "cell_type": "code",
   "execution_count": 268,
   "metadata": {
    "ExecuteTime": {
     "end_time": "2020-05-23T10:47:45.612369Z",
     "start_time": "2020-05-23T10:47:45.591051Z"
    }
   },
   "outputs": [
    {
     "name": "stdout",
     "output_type": "stream",
     "text": [
      "80% Correlational match to Anime: Naruto\n",
      "\n",
      "No. 1: Afro Samurai\n",
      "No. 2: Air Gear\n",
      "No. 3: Ao no Exorcist\n",
      "No. 4: Blade\n",
      "No. 5: Bleach\n",
      "No. 6: Blue Dragon\n",
      "No. 7: Cybersix\n",
      "No. 8: Deadman Wonderland\n",
      "No. 9: Death Note\n",
      "No. 10: Devil May Cry\n",
      "No. 11: Dragon Ball\n",
      "No. 12: Dragon Ball GT\n",
      "No. 13: Dragon Ball Kai\n",
      "No. 14: Dragon Ball Z\n",
      "No. 15: Fairy Tail\n",
      "No. 16: Fullmetal Alchemist\n",
      "No. 17: Fullmetal Alchemist: Brotherhood\n",
      "No. 18: Gantz\n",
      "No. 19: Ghost in the Shell: Nyuumon Arise\n",
      "No. 20: Ghost in the Shell: Stand Alone Complex - Tachikoma na Hibi (TV)\n",
      "No. 21: Ginga Densetsu Weed\n",
      "No. 22: Hellsing\n",
      "No. 23: Highschool of the Dead\n",
      "No. 24: Hokuto no Ken: Raoh Gaiden Ten no Haoh\n",
      "No. 25: Hunter x Hunter\n",
      "No. 26: IGPX: Immortal Grand Prix (2005)\n",
      "No. 27: IGPX: Immortal Grand Prix (2005) 2nd Season\n",
      "No. 28: InuYasha\n",
      "No. 29: InuYasha: Kanketsu-hen\n",
      "No. 30: Juusen Battle Monsuno\n",
      "No. 31: Konjiki no Gash Bell!!\n",
      "No. 32: Maou Dante\n",
      "No. 33: Metal Fight Beyblade\n",
      "No. 34: Oban Star-Racers\n",
      "No. 35: Plawres Sanshirou\n",
      "No. 36: Pokemon\n",
      "No. 37: Rurouni Kenshin: Meiji Kenkaku Romantan\n",
      "No. 38: Saint Seiya\n",
      "No. 39: Shaman King\n",
      "No. 40: Shingeki no Kyojin\n",
      "No. 41: Soul Eater\n",
      "No. 42: Wolverine\n",
      "No. 43: X-Men\n",
      "No. 44: Yuu☆Yuu☆Hakusho\n",
      "No. 45: Yu☆Gi☆Oh!\n",
      "No. 46: Yu☆Gi☆Oh! Duel Monsters\n",
      "No. 47: Yu☆Gi☆Oh!: Duel Monsters GX\n",
      "No. 48: Zetman\n"
     ]
    }
   ],
   "source": [
    "rec_anime('naruto',0.2)"
   ]
  },
  {
   "cell_type": "code",
   "execution_count": null,
   "metadata": {},
   "outputs": [],
   "source": []
  }
 ],
 "metadata": {
  "_change_revision": 0,
  "_is_fork": false,
  "kernelspec": {
   "display_name": "Python 3",
   "language": "python",
   "name": "python3"
  },
  "language_info": {
   "codemirror_mode": {
    "name": "ipython",
    "version": 3
   },
   "file_extension": ".py",
   "mimetype": "text/x-python",
   "name": "python",
   "nbconvert_exporter": "python",
   "pygments_lexer": "ipython3",
   "version": "3.7.3"
  },
  "toc": {
   "base_numbering": 1,
   "nav_menu": {},
   "number_sections": true,
   "sideBar": true,
   "skip_h1_title": false,
   "title_cell": "Table of Contents",
   "title_sidebar": "Contents",
   "toc_cell": false,
   "toc_position": {},
   "toc_section_display": true,
   "toc_window_display": false
  },
  "varInspector": {
   "cols": {
    "lenName": 16,
    "lenType": 16,
    "lenVar": 40
   },
   "kernels_config": {
    "python": {
     "delete_cmd_postfix": "",
     "delete_cmd_prefix": "del ",
     "library": "var_list.py",
     "varRefreshCmd": "print(var_dic_list())"
    },
    "r": {
     "delete_cmd_postfix": ") ",
     "delete_cmd_prefix": "rm(",
     "library": "var_list.r",
     "varRefreshCmd": "cat(var_dic_list()) "
    }
   },
   "types_to_exclude": [
    "module",
    "function",
    "builtin_function_or_method",
    "instance",
    "_Feature"
   ],
   "window_display": false
  }
 },
 "nbformat": 4,
 "nbformat_minor": 1
}
