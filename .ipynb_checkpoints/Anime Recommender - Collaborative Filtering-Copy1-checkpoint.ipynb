{
 "cells": [
  {
   "cell_type": "markdown",
   "metadata": {
    "_cell_guid": "cde0f61c-f6ab-40b6-a757-c9394566aa62"
   },
   "source": [
    "Here I want to make a simple recommender system to find the similarity between shows, users and to help me predict whether a user will enjoy a particular anime."
   ]
  },
  {
   "cell_type": "code",
   "execution_count": 21,
   "metadata": {
    "ExecuteTime": {
     "end_time": "2020-05-23T05:41:17.976669Z",
     "start_time": "2020-05-23T05:41:17.967668Z"
    },
    "_cell_guid": "27f2680b-e691-70e4-e762-1bca22449d14"
   },
   "outputs": [],
   "source": [
    "# Import relevant libraries \n",
    "\n",
    "import pandas as pd\n",
    "import numpy as np\n",
    "import scipy as sp\n",
    "import sklearn\n",
    "from sklearn.decomposition import TruncatedSVD\n",
    "from sklearn.metrics.pairwise import cosine_similarity\n",
    "import operator\n",
    "%matplotlib inline"
   ]
  },
  {
   "cell_type": "code",
   "execution_count": 56,
   "metadata": {
    "ExecuteTime": {
     "end_time": "2020-05-23T07:36:02.127246Z",
     "start_time": "2020-05-23T07:35:55.769622Z"
    },
    "_cell_guid": "f5c1d1b7-983a-daa8-27ab-d25011d1f669"
   },
   "outputs": [],
   "source": [
    "anime = pd.read_csv('animes.csv').drop(columns=['synopsis','link'])\n",
    "rating = pd.read_csv('reviews.csv').drop(columns=['anime_uid','text','link','scores'])"
   ]
  },
  {
   "cell_type": "code",
   "execution_count": 57,
   "metadata": {
    "ExecuteTime": {
     "end_time": "2020-05-23T07:36:06.017111Z",
     "start_time": "2020-05-23T07:36:05.992382Z"
    },
    "scrolled": true
   },
   "outputs": [
    {
     "data": {
      "text/html": [
       "<div>\n",
       "<style scoped>\n",
       "    .dataframe tbody tr th:only-of-type {\n",
       "        vertical-align: middle;\n",
       "    }\n",
       "\n",
       "    .dataframe tbody tr th {\n",
       "        vertical-align: top;\n",
       "    }\n",
       "\n",
       "    .dataframe thead th {\n",
       "        text-align: right;\n",
       "    }\n",
       "</style>\n",
       "<table border=\"1\" class=\"dataframe\">\n",
       "  <thead>\n",
       "    <tr style=\"text-align: right;\">\n",
       "      <th></th>\n",
       "      <th>uid</th>\n",
       "      <th>title</th>\n",
       "      <th>genre</th>\n",
       "      <th>aired</th>\n",
       "      <th>episodes</th>\n",
       "      <th>members</th>\n",
       "      <th>popularity</th>\n",
       "      <th>ranked</th>\n",
       "      <th>score</th>\n",
       "      <th>img_url</th>\n",
       "    </tr>\n",
       "  </thead>\n",
       "  <tbody>\n",
       "    <tr>\n",
       "      <th>0</th>\n",
       "      <td>28891</td>\n",
       "      <td>Haikyuu!! Second Season</td>\n",
       "      <td>['Comedy', 'Sports', 'Drama', 'School', 'Shoun...</td>\n",
       "      <td>Oct 4, 2015 to Mar 27, 2016</td>\n",
       "      <td>25.0</td>\n",
       "      <td>489888</td>\n",
       "      <td>141</td>\n",
       "      <td>25.0</td>\n",
       "      <td>8.82</td>\n",
       "      <td>https://cdn.myanimelist.net/images/anime/9/766...</td>\n",
       "    </tr>\n",
       "    <tr>\n",
       "      <th>1</th>\n",
       "      <td>23273</td>\n",
       "      <td>Shigatsu wa Kimi no Uso</td>\n",
       "      <td>['Drama', 'Music', 'Romance', 'School', 'Shoun...</td>\n",
       "      <td>Oct 10, 2014 to Mar 20, 2015</td>\n",
       "      <td>22.0</td>\n",
       "      <td>995473</td>\n",
       "      <td>28</td>\n",
       "      <td>24.0</td>\n",
       "      <td>8.83</td>\n",
       "      <td>https://cdn.myanimelist.net/images/anime/3/671...</td>\n",
       "    </tr>\n",
       "    <tr>\n",
       "      <th>2</th>\n",
       "      <td>34599</td>\n",
       "      <td>Made in Abyss</td>\n",
       "      <td>['Sci-Fi', 'Adventure', 'Mystery', 'Drama', 'F...</td>\n",
       "      <td>Jul 7, 2017 to Sep 29, 2017</td>\n",
       "      <td>13.0</td>\n",
       "      <td>581663</td>\n",
       "      <td>98</td>\n",
       "      <td>23.0</td>\n",
       "      <td>8.83</td>\n",
       "      <td>https://cdn.myanimelist.net/images/anime/6/867...</td>\n",
       "    </tr>\n",
       "    <tr>\n",
       "      <th>3</th>\n",
       "      <td>5114</td>\n",
       "      <td>Fullmetal Alchemist: Brotherhood</td>\n",
       "      <td>['Action', 'Military', 'Adventure', 'Comedy', ...</td>\n",
       "      <td>Apr 5, 2009 to Jul 4, 2010</td>\n",
       "      <td>64.0</td>\n",
       "      <td>1615084</td>\n",
       "      <td>4</td>\n",
       "      <td>1.0</td>\n",
       "      <td>9.23</td>\n",
       "      <td>https://cdn.myanimelist.net/images/anime/1223/...</td>\n",
       "    </tr>\n",
       "    <tr>\n",
       "      <th>4</th>\n",
       "      <td>31758</td>\n",
       "      <td>Kizumonogatari III: Reiketsu-hen</td>\n",
       "      <td>['Action', 'Mystery', 'Supernatural', 'Vampire']</td>\n",
       "      <td>Jan 6, 2017</td>\n",
       "      <td>1.0</td>\n",
       "      <td>214621</td>\n",
       "      <td>502</td>\n",
       "      <td>22.0</td>\n",
       "      <td>8.83</td>\n",
       "      <td>https://cdn.myanimelist.net/images/anime/3/815...</td>\n",
       "    </tr>\n",
       "  </tbody>\n",
       "</table>\n",
       "</div>"
      ],
      "text/plain": [
       "     uid                             title  \\\n",
       "0  28891           Haikyuu!! Second Season   \n",
       "1  23273           Shigatsu wa Kimi no Uso   \n",
       "2  34599                     Made in Abyss   \n",
       "3   5114  Fullmetal Alchemist: Brotherhood   \n",
       "4  31758  Kizumonogatari III: Reiketsu-hen   \n",
       "\n",
       "                                               genre  \\\n",
       "0  ['Comedy', 'Sports', 'Drama', 'School', 'Shoun...   \n",
       "1  ['Drama', 'Music', 'Romance', 'School', 'Shoun...   \n",
       "2  ['Sci-Fi', 'Adventure', 'Mystery', 'Drama', 'F...   \n",
       "3  ['Action', 'Military', 'Adventure', 'Comedy', ...   \n",
       "4   ['Action', 'Mystery', 'Supernatural', 'Vampire']   \n",
       "\n",
       "                          aired  episodes  members  popularity  ranked  score  \\\n",
       "0   Oct 4, 2015 to Mar 27, 2016      25.0   489888         141    25.0   8.82   \n",
       "1  Oct 10, 2014 to Mar 20, 2015      22.0   995473          28    24.0   8.83   \n",
       "2   Jul 7, 2017 to Sep 29, 2017      13.0   581663          98    23.0   8.83   \n",
       "3    Apr 5, 2009 to Jul 4, 2010      64.0  1615084           4     1.0   9.23   \n",
       "4                   Jan 6, 2017       1.0   214621         502    22.0   8.83   \n",
       "\n",
       "                                             img_url  \n",
       "0  https://cdn.myanimelist.net/images/anime/9/766...  \n",
       "1  https://cdn.myanimelist.net/images/anime/3/671...  \n",
       "2  https://cdn.myanimelist.net/images/anime/6/867...  \n",
       "3  https://cdn.myanimelist.net/images/anime/1223/...  \n",
       "4  https://cdn.myanimelist.net/images/anime/3/815...  "
      ]
     },
     "execution_count": 57,
     "metadata": {},
     "output_type": "execute_result"
    }
   ],
   "source": [
    "anime.head()"
   ]
  },
  {
   "cell_type": "code",
   "execution_count": 58,
   "metadata": {
    "ExecuteTime": {
     "end_time": "2020-05-23T07:36:10.048063Z",
     "start_time": "2020-05-23T07:36:10.036181Z"
    }
   },
   "outputs": [
    {
     "data": {
      "text/html": [
       "<div>\n",
       "<style scoped>\n",
       "    .dataframe tbody tr th:only-of-type {\n",
       "        vertical-align: middle;\n",
       "    }\n",
       "\n",
       "    .dataframe tbody tr th {\n",
       "        vertical-align: top;\n",
       "    }\n",
       "\n",
       "    .dataframe thead th {\n",
       "        text-align: right;\n",
       "    }\n",
       "</style>\n",
       "<table border=\"1\" class=\"dataframe\">\n",
       "  <thead>\n",
       "    <tr style=\"text-align: right;\">\n",
       "      <th></th>\n",
       "      <th>uid</th>\n",
       "      <th>profile</th>\n",
       "      <th>score</th>\n",
       "    </tr>\n",
       "  </thead>\n",
       "  <tbody>\n",
       "    <tr>\n",
       "      <th>0</th>\n",
       "      <td>255938</td>\n",
       "      <td>DesolatePsyche</td>\n",
       "      <td>8</td>\n",
       "    </tr>\n",
       "    <tr>\n",
       "      <th>1</th>\n",
       "      <td>259117</td>\n",
       "      <td>baekbeans</td>\n",
       "      <td>10</td>\n",
       "    </tr>\n",
       "    <tr>\n",
       "      <th>2</th>\n",
       "      <td>253664</td>\n",
       "      <td>skrn</td>\n",
       "      <td>7</td>\n",
       "    </tr>\n",
       "    <tr>\n",
       "      <th>3</th>\n",
       "      <td>8254</td>\n",
       "      <td>edgewalker00</td>\n",
       "      <td>9</td>\n",
       "    </tr>\n",
       "    <tr>\n",
       "      <th>4</th>\n",
       "      <td>291149</td>\n",
       "      <td>aManOfCulture99</td>\n",
       "      <td>10</td>\n",
       "    </tr>\n",
       "  </tbody>\n",
       "</table>\n",
       "</div>"
      ],
      "text/plain": [
       "      uid          profile  score\n",
       "0  255938   DesolatePsyche      8\n",
       "1  259117        baekbeans     10\n",
       "2  253664             skrn      7\n",
       "3    8254     edgewalker00      9\n",
       "4  291149  aManOfCulture99     10"
      ]
     },
     "execution_count": 58,
     "metadata": {},
     "output_type": "execute_result"
    }
   ],
   "source": [
    "rating.head()"
   ]
  },
  {
   "cell_type": "markdown",
   "metadata": {},
   "source": [
    "Join the two dataframes on the anime_id columns"
   ]
  },
  {
   "cell_type": "code",
   "execution_count": 71,
   "metadata": {
    "ExecuteTime": {
     "end_time": "2020-05-23T07:40:18.739103Z",
     "start_time": "2020-05-23T07:40:18.662495Z"
    },
    "_cell_guid": "333be05a-5492-67a2-a64c-154a52ac060f"
   },
   "outputs": [
    {
     "name": "stdout",
     "output_type": "stream",
     "text": [
      "(12783, 12)\n"
     ]
    },
    {
     "data": {
      "text/html": [
       "<div>\n",
       "<style scoped>\n",
       "    .dataframe tbody tr th:only-of-type {\n",
       "        vertical-align: middle;\n",
       "    }\n",
       "\n",
       "    .dataframe tbody tr th {\n",
       "        vertical-align: top;\n",
       "    }\n",
       "\n",
       "    .dataframe thead th {\n",
       "        text-align: right;\n",
       "    }\n",
       "</style>\n",
       "<table border=\"1\" class=\"dataframe\">\n",
       "  <thead>\n",
       "    <tr style=\"text-align: right;\">\n",
       "      <th></th>\n",
       "      <th>anime_id</th>\n",
       "      <th>profile</th>\n",
       "      <th>user_rating</th>\n",
       "      <th>title</th>\n",
       "      <th>genre</th>\n",
       "      <th>aired</th>\n",
       "      <th>episodes</th>\n",
       "      <th>members</th>\n",
       "      <th>popularity</th>\n",
       "      <th>ranked</th>\n",
       "      <th>score</th>\n",
       "      <th>img_url</th>\n",
       "    </tr>\n",
       "  </thead>\n",
       "  <tbody>\n",
       "    <tr>\n",
       "      <th>0</th>\n",
       "      <td>29323</td>\n",
       "      <td>Slushpuppy282</td>\n",
       "      <td>7</td>\n",
       "      <td>Oyaji no, Imo no Kamisama.</td>\n",
       "      <td>['Slice of Life']</td>\n",
       "      <td>Dec 31, 2014</td>\n",
       "      <td>1.0</td>\n",
       "      <td>360</td>\n",
       "      <td>11732</td>\n",
       "      <td>8664.0</td>\n",
       "      <td>5.9</td>\n",
       "      <td>https://cdn.myanimelist.net/images/anime/2/705...</td>\n",
       "    </tr>\n",
       "    <tr>\n",
       "      <th>1</th>\n",
       "      <td>29323</td>\n",
       "      <td>Slushpuppy282</td>\n",
       "      <td>7</td>\n",
       "      <td>Oyaji no, Imo no Kamisama.</td>\n",
       "      <td>['Slice of Life']</td>\n",
       "      <td>Dec 31, 2014</td>\n",
       "      <td>1.0</td>\n",
       "      <td>360</td>\n",
       "      <td>11732</td>\n",
       "      <td>8664.0</td>\n",
       "      <td>5.9</td>\n",
       "      <td>https://cdn.myanimelist.net/images/anime/2/705...</td>\n",
       "    </tr>\n",
       "    <tr>\n",
       "      <th>2</th>\n",
       "      <td>30968</td>\n",
       "      <td>ParaParaJMo</td>\n",
       "      <td>9</td>\n",
       "      <td>Kokoro no Catchball</td>\n",
       "      <td>['Kids', 'Sports']</td>\n",
       "      <td>2005</td>\n",
       "      <td>1.0</td>\n",
       "      <td>100</td>\n",
       "      <td>15323</td>\n",
       "      <td>12764.0</td>\n",
       "      <td>6.7</td>\n",
       "      <td>https://cdn.myanimelist.net/images/anime/2/745...</td>\n",
       "    </tr>\n",
       "    <tr>\n",
       "      <th>3</th>\n",
       "      <td>30968</td>\n",
       "      <td>ParaParaJMo</td>\n",
       "      <td>9</td>\n",
       "      <td>Kokoro no Catchball</td>\n",
       "      <td>['Kids', 'Sports']</td>\n",
       "      <td>2005</td>\n",
       "      <td>1.0</td>\n",
       "      <td>100</td>\n",
       "      <td>15323</td>\n",
       "      <td>12764.0</td>\n",
       "      <td>6.7</td>\n",
       "      <td>https://cdn.myanimelist.net/images/anime/2/745...</td>\n",
       "    </tr>\n",
       "    <tr>\n",
       "      <th>4</th>\n",
       "      <td>38440</td>\n",
       "      <td>Jolon</td>\n",
       "      <td>9</td>\n",
       "      <td>Shikizakura</td>\n",
       "      <td>['Action', 'Sci-Fi', 'Drama']</td>\n",
       "      <td>2021 to ?</td>\n",
       "      <td>12.0</td>\n",
       "      <td>1419</td>\n",
       "      <td>8859</td>\n",
       "      <td>NaN</td>\n",
       "      <td>NaN</td>\n",
       "      <td>https://cdn.myanimelist.net/images/anime/1203/...</td>\n",
       "    </tr>\n",
       "  </tbody>\n",
       "</table>\n",
       "</div>"
      ],
      "text/plain": [
       "   anime_id        profile  user_rating                       title  \\\n",
       "0     29323  Slushpuppy282            7  Oyaji no, Imo no Kamisama.   \n",
       "1     29323  Slushpuppy282            7  Oyaji no, Imo no Kamisama.   \n",
       "2     30968    ParaParaJMo            9         Kokoro no Catchball   \n",
       "3     30968    ParaParaJMo            9         Kokoro no Catchball   \n",
       "4     38440          Jolon            9                 Shikizakura   \n",
       "\n",
       "                           genre         aired  episodes  members  popularity  \\\n",
       "0              ['Slice of Life']  Dec 31, 2014       1.0      360       11732   \n",
       "1              ['Slice of Life']  Dec 31, 2014       1.0      360       11732   \n",
       "2             ['Kids', 'Sports']          2005       1.0      100       15323   \n",
       "3             ['Kids', 'Sports']          2005       1.0      100       15323   \n",
       "4  ['Action', 'Sci-Fi', 'Drama']     2021 to ?      12.0     1419        8859   \n",
       "\n",
       "    ranked  score                                            img_url  \n",
       "0   8664.0    5.9  https://cdn.myanimelist.net/images/anime/2/705...  \n",
       "1   8664.0    5.9  https://cdn.myanimelist.net/images/anime/2/705...  \n",
       "2  12764.0    6.7  https://cdn.myanimelist.net/images/anime/2/745...  \n",
       "3  12764.0    6.7  https://cdn.myanimelist.net/images/anime/2/745...  \n",
       "4      NaN    NaN  https://cdn.myanimelist.net/images/anime/1203/...  "
      ]
     },
     "execution_count": 71,
     "metadata": {},
     "output_type": "execute_result"
    }
   ],
   "source": [
    "# Merging anime_show and rating dataframe with inner join\n",
    "merged = rating.merge(anime, on = 'uid', suffixes= ['_user', ''], how='inner')\n",
    "# Renaming column\n",
    "merged.rename(columns = {'uid':'anime_id'}, inplace = True)\n",
    "merged.rename(columns = {'score_user':'user_rating'}, inplace = True)\n",
    "# Dropping extra column\n",
    "print(merged.shape)\n",
    "merged.head()"
   ]
  },
  {
   "cell_type": "code",
   "execution_count": 72,
   "metadata": {
    "ExecuteTime": {
     "end_time": "2020-05-23T07:40:30.881012Z",
     "start_time": "2020-05-23T07:40:30.838345Z"
    },
    "scrolled": true
   },
   "outputs": [
    {
     "name": "stdout",
     "output_type": "stream",
     "text": [
      "(10636, 12)\n"
     ]
    },
    {
     "data": {
      "text/html": [
       "<div>\n",
       "<style scoped>\n",
       "    .dataframe tbody tr th:only-of-type {\n",
       "        vertical-align: middle;\n",
       "    }\n",
       "\n",
       "    .dataframe tbody tr th {\n",
       "        vertical-align: top;\n",
       "    }\n",
       "\n",
       "    .dataframe thead th {\n",
       "        text-align: right;\n",
       "    }\n",
       "</style>\n",
       "<table border=\"1\" class=\"dataframe\">\n",
       "  <thead>\n",
       "    <tr style=\"text-align: right;\">\n",
       "      <th></th>\n",
       "      <th>anime_id</th>\n",
       "      <th>profile</th>\n",
       "      <th>user_rating</th>\n",
       "      <th>title</th>\n",
       "      <th>genre</th>\n",
       "      <th>aired</th>\n",
       "      <th>episodes</th>\n",
       "      <th>members</th>\n",
       "      <th>popularity</th>\n",
       "      <th>ranked</th>\n",
       "      <th>score</th>\n",
       "      <th>img_url</th>\n",
       "    </tr>\n",
       "  </thead>\n",
       "  <tbody>\n",
       "    <tr>\n",
       "      <th>0</th>\n",
       "      <td>29323</td>\n",
       "      <td>Slushpuppy282</td>\n",
       "      <td>7</td>\n",
       "      <td>Oyaji no, Imo no Kamisama.</td>\n",
       "      <td>['Slice of Life']</td>\n",
       "      <td>Dec 31, 2014</td>\n",
       "      <td>1.0</td>\n",
       "      <td>360</td>\n",
       "      <td>11732</td>\n",
       "      <td>8664.0</td>\n",
       "      <td>5.9</td>\n",
       "      <td>https://cdn.myanimelist.net/images/anime/2/705...</td>\n",
       "    </tr>\n",
       "    <tr>\n",
       "      <th>1</th>\n",
       "      <td>29323</td>\n",
       "      <td>Slushpuppy282</td>\n",
       "      <td>7</td>\n",
       "      <td>Oyaji no, Imo no Kamisama.</td>\n",
       "      <td>['Slice of Life']</td>\n",
       "      <td>Dec 31, 2014</td>\n",
       "      <td>1.0</td>\n",
       "      <td>360</td>\n",
       "      <td>11732</td>\n",
       "      <td>8664.0</td>\n",
       "      <td>5.9</td>\n",
       "      <td>https://cdn.myanimelist.net/images/anime/2/705...</td>\n",
       "    </tr>\n",
       "    <tr>\n",
       "      <th>2</th>\n",
       "      <td>30968</td>\n",
       "      <td>ParaParaJMo</td>\n",
       "      <td>9</td>\n",
       "      <td>Kokoro no Catchball</td>\n",
       "      <td>['Kids', 'Sports']</td>\n",
       "      <td>2005</td>\n",
       "      <td>1.0</td>\n",
       "      <td>100</td>\n",
       "      <td>15323</td>\n",
       "      <td>12764.0</td>\n",
       "      <td>6.7</td>\n",
       "      <td>https://cdn.myanimelist.net/images/anime/2/745...</td>\n",
       "    </tr>\n",
       "    <tr>\n",
       "      <th>3</th>\n",
       "      <td>30968</td>\n",
       "      <td>ParaParaJMo</td>\n",
       "      <td>9</td>\n",
       "      <td>Kokoro no Catchball</td>\n",
       "      <td>['Kids', 'Sports']</td>\n",
       "      <td>2005</td>\n",
       "      <td>1.0</td>\n",
       "      <td>100</td>\n",
       "      <td>15323</td>\n",
       "      <td>12764.0</td>\n",
       "      <td>6.7</td>\n",
       "      <td>https://cdn.myanimelist.net/images/anime/2/745...</td>\n",
       "    </tr>\n",
       "    <tr>\n",
       "      <th>8</th>\n",
       "      <td>27501</td>\n",
       "      <td>Mimi_Taylor</td>\n",
       "      <td>9</td>\n",
       "      <td>Sore Ike! Anpanman: Anpanman to Tanoshii Nakam...</td>\n",
       "      <td>['Kids', 'Adventure', 'Fantasy']</td>\n",
       "      <td>Jul 24, 1999</td>\n",
       "      <td>1.0</td>\n",
       "      <td>171</td>\n",
       "      <td>13933</td>\n",
       "      <td>13953.0</td>\n",
       "      <td>7.1</td>\n",
       "      <td>https://cdn.myanimelist.net/images/anime/9/666...</td>\n",
       "    </tr>\n",
       "  </tbody>\n",
       "</table>\n",
       "</div>"
      ],
      "text/plain": [
       "   anime_id        profile  user_rating  \\\n",
       "0     29323  Slushpuppy282            7   \n",
       "1     29323  Slushpuppy282            7   \n",
       "2     30968    ParaParaJMo            9   \n",
       "3     30968    ParaParaJMo            9   \n",
       "8     27501    Mimi_Taylor            9   \n",
       "\n",
       "                                               title  \\\n",
       "0                         Oyaji no, Imo no Kamisama.   \n",
       "1                         Oyaji no, Imo no Kamisama.   \n",
       "2                                Kokoro no Catchball   \n",
       "3                                Kokoro no Catchball   \n",
       "8  Sore Ike! Anpanman: Anpanman to Tanoshii Nakam...   \n",
       "\n",
       "                              genre         aired  episodes  members  \\\n",
       "0                 ['Slice of Life']  Dec 31, 2014       1.0      360   \n",
       "1                 ['Slice of Life']  Dec 31, 2014       1.0      360   \n",
       "2                ['Kids', 'Sports']          2005       1.0      100   \n",
       "3                ['Kids', 'Sports']          2005       1.0      100   \n",
       "8  ['Kids', 'Adventure', 'Fantasy']  Jul 24, 1999       1.0      171   \n",
       "\n",
       "   popularity   ranked  score  \\\n",
       "0       11732   8664.0    5.9   \n",
       "1       11732   8664.0    5.9   \n",
       "2       15323  12764.0    6.7   \n",
       "3       15323  12764.0    6.7   \n",
       "8       13933  13953.0    7.1   \n",
       "\n",
       "                                             img_url  \n",
       "0  https://cdn.myanimelist.net/images/anime/2/705...  \n",
       "1  https://cdn.myanimelist.net/images/anime/2/705...  \n",
       "2  https://cdn.myanimelist.net/images/anime/2/745...  \n",
       "3  https://cdn.myanimelist.net/images/anime/2/745...  \n",
       "8  https://cdn.myanimelist.net/images/anime/9/666...  "
      ]
     },
     "execution_count": 72,
     "metadata": {},
     "output_type": "execute_result"
    }
   ],
   "source": [
    "merged2 = merged.dropna()\n",
    "print(merged2.shape)\n",
    "merged2.head()"
   ]
  },
  {
   "cell_type": "code",
   "execution_count": 8,
   "metadata": {
    "ExecuteTime": {
     "end_time": "2020-05-23T05:30:08.405516Z",
     "start_time": "2020-05-23T05:30:08.114453Z"
    }
   },
   "outputs": [
    {
     "data": {
      "text/html": [
       "<div>\n",
       "<style scoped>\n",
       "    .dataframe tbody tr th:only-of-type {\n",
       "        vertical-align: middle;\n",
       "    }\n",
       "\n",
       "    .dataframe tbody tr th {\n",
       "        vertical-align: top;\n",
       "    }\n",
       "\n",
       "    .dataframe thead th {\n",
       "        text-align: right;\n",
       "    }\n",
       "</style>\n",
       "<table border=\"1\" class=\"dataframe\">\n",
       "  <thead>\n",
       "    <tr style=\"text-align: right;\">\n",
       "      <th></th>\n",
       "      <th>user_id</th>\n",
       "      <th>anime_id</th>\n",
       "      <th>user_rating</th>\n",
       "      <th>name</th>\n",
       "      <th>type</th>\n",
       "      <th>source</th>\n",
       "      <th>episodes</th>\n",
       "      <th>duration</th>\n",
       "      <th>genre</th>\n",
       "      <th>rating</th>\n",
       "      <th>score</th>\n",
       "      <th>scored_by</th>\n",
       "      <th>rank</th>\n",
       "      <th>popularity</th>\n",
       "      <th>members</th>\n",
       "      <th>favorites</th>\n",
       "    </tr>\n",
       "  </thead>\n",
       "  <tbody>\n",
       "    <tr>\n",
       "      <th>1</th>\n",
       "      <td>3</td>\n",
       "      <td>20</td>\n",
       "      <td>8.0</td>\n",
       "      <td>Naruto</td>\n",
       "      <td>TV</td>\n",
       "      <td>Manga</td>\n",
       "      <td>220</td>\n",
       "      <td>0:23:00</td>\n",
       "      <td>['Action', 'Adventure', 'Comedy', 'Super Power...</td>\n",
       "      <td>PG-13 - Teens 13 or older</td>\n",
       "      <td>7.9</td>\n",
       "      <td>716412</td>\n",
       "      <td>705</td>\n",
       "      <td>10</td>\n",
       "      <td>1091313</td>\n",
       "      <td>39356</td>\n",
       "    </tr>\n",
       "    <tr>\n",
       "      <th>2</th>\n",
       "      <td>5</td>\n",
       "      <td>20</td>\n",
       "      <td>6.0</td>\n",
       "      <td>Naruto</td>\n",
       "      <td>TV</td>\n",
       "      <td>Manga</td>\n",
       "      <td>220</td>\n",
       "      <td>0:23:00</td>\n",
       "      <td>['Action', 'Adventure', 'Comedy', 'Super Power...</td>\n",
       "      <td>PG-13 - Teens 13 or older</td>\n",
       "      <td>7.9</td>\n",
       "      <td>716412</td>\n",
       "      <td>705</td>\n",
       "      <td>10</td>\n",
       "      <td>1091313</td>\n",
       "      <td>39356</td>\n",
       "    </tr>\n",
       "    <tr>\n",
       "      <th>5</th>\n",
       "      <td>21</td>\n",
       "      <td>20</td>\n",
       "      <td>8.0</td>\n",
       "      <td>Naruto</td>\n",
       "      <td>TV</td>\n",
       "      <td>Manga</td>\n",
       "      <td>220</td>\n",
       "      <td>0:23:00</td>\n",
       "      <td>['Action', 'Adventure', 'Comedy', 'Super Power...</td>\n",
       "      <td>PG-13 - Teens 13 or older</td>\n",
       "      <td>7.9</td>\n",
       "      <td>716412</td>\n",
       "      <td>705</td>\n",
       "      <td>10</td>\n",
       "      <td>1091313</td>\n",
       "      <td>39356</td>\n",
       "    </tr>\n",
       "    <tr>\n",
       "      <th>6</th>\n",
       "      <td>28</td>\n",
       "      <td>20</td>\n",
       "      <td>9.0</td>\n",
       "      <td>Naruto</td>\n",
       "      <td>TV</td>\n",
       "      <td>Manga</td>\n",
       "      <td>220</td>\n",
       "      <td>0:23:00</td>\n",
       "      <td>['Action', 'Adventure', 'Comedy', 'Super Power...</td>\n",
       "      <td>PG-13 - Teens 13 or older</td>\n",
       "      <td>7.9</td>\n",
       "      <td>716412</td>\n",
       "      <td>705</td>\n",
       "      <td>10</td>\n",
       "      <td>1091313</td>\n",
       "      <td>39356</td>\n",
       "    </tr>\n",
       "    <tr>\n",
       "      <th>7</th>\n",
       "      <td>34</td>\n",
       "      <td>20</td>\n",
       "      <td>9.0</td>\n",
       "      <td>Naruto</td>\n",
       "      <td>TV</td>\n",
       "      <td>Manga</td>\n",
       "      <td>220</td>\n",
       "      <td>0:23:00</td>\n",
       "      <td>['Action', 'Adventure', 'Comedy', 'Super Power...</td>\n",
       "      <td>PG-13 - Teens 13 or older</td>\n",
       "      <td>7.9</td>\n",
       "      <td>716412</td>\n",
       "      <td>705</td>\n",
       "      <td>10</td>\n",
       "      <td>1091313</td>\n",
       "      <td>39356</td>\n",
       "    </tr>\n",
       "  </tbody>\n",
       "</table>\n",
       "</div>"
      ],
      "text/plain": [
       "   user_id  anime_id  user_rating    name type source  episodes duration  \\\n",
       "1        3        20          8.0  Naruto   TV  Manga       220  0:23:00   \n",
       "2        5        20          6.0  Naruto   TV  Manga       220  0:23:00   \n",
       "5       21        20          8.0  Naruto   TV  Manga       220  0:23:00   \n",
       "6       28        20          9.0  Naruto   TV  Manga       220  0:23:00   \n",
       "7       34        20          9.0  Naruto   TV  Manga       220  0:23:00   \n",
       "\n",
       "                                               genre  \\\n",
       "1  ['Action', 'Adventure', 'Comedy', 'Super Power...   \n",
       "2  ['Action', 'Adventure', 'Comedy', 'Super Power...   \n",
       "5  ['Action', 'Adventure', 'Comedy', 'Super Power...   \n",
       "6  ['Action', 'Adventure', 'Comedy', 'Super Power...   \n",
       "7  ['Action', 'Adventure', 'Comedy', 'Super Power...   \n",
       "\n",
       "                      rating  score  scored_by  rank  popularity  members  \\\n",
       "1  PG-13 - Teens 13 or older    7.9     716412   705          10  1091313   \n",
       "2  PG-13 - Teens 13 or older    7.9     716412   705          10  1091313   \n",
       "5  PG-13 - Teens 13 or older    7.9     716412   705          10  1091313   \n",
       "6  PG-13 - Teens 13 or older    7.9     716412   705          10  1091313   \n",
       "7  PG-13 - Teens 13 or older    7.9     716412   705          10  1091313   \n",
       "\n",
       "   favorites  \n",
       "1      39356  \n",
       "2      39356  \n",
       "5      39356  \n",
       "6      39356  \n",
       "7      39356  "
      ]
     },
     "execution_count": 8,
     "metadata": {},
     "output_type": "execute_result"
    }
   ],
   "source": [
    "# For computing reasons I'm limiting the dataframe length to 50,000 users\n",
    "\n",
    "# merged2=merged2[['user_id', 'name', 'user_rating']]\n",
    "merged_sub= merged2[merged2.user_id <= 50000]\n",
    "merged_sub.head()"
   ]
  },
  {
   "cell_type": "markdown",
   "metadata": {
    "_cell_guid": "422fb6ee-644a-562f-ae27-99e759feaa6e"
   },
   "source": [
    "Pivoting table of users on one axis and tv show names along the other. This helps us in defining the similarity between users and shows to better predict who will like what."
   ]
  },
  {
   "cell_type": "code",
   "execution_count": 73,
   "metadata": {
    "ExecuteTime": {
     "end_time": "2020-05-23T07:41:23.565196Z",
     "start_time": "2020-05-23T07:40:59.501450Z"
    },
    "_cell_guid": "f7e42fe9-5cf2-c1fb-52ae-1d512c248a72"
   },
   "outputs": [],
   "source": [
    "piv = merged_sub.pivot_table(index=['user_id'], columns=['name'], values='user_rating',fill_value=0) #"
   ]
  },
  {
   "cell_type": "code",
   "execution_count": 74,
   "metadata": {
    "ExecuteTime": {
     "end_time": "2020-05-23T07:41:28.111624Z",
     "start_time": "2020-05-23T07:41:28.078503Z"
    },
    "_cell_guid": "978bc3ed-21c1-d563-13a8-f0b3056e8e7a",
    "scrolled": true
   },
   "outputs": [
    {
     "name": "stdout",
     "output_type": "stream",
     "text": [
      "(46792, 2922)\n"
     ]
    },
    {
     "data": {
      "text/html": [
       "<div>\n",
       "<style scoped>\n",
       "    .dataframe tbody tr th:only-of-type {\n",
       "        vertical-align: middle;\n",
       "    }\n",
       "\n",
       "    .dataframe tbody tr th {\n",
       "        vertical-align: top;\n",
       "    }\n",
       "\n",
       "    .dataframe thead th {\n",
       "        text-align: right;\n",
       "    }\n",
       "</style>\n",
       "<table border=\"1\" class=\"dataframe\">\n",
       "  <thead>\n",
       "    <tr style=\"text-align: right;\">\n",
       "      <th>name</th>\n",
       "      <th>.hack//Roots</th>\n",
       "      <th>.hack//Sign</th>\n",
       "      <th>009-1</th>\n",
       "      <th>07-Ghost</th>\n",
       "      <th>11eyes</th>\n",
       "      <th>12-sai.: Chicchana Mune no Tokimeki</th>\n",
       "      <th>12-sai.: Chicchana Mune no Tokimeki 2nd Season</th>\n",
       "      <th>3 Choume no Tama: Uchi no Tama Shirimasenka?</th>\n",
       "      <th>30-sai no Hoken Taiiku</th>\n",
       "      <th>91 Days</th>\n",
       "      <th>...</th>\n",
       "      <th>Zombie-Loan</th>\n",
       "      <th>Zone of the Enders: Dolores, I</th>\n",
       "      <th>Zukkoke Knight: Don De La Mancha</th>\n",
       "      <th>ef: A Tale of Melodies.</th>\n",
       "      <th>ef: A Tale of Memories.</th>\n",
       "      <th>gdgd Fairies</th>\n",
       "      <th>gdgd Fairies 2</th>\n",
       "      <th>s.CRY.ed</th>\n",
       "      <th>xxxHOLiC</th>\n",
       "      <th>xxxHOLiC Kei</th>\n",
       "    </tr>\n",
       "    <tr>\n",
       "      <th>user_id</th>\n",
       "      <th></th>\n",
       "      <th></th>\n",
       "      <th></th>\n",
       "      <th></th>\n",
       "      <th></th>\n",
       "      <th></th>\n",
       "      <th></th>\n",
       "      <th></th>\n",
       "      <th></th>\n",
       "      <th></th>\n",
       "      <th></th>\n",
       "      <th></th>\n",
       "      <th></th>\n",
       "      <th></th>\n",
       "      <th></th>\n",
       "      <th></th>\n",
       "      <th></th>\n",
       "      <th></th>\n",
       "      <th></th>\n",
       "      <th></th>\n",
       "      <th></th>\n",
       "    </tr>\n",
       "  </thead>\n",
       "  <tbody>\n",
       "    <tr>\n",
       "      <th>1</th>\n",
       "      <td>0</td>\n",
       "      <td>0</td>\n",
       "      <td>0</td>\n",
       "      <td>0</td>\n",
       "      <td>0</td>\n",
       "      <td>0</td>\n",
       "      <td>0</td>\n",
       "      <td>0</td>\n",
       "      <td>0</td>\n",
       "      <td>0</td>\n",
       "      <td>...</td>\n",
       "      <td>0</td>\n",
       "      <td>0</td>\n",
       "      <td>0</td>\n",
       "      <td>0</td>\n",
       "      <td>0</td>\n",
       "      <td>0</td>\n",
       "      <td>0</td>\n",
       "      <td>0</td>\n",
       "      <td>0</td>\n",
       "      <td>0</td>\n",
       "    </tr>\n",
       "    <tr>\n",
       "      <th>2</th>\n",
       "      <td>0</td>\n",
       "      <td>0</td>\n",
       "      <td>0</td>\n",
       "      <td>0</td>\n",
       "      <td>0</td>\n",
       "      <td>0</td>\n",
       "      <td>0</td>\n",
       "      <td>0</td>\n",
       "      <td>0</td>\n",
       "      <td>0</td>\n",
       "      <td>...</td>\n",
       "      <td>0</td>\n",
       "      <td>0</td>\n",
       "      <td>0</td>\n",
       "      <td>0</td>\n",
       "      <td>0</td>\n",
       "      <td>0</td>\n",
       "      <td>0</td>\n",
       "      <td>0</td>\n",
       "      <td>0</td>\n",
       "      <td>0</td>\n",
       "    </tr>\n",
       "    <tr>\n",
       "      <th>3</th>\n",
       "      <td>0</td>\n",
       "      <td>0</td>\n",
       "      <td>0</td>\n",
       "      <td>0</td>\n",
       "      <td>0</td>\n",
       "      <td>0</td>\n",
       "      <td>0</td>\n",
       "      <td>0</td>\n",
       "      <td>0</td>\n",
       "      <td>0</td>\n",
       "      <td>...</td>\n",
       "      <td>7</td>\n",
       "      <td>0</td>\n",
       "      <td>0</td>\n",
       "      <td>0</td>\n",
       "      <td>0</td>\n",
       "      <td>0</td>\n",
       "      <td>0</td>\n",
       "      <td>0</td>\n",
       "      <td>0</td>\n",
       "      <td>0</td>\n",
       "    </tr>\n",
       "    <tr>\n",
       "      <th>5</th>\n",
       "      <td>0</td>\n",
       "      <td>0</td>\n",
       "      <td>0</td>\n",
       "      <td>0</td>\n",
       "      <td>0</td>\n",
       "      <td>0</td>\n",
       "      <td>0</td>\n",
       "      <td>0</td>\n",
       "      <td>0</td>\n",
       "      <td>0</td>\n",
       "      <td>...</td>\n",
       "      <td>0</td>\n",
       "      <td>0</td>\n",
       "      <td>0</td>\n",
       "      <td>0</td>\n",
       "      <td>0</td>\n",
       "      <td>0</td>\n",
       "      <td>0</td>\n",
       "      <td>0</td>\n",
       "      <td>2</td>\n",
       "      <td>0</td>\n",
       "    </tr>\n",
       "    <tr>\n",
       "      <th>7</th>\n",
       "      <td>0</td>\n",
       "      <td>0</td>\n",
       "      <td>0</td>\n",
       "      <td>0</td>\n",
       "      <td>0</td>\n",
       "      <td>0</td>\n",
       "      <td>0</td>\n",
       "      <td>0</td>\n",
       "      <td>0</td>\n",
       "      <td>0</td>\n",
       "      <td>...</td>\n",
       "      <td>0</td>\n",
       "      <td>0</td>\n",
       "      <td>0</td>\n",
       "      <td>0</td>\n",
       "      <td>0</td>\n",
       "      <td>0</td>\n",
       "      <td>0</td>\n",
       "      <td>0</td>\n",
       "      <td>0</td>\n",
       "      <td>0</td>\n",
       "    </tr>\n",
       "  </tbody>\n",
       "</table>\n",
       "<p>5 rows × 2922 columns</p>\n",
       "</div>"
      ],
      "text/plain": [
       "name     .hack//Roots  .hack//Sign  009-1  07-Ghost  11eyes  \\\n",
       "user_id                                                       \n",
       "1                   0            0      0         0       0   \n",
       "2                   0            0      0         0       0   \n",
       "3                   0            0      0         0       0   \n",
       "5                   0            0      0         0       0   \n",
       "7                   0            0      0         0       0   \n",
       "\n",
       "name     12-sai.: Chicchana Mune no Tokimeki  \\\n",
       "user_id                                        \n",
       "1                                          0   \n",
       "2                                          0   \n",
       "3                                          0   \n",
       "5                                          0   \n",
       "7                                          0   \n",
       "\n",
       "name     12-sai.: Chicchana Mune no Tokimeki 2nd Season  \\\n",
       "user_id                                                   \n",
       "1                                                     0   \n",
       "2                                                     0   \n",
       "3                                                     0   \n",
       "5                                                     0   \n",
       "7                                                     0   \n",
       "\n",
       "name     3 Choume no Tama: Uchi no Tama Shirimasenka?  30-sai no Hoken Taiiku  \\\n",
       "user_id                                                                         \n",
       "1                                                   0                       0   \n",
       "2                                                   0                       0   \n",
       "3                                                   0                       0   \n",
       "5                                                   0                       0   \n",
       "7                                                   0                       0   \n",
       "\n",
       "name     91 Days  ...  Zombie-Loan  Zone of the Enders: Dolores, I  \\\n",
       "user_id           ...                                                \n",
       "1              0  ...            0                               0   \n",
       "2              0  ...            0                               0   \n",
       "3              0  ...            7                               0   \n",
       "5              0  ...            0                               0   \n",
       "7              0  ...            0                               0   \n",
       "\n",
       "name     Zukkoke Knight: Don De La Mancha  ef: A Tale of Melodies.  \\\n",
       "user_id                                                              \n",
       "1                                       0                        0   \n",
       "2                                       0                        0   \n",
       "3                                       0                        0   \n",
       "5                                       0                        0   \n",
       "7                                       0                        0   \n",
       "\n",
       "name     ef: A Tale of Memories.  gdgd Fairies  gdgd Fairies 2  s.CRY.ed  \\\n",
       "user_id                                                                    \n",
       "1                              0             0               0         0   \n",
       "2                              0             0               0         0   \n",
       "3                              0             0               0         0   \n",
       "5                              0             0               0         0   \n",
       "7                              0             0               0         0   \n",
       "\n",
       "name     xxxHOLiC  xxxHOLiC Kei  \n",
       "user_id                          \n",
       "1               0             0  \n",
       "2               0             0  \n",
       "3               0             0  \n",
       "5               2             0  \n",
       "7               0             0  \n",
       "\n",
       "[5 rows x 2922 columns]"
      ]
     },
     "execution_count": 74,
     "metadata": {},
     "output_type": "execute_result"
    }
   ],
   "source": [
    "print(piv.shape)\n",
    "piv.head()"
   ]
  },
  {
   "cell_type": "markdown",
   "metadata": {
    "ExecuteTime": {
     "end_time": "2020-05-23T05:39:38.932573Z",
     "start_time": "2020-05-23T05:39:38.927092Z"
    }
   },
   "source": [
    "Transposing the Matrix (eg. pivoted table)"
   ]
  },
  {
   "cell_type": "code",
   "execution_count": 75,
   "metadata": {
    "ExecuteTime": {
     "end_time": "2020-05-23T07:41:32.971833Z",
     "start_time": "2020-05-23T07:41:32.268194Z"
    }
   },
   "outputs": [
    {
     "data": {
      "text/plain": [
       "(2922, 46792)"
      ]
     },
     "execution_count": 75,
     "metadata": {},
     "output_type": "execute_result"
    }
   ],
   "source": [
    "X = piv.T\n",
    "X.shape"
   ]
  },
  {
   "cell_type": "markdown",
   "metadata": {},
   "source": [
    "Decomposing the Matrix"
   ]
  },
  {
   "cell_type": "code",
   "execution_count": 76,
   "metadata": {
    "ExecuteTime": {
     "end_time": "2020-05-23T07:41:41.977265Z",
     "start_time": "2020-05-23T07:41:39.383958Z"
    }
   },
   "outputs": [
    {
     "data": {
      "text/plain": [
       "(2922, 12)"
      ]
     },
     "execution_count": 76,
     "metadata": {},
     "output_type": "execute_result"
    }
   ],
   "source": [
    "# Truncates matrix in 12 Synthetic features\n",
    "SVD = TruncatedSVD(n_components=12,random_state=12)\n",
    "\n",
    "resultant_matrix = SVD.fit_transform(X)\n",
    "\n",
    "resultant_matrix.shape"
   ]
  },
  {
   "cell_type": "markdown",
   "metadata": {},
   "source": [
    "Generating a Correlation Matrix"
   ]
  },
  {
   "cell_type": "code",
   "execution_count": 77,
   "metadata": {
    "ExecuteTime": {
     "end_time": "2020-05-23T07:41:46.614918Z",
     "start_time": "2020-05-23T07:41:46.503736Z"
    }
   },
   "outputs": [
    {
     "data": {
      "text/plain": [
       "(2922, 2922)"
      ]
     },
     "execution_count": 77,
     "metadata": {},
     "output_type": "execute_result"
    }
   ],
   "source": [
    "corr_mat = np.corrcoef(resultant_matrix)\n",
    "corr_mat.shape\n"
   ]
  },
  {
   "cell_type": "code",
   "execution_count": 78,
   "metadata": {
    "ExecuteTime": {
     "end_time": "2020-05-23T07:41:50.548544Z",
     "start_time": "2020-05-23T07:41:50.537256Z"
    }
   },
   "outputs": [
    {
     "data": {
      "text/plain": [
       "1780"
      ]
     },
     "execution_count": 78,
     "metadata": {},
     "output_type": "execute_result"
    }
   ],
   "source": [
    "anime_titles = piv.columns\n",
    "anime_list = list(anime_titles)\n",
    "\n",
    "naruto_corr = anime_list.index('Naruto')\n",
    "naruto_corr"
   ]
  },
  {
   "cell_type": "code",
   "execution_count": 79,
   "metadata": {
    "ExecuteTime": {
     "end_time": "2020-05-23T07:41:54.402229Z",
     "start_time": "2020-05-23T07:41:54.388144Z"
    }
   },
   "outputs": [
    {
     "data": {
      "text/plain": [
       "(2922,)"
      ]
     },
     "execution_count": 79,
     "metadata": {},
     "output_type": "execute_result"
    }
   ],
   "source": [
    "corr_naruto = corr_mat[1780]\n",
    "corr_naruto.shape"
   ]
  },
  {
   "cell_type": "markdown",
   "metadata": {},
   "source": [
    "Recommending top 10% of Hightly Correlated Anime"
   ]
  },
  {
   "cell_type": "code",
   "execution_count": 80,
   "metadata": {
    "ExecuteTime": {
     "end_time": "2020-05-23T07:41:58.471907Z",
     "start_time": "2020-05-23T07:41:58.464275Z"
    },
    "scrolled": true
   },
   "outputs": [
    {
     "data": {
      "text/plain": [
       "['Bleach',\n",
       " 'Hajime no Ippo',\n",
       " 'Hajime no Ippo: New Challenger',\n",
       " 'Hajime no Ippo: Rising',\n",
       " 'Shaman King']"
      ]
     },
     "execution_count": 80,
     "metadata": {},
     "output_type": "execute_result"
    }
   ],
   "source": [
    "list(anime_titles[(corr_naruto<1.0)&(corr_naruto>0.9)])"
   ]
  },
  {
   "cell_type": "code",
   "execution_count": 83,
   "metadata": {
    "ExecuteTime": {
     "end_time": "2020-05-23T07:42:20.155776Z",
     "start_time": "2020-05-23T07:42:20.150375Z"
    }
   },
   "outputs": [],
   "source": []
  },
  {
   "cell_type": "code",
   "execution_count": 85,
   "metadata": {
    "ExecuteTime": {
     "end_time": "2020-05-23T07:42:36.667604Z",
     "start_time": "2020-05-23T07:42:36.661813Z"
    }
   },
   "outputs": [
    {
     "name": "stdout",
     "output_type": "stream",
     "text": [
      "Top 15.0 Percentile Correlational match for Anime Naruto\n"
     ]
    },
    {
     "data": {
      "text/plain": [
       "['Bleach',\n",
       " 'Death Note',\n",
       " 'Dragon Ball Kai',\n",
       " 'Fairy Tail',\n",
       " 'Fullmetal Alchemist: Brotherhood',\n",
       " 'Giant Killing',\n",
       " 'Hajime no Ippo',\n",
       " 'Hajime no Ippo: New Challenger',\n",
       " 'Hajime no Ippo: Rising',\n",
       " 'Hunter x Hunter',\n",
       " 'Hunter x Hunter (2011)',\n",
       " 'Initial D Fifth Stage',\n",
       " 'Initial D Final Stage',\n",
       " 'Major S1',\n",
       " 'Major S3',\n",
       " 'Major S4',\n",
       " 'Major S5',\n",
       " 'Major S6',\n",
       " 'One Outs',\n",
       " 'Rainbow: Nisha Rokubou no Shichinin',\n",
       " 'Shaman King',\n",
       " 'Shijou Saikyou no Deshi Kenichi',\n",
       " 'Slam Dunk']"
      ]
     },
     "execution_count": 85,
     "metadata": {},
     "output_type": "execute_result"
    }
   ],
   "source": []
  },
  {
   "cell_type": "code",
   "execution_count": 36,
   "metadata": {
    "ExecuteTime": {
     "end_time": "2020-05-23T06:34:25.454579Z",
     "start_time": "2020-05-23T06:33:14.961686Z"
    },
    "_cell_guid": "a7632dde-c89f-3103-cb1e-36b23d530628"
   },
   "outputs": [
    {
     "name": "stdout",
     "output_type": "stream",
     "text": [
      "(2922, 46792)\n"
     ]
    },
    {
     "data": {
      "text/html": [
       "<div>\n",
       "<style scoped>\n",
       "    .dataframe tbody tr th:only-of-type {\n",
       "        vertical-align: middle;\n",
       "    }\n",
       "\n",
       "    .dataframe tbody tr th {\n",
       "        vertical-align: top;\n",
       "    }\n",
       "\n",
       "    .dataframe thead th {\n",
       "        text-align: right;\n",
       "    }\n",
       "</style>\n",
       "<table border=\"1\" class=\"dataframe\">\n",
       "  <thead>\n",
       "    <tr style=\"text-align: right;\">\n",
       "      <th>user_id</th>\n",
       "      <th>1</th>\n",
       "      <th>2</th>\n",
       "      <th>3</th>\n",
       "      <th>5</th>\n",
       "      <th>7</th>\n",
       "      <th>8</th>\n",
       "      <th>9</th>\n",
       "      <th>10</th>\n",
       "      <th>11</th>\n",
       "      <th>12</th>\n",
       "      <th>...</th>\n",
       "      <th>49991</th>\n",
       "      <th>49992</th>\n",
       "      <th>49993</th>\n",
       "      <th>49994</th>\n",
       "      <th>49995</th>\n",
       "      <th>49996</th>\n",
       "      <th>49997</th>\n",
       "      <th>49998</th>\n",
       "      <th>49999</th>\n",
       "      <th>50000</th>\n",
       "    </tr>\n",
       "    <tr>\n",
       "      <th>name</th>\n",
       "      <th></th>\n",
       "      <th></th>\n",
       "      <th></th>\n",
       "      <th></th>\n",
       "      <th></th>\n",
       "      <th></th>\n",
       "      <th></th>\n",
       "      <th></th>\n",
       "      <th></th>\n",
       "      <th></th>\n",
       "      <th></th>\n",
       "      <th></th>\n",
       "      <th></th>\n",
       "      <th></th>\n",
       "      <th></th>\n",
       "      <th></th>\n",
       "      <th></th>\n",
       "      <th></th>\n",
       "      <th></th>\n",
       "      <th></th>\n",
       "      <th></th>\n",
       "    </tr>\n",
       "  </thead>\n",
       "  <tbody>\n",
       "    <tr>\n",
       "      <th>.hack//Roots</th>\n",
       "      <td>-0.001369</td>\n",
       "      <td>-0.000342</td>\n",
       "      <td>-0.017659</td>\n",
       "      <td>-0.045414</td>\n",
       "      <td>-0.057769</td>\n",
       "      <td>-0.003422</td>\n",
       "      <td>-0.000342</td>\n",
       "      <td>-0.000958</td>\n",
       "      <td>-0.014853</td>\n",
       "      <td>-0.005784</td>\n",
       "      <td>...</td>\n",
       "      <td>-0.009343</td>\n",
       "      <td>-0.019781</td>\n",
       "      <td>-0.034497</td>\n",
       "      <td>-0.029535</td>\n",
       "      <td>-0.005818</td>\n",
       "      <td>-0.008453</td>\n",
       "      <td>-0.019986</td>\n",
       "      <td>-0.007453</td>\n",
       "      <td>-0.004997</td>\n",
       "      <td>-0.007392</td>\n",
       "    </tr>\n",
       "    <tr>\n",
       "      <th>.hack//Sign</th>\n",
       "      <td>-0.001369</td>\n",
       "      <td>-0.000342</td>\n",
       "      <td>-0.017659</td>\n",
       "      <td>-0.045414</td>\n",
       "      <td>-0.057769</td>\n",
       "      <td>-0.003422</td>\n",
       "      <td>-0.000342</td>\n",
       "      <td>-0.000958</td>\n",
       "      <td>-0.014853</td>\n",
       "      <td>-0.005784</td>\n",
       "      <td>...</td>\n",
       "      <td>-0.009343</td>\n",
       "      <td>-0.019781</td>\n",
       "      <td>-0.034497</td>\n",
       "      <td>-0.029535</td>\n",
       "      <td>-0.005818</td>\n",
       "      <td>-0.008453</td>\n",
       "      <td>-0.019986</td>\n",
       "      <td>-0.007453</td>\n",
       "      <td>-0.004997</td>\n",
       "      <td>-0.007392</td>\n",
       "    </tr>\n",
       "    <tr>\n",
       "      <th>009-1</th>\n",
       "      <td>-0.001369</td>\n",
       "      <td>-0.000342</td>\n",
       "      <td>-0.017659</td>\n",
       "      <td>-0.045414</td>\n",
       "      <td>-0.057769</td>\n",
       "      <td>-0.003422</td>\n",
       "      <td>-0.000342</td>\n",
       "      <td>-0.000958</td>\n",
       "      <td>-0.014853</td>\n",
       "      <td>-0.005784</td>\n",
       "      <td>...</td>\n",
       "      <td>-0.009343</td>\n",
       "      <td>-0.019781</td>\n",
       "      <td>-0.034497</td>\n",
       "      <td>-0.029535</td>\n",
       "      <td>-0.005818</td>\n",
       "      <td>-0.008453</td>\n",
       "      <td>-0.019986</td>\n",
       "      <td>-0.007453</td>\n",
       "      <td>-0.004997</td>\n",
       "      <td>-0.007392</td>\n",
       "    </tr>\n",
       "    <tr>\n",
       "      <th>07-Ghost</th>\n",
       "      <td>-0.001369</td>\n",
       "      <td>-0.000342</td>\n",
       "      <td>-0.017659</td>\n",
       "      <td>-0.045414</td>\n",
       "      <td>-0.057769</td>\n",
       "      <td>-0.003422</td>\n",
       "      <td>-0.000342</td>\n",
       "      <td>-0.000958</td>\n",
       "      <td>-0.014853</td>\n",
       "      <td>-0.005784</td>\n",
       "      <td>...</td>\n",
       "      <td>-0.009343</td>\n",
       "      <td>-0.019781</td>\n",
       "      <td>0.665503</td>\n",
       "      <td>-0.029535</td>\n",
       "      <td>-0.005818</td>\n",
       "      <td>-0.008453</td>\n",
       "      <td>-0.019986</td>\n",
       "      <td>-0.007453</td>\n",
       "      <td>-0.004997</td>\n",
       "      <td>-0.007392</td>\n",
       "    </tr>\n",
       "    <tr>\n",
       "      <th>11eyes</th>\n",
       "      <td>-0.001369</td>\n",
       "      <td>-0.000342</td>\n",
       "      <td>-0.017659</td>\n",
       "      <td>-0.045414</td>\n",
       "      <td>-0.057769</td>\n",
       "      <td>-0.003422</td>\n",
       "      <td>-0.000342</td>\n",
       "      <td>-0.000958</td>\n",
       "      <td>-0.014853</td>\n",
       "      <td>-0.005784</td>\n",
       "      <td>...</td>\n",
       "      <td>-0.009343</td>\n",
       "      <td>-0.019781</td>\n",
       "      <td>-0.034497</td>\n",
       "      <td>-0.029535</td>\n",
       "      <td>-0.005818</td>\n",
       "      <td>-0.008453</td>\n",
       "      <td>-0.019986</td>\n",
       "      <td>-0.007453</td>\n",
       "      <td>-0.004997</td>\n",
       "      <td>-0.007392</td>\n",
       "    </tr>\n",
       "  </tbody>\n",
       "</table>\n",
       "<p>5 rows × 46792 columns</p>\n",
       "</div>"
      ],
      "text/plain": [
       "user_id          1         2         3         5         7         8      \\\n",
       "name                                                                       \n",
       ".hack//Roots -0.001369 -0.000342 -0.017659 -0.045414 -0.057769 -0.003422   \n",
       ".hack//Sign  -0.001369 -0.000342 -0.017659 -0.045414 -0.057769 -0.003422   \n",
       "009-1        -0.001369 -0.000342 -0.017659 -0.045414 -0.057769 -0.003422   \n",
       "07-Ghost     -0.001369 -0.000342 -0.017659 -0.045414 -0.057769 -0.003422   \n",
       "11eyes       -0.001369 -0.000342 -0.017659 -0.045414 -0.057769 -0.003422   \n",
       "\n",
       "user_id          9         10        11        12     ...     49991     49992  \\\n",
       "name                                                  ...                       \n",
       ".hack//Roots -0.000342 -0.000958 -0.014853 -0.005784  ... -0.009343 -0.019781   \n",
       ".hack//Sign  -0.000342 -0.000958 -0.014853 -0.005784  ... -0.009343 -0.019781   \n",
       "009-1        -0.000342 -0.000958 -0.014853 -0.005784  ... -0.009343 -0.019781   \n",
       "07-Ghost     -0.000342 -0.000958 -0.014853 -0.005784  ... -0.009343 -0.019781   \n",
       "11eyes       -0.000342 -0.000958 -0.014853 -0.005784  ... -0.009343 -0.019781   \n",
       "\n",
       "user_id          49993     49994     49995     49996     49997     49998  \\\n",
       "name                                                                       \n",
       ".hack//Roots -0.034497 -0.029535 -0.005818 -0.008453 -0.019986 -0.007453   \n",
       ".hack//Sign  -0.034497 -0.029535 -0.005818 -0.008453 -0.019986 -0.007453   \n",
       "009-1        -0.034497 -0.029535 -0.005818 -0.008453 -0.019986 -0.007453   \n",
       "07-Ghost      0.665503 -0.029535 -0.005818 -0.008453 -0.019986 -0.007453   \n",
       "11eyes       -0.034497 -0.029535 -0.005818 -0.008453 -0.019986 -0.007453   \n",
       "\n",
       "user_id          49999     50000  \n",
       "name                              \n",
       ".hack//Roots -0.004997 -0.007392  \n",
       ".hack//Sign  -0.004997 -0.007392  \n",
       "009-1        -0.004997 -0.007392  \n",
       "07-Ghost     -0.004997 -0.007392  \n",
       "11eyes       -0.004997 -0.007392  \n",
       "\n",
       "[5 rows x 46792 columns]"
      ]
     },
     "execution_count": 36,
     "metadata": {},
     "output_type": "execute_result"
    }
   ],
   "source": [
    "# Note: As we are subtracting the mean from each rating to standardize\n",
    "# all users with only one rating or who had rated everything the same will be dropped\n",
    "\n",
    "# Normalize the values\n",
    "piv_norm = piv.apply(lambda x: (x-np.mean(x))/(np.max(x)-np.min(x)), axis=1)\n",
    "\n",
    "\n",
    "# Drop all columns containing only zeros representing users who did not rate\n",
    "piv_norm.fillna(0, inplace=True)\n",
    "piv_norm = piv_norm.T\n",
    "piv_norm = piv_norm.loc[:, (piv_norm != 0).any(axis=0)]\n",
    "print(piv_norm.shape)\n",
    "piv_norm.head()"
   ]
  },
  {
   "cell_type": "code",
   "execution_count": 11,
   "metadata": {
    "ExecuteTime": {
     "end_time": "2020-05-23T02:46:51.215786Z",
     "start_time": "2020-05-23T02:46:50.104769Z"
    },
    "_cell_guid": "1784d9ce-6851-6388-dd05-0ff26493d268"
   },
   "outputs": [],
   "source": [
    "# Our data needs to be in a sparse matrix format to be read by the following functions\n",
    "\n",
    "piv_sparse = sp.sparse.csr_matrix(piv_norm.values)"
   ]
  },
  {
   "cell_type": "markdown",
   "metadata": {
    "_cell_guid": "56f295e3-153f-5628-f309-559b5494e30c"
   },
   "source": [
    "These matrices show us the computed cosine similarity values \n",
    "between each user/user array pair and item/item array pair."
   ]
  },
  {
   "cell_type": "code",
   "execution_count": 12,
   "metadata": {
    "ExecuteTime": {
     "end_time": "2020-05-23T02:49:56.530719Z",
     "start_time": "2020-05-23T02:46:51.218139Z"
    },
    "_cell_guid": "7fa31240-3634-73e3-f0a1-9e8ecfb399dc"
   },
   "outputs": [],
   "source": [
    "item_similarity = cosine_similarity(piv_sparse)\n",
    "user_similarity = cosine_similarity(piv_sparse.T)"
   ]
  },
  {
   "cell_type": "code",
   "execution_count": 13,
   "metadata": {
    "ExecuteTime": {
     "end_time": "2020-05-23T02:49:56.692513Z",
     "start_time": "2020-05-23T02:49:56.590223Z"
    },
    "_cell_guid": "49228028-329f-cafa-6a31-87e27c2a7e54"
   },
   "outputs": [],
   "source": [
    "# Inserting the similarity matricies into dataframe objects\n",
    "\n",
    "item_sim_df = pd.DataFrame(item_similarity, index = piv_norm.index, columns = piv_norm.index)\n",
    "user_sim_df = pd.DataFrame(user_similarity, index = piv_norm.columns, columns = piv_norm.columns)"
   ]
  },
  {
   "cell_type": "code",
   "execution_count": 14,
   "metadata": {
    "ExecuteTime": {
     "end_time": "2020-05-23T02:49:56.725913Z",
     "start_time": "2020-05-23T02:49:56.696641Z"
    },
    "_cell_guid": "5cd7919d-163a-7fd8-da8e-c06ce1d705f1"
   },
   "outputs": [],
   "source": [
    "# This function will return the top 10 shows with the highest cosine similarity value\n",
    "\n",
    "def top_animes(anime_title):\n",
    "    count = 1\n",
    "    print(f'Similar shows to {anime_title} include:\\n')\n",
    "    for item in item_sim_df.sort_values(by = anime_name, ascending = False).index[1:11]:\n",
    "        print(f'No. {count}: {item}')\n",
    "        count +=1"
   ]
  },
  {
   "cell_type": "code",
   "execution_count": 15,
   "metadata": {
    "ExecuteTime": {
     "end_time": "2020-05-23T02:49:56.743082Z",
     "start_time": "2020-05-23T02:49:56.728857Z"
    },
    "_cell_guid": "725964d6-986f-d34b-a616-c10b4f504fc7"
   },
   "outputs": [],
   "source": [
    "# This function will return the top 5 users with the highest similarity value \n",
    "\n",
    "def top_users(user_x):\n",
    "    \n",
    "    if user not in piv_norm.columns:\n",
    "        return(f'No data available on user {user_x}')\n",
    "    \n",
    "    print('Most Similar Users:\\n')\n",
    "    sim_values = user_sim_df.sort_values(by=user_x, ascending=False).loc[:,user_x].tolist()[1:11]\n",
    "    sim_users = user_sim_df.sort_values(by=user_x, ascending=False).index[1:11]\n",
    "    zipped = zip(sim_users, sim_values,)\n",
    "    for user_x, sim in zipped:\n",
    "        print('User #{0}, Similarity value: {1:.2f}'.format(user_x, sim))"
   ]
  },
  {
   "cell_type": "code",
   "execution_count": 16,
   "metadata": {
    "ExecuteTime": {
     "end_time": "2020-05-23T02:49:56.754339Z",
     "start_time": "2020-05-23T02:49:56.745230Z"
    },
    "_cell_guid": "876a5010-0e99-7aa8-5e9c-e704181b81a3"
   },
   "outputs": [],
   "source": [
    "# This function constructs a list of lists containing the highest rated shows per similar user\n",
    "# and returns the name of the show along with the frequency it appears in the list\n",
    "\n",
    "def similar_user_recs(user):\n",
    "    \n",
    "    if user not in piv_norm.columns:\n",
    "        return(f'No data available on user {user}')\n",
    "    \n",
    "    sim_users = user_sim_df.sort_values(by=user, ascending=False).index[1:11]\n",
    "    best = []\n",
    "    most_common = {}\n",
    "    \n",
    "    for i in sim_users:\n",
    "        max_score = piv_norm.loc[:, i].max()\n",
    "        best.append(piv_norm[piv_norm.loc[:, i]==max_score].index.tolist())\n",
    "    for i in range(len(best)):\n",
    "        for j in best[i]:\n",
    "            if j in most_common:\n",
    "                most_common[j] += 1\n",
    "            else:\n",
    "                most_common[j] = 1\n",
    "    sorted_list = sorted(most_common.items(), key=operator.itemgetter(1), reverse=True)\n",
    "    return sorted_list[:5]"
   ]
  },
  {
   "cell_type": "code",
   "execution_count": 23,
   "metadata": {
    "ExecuteTime": {
     "end_time": "2020-05-23T03:41:36.366855Z",
     "start_time": "2020-05-23T03:41:36.346287Z"
    },
    "_cell_guid": "55c0e789-caa4-3c6d-c062-f58fb8268a2e"
   },
   "outputs": [],
   "source": [
    "# This function calculates the weighted average of similar users\n",
    "# to determine a potential rating for an input user and show\n",
    "\n",
    "def predicted_rating(anime_name, user_x):\n",
    "    sim_users = user_sim_df.sort_values(by=user_x, ascending=False).index[1:1000]\n",
    "    user_values = user_sim_df.sort_values(by=user_x, ascending=False).loc[:,user].tolist()[1:1000]\n",
    "    rating_list = []\n",
    "    weight_list = []\n",
    "    for j, i in enumerate(sim_users):\n",
    "        rating = piv.loc[i, anime_name]\n",
    "        similarity = user_values[j]\n",
    "        if np.isnan(rating):\n",
    "            continue\n",
    "        elif not np.isnan(rating):\n",
    "            rating_list.append(rating*similarity)\n",
    "            weight_list.append(similarity)\n",
    "    return print(f\"The predicted score for user_id: {user_x} is {sum(rating_list)/sum(weight_list)}\")"
   ]
  },
  {
   "cell_type": "code",
   "execution_count": 31,
   "metadata": {
    "ExecuteTime": {
     "end_time": "2020-05-23T04:36:58.383258Z",
     "start_time": "2020-05-23T04:36:58.376255Z"
    }
   },
   "outputs": [],
   "source": [
    "# Function to list every show watched by user_id \n",
    "def watchlist_by_user(user_x):\n",
    "    return piv.T[piv.loc[user_x,:]>0].index.tolist()"
   ]
  },
  {
   "cell_type": "code",
   "execution_count": 18,
   "metadata": {
    "ExecuteTime": {
     "end_time": "2020-05-23T02:49:57.035432Z",
     "start_time": "2020-05-23T02:49:56.763728Z"
    },
    "_cell_guid": "50988cb1-4034-4316-2638-d0b5954b0c26"
   },
   "outputs": [
    {
     "name": "stdout",
     "output_type": "stream",
     "text": [
      "Similar shows to Naruto include:\n",
      "\n",
      "No. 1: Bleach\n",
      "No. 2: Dragon Ball GT\n",
      "No. 3: Dragon Ball Z\n",
      "No. 4: Fairy Tail\n",
      "No. 5: Dragon Ball\n",
      "No. 6: Pokemon\n",
      "No. 7: InuYasha\n",
      "No. 8: Highschool of the Dead\n",
      "No. 9: Yu☆Gi☆Oh! Duel Monsters\n",
      "No. 10: Sword Art Online\n"
     ]
    }
   ],
   "source": [
    "top_animes('Naruto')"
   ]
  },
  {
   "cell_type": "code",
   "execution_count": 19,
   "metadata": {
    "ExecuteTime": {
     "end_time": "2020-05-23T03:00:58.821468Z",
     "start_time": "2020-05-23T02:49:57.037669Z"
    },
    "_cell_guid": "360f71b5-86dd-166a-a235-4ae662449a77"
   },
   "outputs": [
    {
     "name": "stdout",
     "output_type": "stream",
     "text": [
      "Most Similar Users:\n",
      "\n",
      "User #32218, Similarity value: 0.43\n",
      "User #11631, Similarity value: 0.42\n",
      "User #48978, Similarity value: 0.38\n",
      "User #36430, Similarity value: 0.37\n",
      "User #2986, Similarity value: 0.37\n",
      "User #31541, Similarity value: 0.37\n",
      "User #43242, Similarity value: 0.37\n",
      "User #2411, Similarity value: 0.36\n",
      "User #18079, Similarity value: 0.36\n",
      "User #3681, Similarity value: 0.36\n"
     ]
    }
   ],
   "source": [
    "top_users(3)"
   ]
  },
  {
   "cell_type": "code",
   "execution_count": 20,
   "metadata": {
    "ExecuteTime": {
     "end_time": "2020-05-23T03:05:39.066083Z",
     "start_time": "2020-05-23T03:00:58.898036Z"
    },
    "_cell_guid": "99affa09-1a22-e7d0-7f39-f785cd8b89a4"
   },
   "outputs": [
    {
     "data": {
      "text/plain": [
       "[('Shingeki no Kyojin', 6),\n",
       " ('Death Note', 3),\n",
       " ('Sword Art Online', 3),\n",
       " ('Fullmetal Alchemist: Brotherhood', 3),\n",
       " ('Clannad: After Story', 3)]"
      ]
     },
     "execution_count": 20,
     "metadata": {},
     "output_type": "execute_result"
    }
   ],
   "source": [
    "similar_user_recs(3)"
   ]
  },
  {
   "cell_type": "code",
   "execution_count": 24,
   "metadata": {
    "ExecuteTime": {
     "end_time": "2020-05-23T03:51:48.491585Z",
     "start_time": "2020-05-23T03:41:52.706852Z"
    },
    "_cell_guid": "007764c2-bafc-a061-d9a8-eb03a12e629f"
   },
   "outputs": [
    {
     "data": {
      "text/plain": [
       "8.083576090963145"
      ]
     },
     "execution_count": 24,
     "metadata": {},
     "output_type": "execute_result"
    }
   ],
   "source": [
    "predicted_rating('Naruto', 3)"
   ]
  },
  {
   "cell_type": "markdown",
   "metadata": {
    "_cell_guid": "6c0f46ae-dcab-82d5-0023-fecf156b0a5f"
   },
   "source": [
    "Below we'll see how the predict_rating function performs compared to the observed rated values for user 3."
   ]
  },
  {
   "cell_type": "code",
   "execution_count": null,
   "metadata": {
    "ExecuteTime": {
     "end_time": "2020-05-23T05:28:06.594696Z",
     "start_time": "2020-05-23T04:41:26.682Z"
    },
    "_cell_guid": "1be578f6-4990-2a5a-a121-c4f2e63279a3"
   },
   "outputs": [],
   "source": [
    "# Creates a list of every show watched by user_id\n",
    "\n",
    "watched = watchlist_by_user(3)\n",
    "# Showing watchlist \n",
    "watchlist_by_user(3)"
   ]
  },
  {
   "cell_type": "code",
   "execution_count": 35,
   "metadata": {
    "ExecuteTime": {
     "end_time": "2020-05-23T05:28:06.495903Z",
     "start_time": "2020-05-23T04:39:37.428764Z"
    },
    "_cell_guid": "716aba34-a60a-2418-822c-8143d512da74"
   },
   "outputs": [
    {
     "ename": "KeyboardInterrupt",
     "evalue": "",
     "output_type": "error",
     "traceback": [
      "\u001b[0;31m---------------------------------------------------------------------------\u001b[0m",
      "\u001b[0;31mKeyboardInterrupt\u001b[0m                         Traceback (most recent call last)",
      "\u001b[0;32m<ipython-input-35-2f8853f1509a>\u001b[0m in \u001b[0;36m<module>\u001b[0;34m\u001b[0m\n\u001b[1;32m      4\u001b[0m \u001b[0;32mfor\u001b[0m \u001b[0mi\u001b[0m \u001b[0;32min\u001b[0m \u001b[0mwatched\u001b[0m\u001b[0;34m:\u001b[0m\u001b[0;34m\u001b[0m\u001b[0;34m\u001b[0m\u001b[0m\n\u001b[1;32m      5\u001b[0m     \u001b[0mactual\u001b[0m\u001b[0;34m=\u001b[0m\u001b[0mpiv\u001b[0m\u001b[0;34m.\u001b[0m\u001b[0mloc\u001b[0m\u001b[0;34m[\u001b[0m\u001b[0;36m3\u001b[0m\u001b[0;34m,\u001b[0m \u001b[0mi\u001b[0m\u001b[0;34m]\u001b[0m\u001b[0;34m\u001b[0m\u001b[0;34m\u001b[0m\u001b[0m\n\u001b[0;32m----> 6\u001b[0;31m     \u001b[0mpredicted\u001b[0m \u001b[0;34m=\u001b[0m \u001b[0mpredicted_rating\u001b[0m\u001b[0;34m(\u001b[0m\u001b[0mi\u001b[0m\u001b[0;34m,\u001b[0m \u001b[0;36m3\u001b[0m\u001b[0;34m)\u001b[0m\u001b[0;34m\u001b[0m\u001b[0;34m\u001b[0m\u001b[0m\n\u001b[0m\u001b[1;32m      7\u001b[0m     \u001b[0merrors\u001b[0m\u001b[0;34m.\u001b[0m\u001b[0mappend\u001b[0m\u001b[0;34m(\u001b[0m\u001b[0;34m(\u001b[0m\u001b[0mactual\u001b[0m\u001b[0;34m-\u001b[0m\u001b[0mpredicted\u001b[0m\u001b[0;34m)\u001b[0m\u001b[0;34m**\u001b[0m\u001b[0;36m2\u001b[0m\u001b[0;34m)\u001b[0m\u001b[0;34m\u001b[0m\u001b[0;34m\u001b[0m\u001b[0m\n",
      "\u001b[0;32m<ipython-input-23-e7640512f892>\u001b[0m in \u001b[0;36mpredicted_rating\u001b[0;34m(anime_name, user)\u001b[0m\n\u001b[1;32m      3\u001b[0m \u001b[0;34m\u001b[0m\u001b[0m\n\u001b[1;32m      4\u001b[0m \u001b[0;32mdef\u001b[0m \u001b[0mpredicted_rating\u001b[0m\u001b[0;34m(\u001b[0m\u001b[0manime_name\u001b[0m\u001b[0;34m,\u001b[0m \u001b[0muser\u001b[0m\u001b[0;34m)\u001b[0m\u001b[0;34m:\u001b[0m\u001b[0;34m\u001b[0m\u001b[0;34m\u001b[0m\u001b[0m\n\u001b[0;32m----> 5\u001b[0;31m     \u001b[0msim_users\u001b[0m \u001b[0;34m=\u001b[0m \u001b[0muser_sim_df\u001b[0m\u001b[0;34m.\u001b[0m\u001b[0msort_values\u001b[0m\u001b[0;34m(\u001b[0m\u001b[0mby\u001b[0m\u001b[0;34m=\u001b[0m\u001b[0muser\u001b[0m\u001b[0;34m,\u001b[0m \u001b[0mascending\u001b[0m\u001b[0;34m=\u001b[0m\u001b[0;32mFalse\u001b[0m\u001b[0;34m)\u001b[0m\u001b[0;34m.\u001b[0m\u001b[0mindex\u001b[0m\u001b[0;34m[\u001b[0m\u001b[0;36m1\u001b[0m\u001b[0;34m:\u001b[0m\u001b[0;36m1000\u001b[0m\u001b[0;34m]\u001b[0m\u001b[0;34m\u001b[0m\u001b[0;34m\u001b[0m\u001b[0m\n\u001b[0m\u001b[1;32m      6\u001b[0m     \u001b[0muser_values\u001b[0m \u001b[0;34m=\u001b[0m \u001b[0muser_sim_df\u001b[0m\u001b[0;34m.\u001b[0m\u001b[0msort_values\u001b[0m\u001b[0;34m(\u001b[0m\u001b[0mby\u001b[0m\u001b[0;34m=\u001b[0m\u001b[0muser\u001b[0m\u001b[0;34m,\u001b[0m \u001b[0mascending\u001b[0m\u001b[0;34m=\u001b[0m\u001b[0;32mFalse\u001b[0m\u001b[0;34m)\u001b[0m\u001b[0;34m.\u001b[0m\u001b[0mloc\u001b[0m\u001b[0;34m[\u001b[0m\u001b[0;34m:\u001b[0m\u001b[0;34m,\u001b[0m\u001b[0muser\u001b[0m\u001b[0;34m]\u001b[0m\u001b[0;34m.\u001b[0m\u001b[0mtolist\u001b[0m\u001b[0;34m(\u001b[0m\u001b[0;34m)\u001b[0m\u001b[0;34m[\u001b[0m\u001b[0;36m1\u001b[0m\u001b[0;34m:\u001b[0m\u001b[0;36m1000\u001b[0m\u001b[0;34m]\u001b[0m\u001b[0;34m\u001b[0m\u001b[0;34m\u001b[0m\u001b[0m\n\u001b[1;32m      7\u001b[0m     \u001b[0mrating_list\u001b[0m \u001b[0;34m=\u001b[0m \u001b[0;34m[\u001b[0m\u001b[0;34m]\u001b[0m\u001b[0;34m\u001b[0m\u001b[0;34m\u001b[0m\u001b[0m\n",
      "\u001b[0;32m//anaconda3/lib/python3.7/site-packages/pandas/core/frame.py\u001b[0m in \u001b[0;36msort_values\u001b[0;34m(self, by, axis, ascending, inplace, kind, na_position)\u001b[0m\n\u001b[1;32m   4723\u001b[0m \u001b[0;34m\u001b[0m\u001b[0m\n\u001b[1;32m   4724\u001b[0m             indexer = nargsort(k, kind=kind, ascending=ascending,\n\u001b[0;32m-> 4725\u001b[0;31m                                na_position=na_position)\n\u001b[0m\u001b[1;32m   4726\u001b[0m \u001b[0;34m\u001b[0m\u001b[0m\n\u001b[1;32m   4727\u001b[0m         new_data = self._data.take(indexer,\n",
      "\u001b[0;32m//anaconda3/lib/python3.7/site-packages/pandas/core/sorting.py\u001b[0m in \u001b[0;36mnargsort\u001b[0;34m(items, kind, ascending, na_position)\u001b[0m\n\u001b[1;32m    264\u001b[0m         \u001b[0mitems\u001b[0m \u001b[0;34m=\u001b[0m \u001b[0mnp\u001b[0m\u001b[0;34m.\u001b[0m\u001b[0masanyarray\u001b[0m\u001b[0;34m(\u001b[0m\u001b[0mitems\u001b[0m\u001b[0;34m)\u001b[0m\u001b[0;34m\u001b[0m\u001b[0;34m\u001b[0m\u001b[0m\n\u001b[1;32m    265\u001b[0m     \u001b[0midx\u001b[0m \u001b[0;34m=\u001b[0m \u001b[0mnp\u001b[0m\u001b[0;34m.\u001b[0m\u001b[0marange\u001b[0m\u001b[0;34m(\u001b[0m\u001b[0mlen\u001b[0m\u001b[0;34m(\u001b[0m\u001b[0mitems\u001b[0m\u001b[0;34m)\u001b[0m\u001b[0;34m)\u001b[0m\u001b[0;34m\u001b[0m\u001b[0;34m\u001b[0m\u001b[0m\n\u001b[0;32m--> 266\u001b[0;31m     \u001b[0mmask\u001b[0m \u001b[0;34m=\u001b[0m \u001b[0misna\u001b[0m\u001b[0;34m(\u001b[0m\u001b[0mitems\u001b[0m\u001b[0;34m)\u001b[0m\u001b[0;34m\u001b[0m\u001b[0;34m\u001b[0m\u001b[0m\n\u001b[0m\u001b[1;32m    267\u001b[0m     \u001b[0mnon_nans\u001b[0m \u001b[0;34m=\u001b[0m \u001b[0mitems\u001b[0m\u001b[0;34m[\u001b[0m\u001b[0;34m~\u001b[0m\u001b[0mmask\u001b[0m\u001b[0;34m]\u001b[0m\u001b[0;34m\u001b[0m\u001b[0;34m\u001b[0m\u001b[0m\n\u001b[1;32m    268\u001b[0m     \u001b[0mnon_nan_idx\u001b[0m \u001b[0;34m=\u001b[0m \u001b[0midx\u001b[0m\u001b[0;34m[\u001b[0m\u001b[0;34m~\u001b[0m\u001b[0mmask\u001b[0m\u001b[0;34m]\u001b[0m\u001b[0;34m\u001b[0m\u001b[0;34m\u001b[0m\u001b[0m\n",
      "\u001b[0;32m//anaconda3/lib/python3.7/site-packages/pandas/core/dtypes/missing.py\u001b[0m in \u001b[0;36misna\u001b[0;34m(obj)\u001b[0m\n\u001b[1;32m     97\u001b[0m     \u001b[0mName\u001b[0m\u001b[0;34m:\u001b[0m \u001b[0;36m1\u001b[0m\u001b[0;34m,\u001b[0m \u001b[0mdtype\u001b[0m\u001b[0;34m:\u001b[0m \u001b[0mbool\u001b[0m\u001b[0;34m\u001b[0m\u001b[0;34m\u001b[0m\u001b[0m\n\u001b[1;32m     98\u001b[0m     \"\"\"\n\u001b[0;32m---> 99\u001b[0;31m     \u001b[0;32mreturn\u001b[0m \u001b[0m_isna\u001b[0m\u001b[0;34m(\u001b[0m\u001b[0mobj\u001b[0m\u001b[0;34m)\u001b[0m\u001b[0;34m\u001b[0m\u001b[0;34m\u001b[0m\u001b[0m\n\u001b[0m\u001b[1;32m    100\u001b[0m \u001b[0;34m\u001b[0m\u001b[0m\n\u001b[1;32m    101\u001b[0m \u001b[0;34m\u001b[0m\u001b[0m\n",
      "\u001b[0;32m//anaconda3/lib/python3.7/site-packages/pandas/core/dtypes/missing.py\u001b[0m in \u001b[0;36m_isna_new\u001b[0;34m(obj)\u001b[0m\n\u001b[1;32m    112\u001b[0m                           \u001b[0mABCExtensionArray\u001b[0m\u001b[0;34m,\u001b[0m\u001b[0;34m\u001b[0m\u001b[0;34m\u001b[0m\u001b[0m\n\u001b[1;32m    113\u001b[0m                           ABCDatetimeArray, ABCTimedeltaArray)):\n\u001b[0;32m--> 114\u001b[0;31m         \u001b[0;32mreturn\u001b[0m \u001b[0m_isna_ndarraylike\u001b[0m\u001b[0;34m(\u001b[0m\u001b[0mobj\u001b[0m\u001b[0;34m)\u001b[0m\u001b[0;34m\u001b[0m\u001b[0;34m\u001b[0m\u001b[0m\n\u001b[0m\u001b[1;32m    115\u001b[0m     \u001b[0;32melif\u001b[0m \u001b[0misinstance\u001b[0m\u001b[0;34m(\u001b[0m\u001b[0mobj\u001b[0m\u001b[0;34m,\u001b[0m \u001b[0mABCGeneric\u001b[0m\u001b[0;34m)\u001b[0m\u001b[0;34m:\u001b[0m\u001b[0;34m\u001b[0m\u001b[0;34m\u001b[0m\u001b[0m\n\u001b[1;32m    116\u001b[0m         \u001b[0;32mreturn\u001b[0m \u001b[0mobj\u001b[0m\u001b[0;34m.\u001b[0m\u001b[0m_constructor\u001b[0m\u001b[0;34m(\u001b[0m\u001b[0mobj\u001b[0m\u001b[0;34m.\u001b[0m\u001b[0m_data\u001b[0m\u001b[0;34m.\u001b[0m\u001b[0misna\u001b[0m\u001b[0;34m(\u001b[0m\u001b[0mfunc\u001b[0m\u001b[0;34m=\u001b[0m\u001b[0misna\u001b[0m\u001b[0;34m)\u001b[0m\u001b[0;34m)\u001b[0m\u001b[0;34m\u001b[0m\u001b[0;34m\u001b[0m\u001b[0m\n",
      "\u001b[0;32m//anaconda3/lib/python3.7/site-packages/pandas/core/dtypes/missing.py\u001b[0m in \u001b[0;36m_isna_ndarraylike\u001b[0;34m(obj)\u001b[0m\n\u001b[1;32m    218\u001b[0m         \u001b[0mresult\u001b[0m \u001b[0;34m=\u001b[0m \u001b[0mvalues\u001b[0m\u001b[0;34m.\u001b[0m\u001b[0mview\u001b[0m\u001b[0;34m(\u001b[0m\u001b[0;34m'i8'\u001b[0m\u001b[0;34m)\u001b[0m \u001b[0;34m==\u001b[0m \u001b[0miNaT\u001b[0m\u001b[0;34m\u001b[0m\u001b[0;34m\u001b[0m\u001b[0m\n\u001b[1;32m    219\u001b[0m     \u001b[0;32melse\u001b[0m\u001b[0;34m:\u001b[0m\u001b[0;34m\u001b[0m\u001b[0;34m\u001b[0m\u001b[0m\n\u001b[0;32m--> 220\u001b[0;31m         \u001b[0mresult\u001b[0m \u001b[0;34m=\u001b[0m \u001b[0mnp\u001b[0m\u001b[0;34m.\u001b[0m\u001b[0misnan\u001b[0m\u001b[0;34m(\u001b[0m\u001b[0mvalues\u001b[0m\u001b[0;34m)\u001b[0m\u001b[0;34m\u001b[0m\u001b[0;34m\u001b[0m\u001b[0m\n\u001b[0m\u001b[1;32m    221\u001b[0m \u001b[0;34m\u001b[0m\u001b[0m\n\u001b[1;32m    222\u001b[0m     \u001b[0;31m# box\u001b[0m\u001b[0;34m\u001b[0m\u001b[0;34m\u001b[0m\u001b[0;34m\u001b[0m\u001b[0m\n",
      "\u001b[0;31mKeyboardInterrupt\u001b[0m: "
     ]
    }
   ],
   "source": [
    "# Make a list of the squared errors between actual and predicted value\n",
    "\n",
    "errors = []\n",
    "for i in watched:\n",
    "    actual=piv.loc[3, i]\n",
    "    predicted = predicted_rating(i, 3)\n",
    "    errors.append((actual-predicted)**2)"
   ]
  },
  {
   "cell_type": "code",
   "execution_count": null,
   "metadata": {
    "ExecuteTime": {
     "end_time": "2020-05-23T04:31:10.266439Z",
     "start_time": "2020-05-23T03:41:46.068Z"
    },
    "_cell_guid": "6c05ec3d-7874-6ff2-c0a9-7d732b3485cf"
   },
   "outputs": [],
   "source": [
    "# This is the average squared error for user 3\n",
    "np.mean(errors)"
   ]
  },
  {
   "cell_type": "code",
   "execution_count": null,
   "metadata": {},
   "outputs": [],
   "source": []
  }
 ],
 "metadata": {
  "_change_revision": 0,
  "_is_fork": false,
  "kernelspec": {
   "display_name": "Python 3",
   "language": "python",
   "name": "python3"
  },
  "language_info": {
   "codemirror_mode": {
    "name": "ipython",
    "version": 3
   },
   "file_extension": ".py",
   "mimetype": "text/x-python",
   "name": "python",
   "nbconvert_exporter": "python",
   "pygments_lexer": "ipython3",
   "version": "3.7.3"
  },
  "toc": {
   "base_numbering": 1,
   "nav_menu": {},
   "number_sections": true,
   "sideBar": true,
   "skip_h1_title": false,
   "title_cell": "Table of Contents",
   "title_sidebar": "Contents",
   "toc_cell": false,
   "toc_position": {},
   "toc_section_display": true,
   "toc_window_display": false
  },
  "varInspector": {
   "cols": {
    "lenName": 16,
    "lenType": 16,
    "lenVar": 40
   },
   "kernels_config": {
    "python": {
     "delete_cmd_postfix": "",
     "delete_cmd_prefix": "del ",
     "library": "var_list.py",
     "varRefreshCmd": "print(var_dic_list())"
    },
    "r": {
     "delete_cmd_postfix": ") ",
     "delete_cmd_prefix": "rm(",
     "library": "var_list.r",
     "varRefreshCmd": "cat(var_dic_list()) "
    }
   },
   "types_to_exclude": [
    "module",
    "function",
    "builtin_function_or_method",
    "instance",
    "_Feature"
   ],
   "window_display": false
  }
 },
 "nbformat": 4,
 "nbformat_minor": 1
}
