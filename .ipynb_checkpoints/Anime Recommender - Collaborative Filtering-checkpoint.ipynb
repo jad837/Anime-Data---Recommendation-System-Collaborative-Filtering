{
 "cells": [
  {
   "cell_type": "markdown",
   "metadata": {
    "_cell_guid": "cde0f61c-f6ab-40b6-a757-c9394566aa62"
   },
   "source": [
    "Here I want to make a simple recommender system to find the similarity between shows, users and to help me predict whether a user will enjoy a particular anime."
   ]
  },
  {
   "cell_type": "code",
   "execution_count": 66,
   "metadata": {
    "ExecuteTime": {
     "end_time": "2020-05-26T04:33:01.704835Z",
     "start_time": "2020-05-26T04:32:59.852162Z"
    },
    "_cell_guid": "27f2680b-e691-70e4-e762-1bca22449d14"
   },
   "outputs": [],
   "source": [
    "# Import relevant libraries \n",
    "\n",
    "import pandas as pd\n",
    "import numpy as np\n",
    "import scipy as sp\n",
    "import sklearn\n",
    "from sklearn.decomposition import TruncatedSVD\n",
    "from sklearn.metrics.pairwise import cosine_similarity\n",
    "from sklearn.metrics import mean_squared_error\n",
    "from math import sqrt\n",
    "import operator\n",
    "%matplotlib inline\n"
   ]
  },
  {
   "cell_type": "code",
   "execution_count": 2,
   "metadata": {
    "ExecuteTime": {
     "end_time": "2020-05-25T19:23:27.198920Z",
     "start_time": "2020-05-25T19:23:25.245922Z"
    },
    "_cell_guid": "f5c1d1b7-983a-daa8-27ab-d25011d1f669"
   },
   "outputs": [],
   "source": [
    "# Loading CVS files as Dataframes\n",
    "anime = pd.read_csv('myAnimelist-No_Hentai 2.csv')\n",
    "rating = pd.read_csv('rating.csv')"
   ]
  },
  {
   "cell_type": "markdown",
   "metadata": {},
   "source": [
    "Replacing -1 value with a null value"
   ]
  },
  {
   "cell_type": "code",
   "execution_count": 3,
   "metadata": {
    "ExecuteTime": {
     "end_time": "2020-05-25T19:23:27.401921Z",
     "start_time": "2020-05-25T19:23:27.200921Z"
    }
   },
   "outputs": [
    {
     "data": {
      "text/html": [
       "<div>\n",
       "<style scoped>\n",
       "    .dataframe tbody tr th:only-of-type {\n",
       "        vertical-align: middle;\n",
       "    }\n",
       "\n",
       "    .dataframe tbody tr th {\n",
       "        vertical-align: top;\n",
       "    }\n",
       "\n",
       "    .dataframe thead th {\n",
       "        text-align: right;\n",
       "    }\n",
       "</style>\n",
       "<table border=\"1\" class=\"dataframe\">\n",
       "  <thead>\n",
       "    <tr style=\"text-align: right;\">\n",
       "      <th></th>\n",
       "      <th>user_id</th>\n",
       "      <th>anime_id</th>\n",
       "      <th>rating</th>\n",
       "    </tr>\n",
       "  </thead>\n",
       "  <tbody>\n",
       "    <tr>\n",
       "      <td>0</td>\n",
       "      <td>1</td>\n",
       "      <td>20</td>\n",
       "      <td>NaN</td>\n",
       "    </tr>\n",
       "    <tr>\n",
       "      <td>1</td>\n",
       "      <td>1</td>\n",
       "      <td>24</td>\n",
       "      <td>NaN</td>\n",
       "    </tr>\n",
       "    <tr>\n",
       "      <td>2</td>\n",
       "      <td>1</td>\n",
       "      <td>79</td>\n",
       "      <td>NaN</td>\n",
       "    </tr>\n",
       "    <tr>\n",
       "      <td>3</td>\n",
       "      <td>1</td>\n",
       "      <td>226</td>\n",
       "      <td>NaN</td>\n",
       "    </tr>\n",
       "    <tr>\n",
       "      <td>4</td>\n",
       "      <td>1</td>\n",
       "      <td>241</td>\n",
       "      <td>NaN</td>\n",
       "    </tr>\n",
       "  </tbody>\n",
       "</table>\n",
       "</div>"
      ],
      "text/plain": [
       "   user_id  anime_id  rating\n",
       "0        1        20     NaN\n",
       "1        1        24     NaN\n",
       "2        1        79     NaN\n",
       "3        1       226     NaN\n",
       "4        1       241     NaN"
      ]
     },
     "execution_count": 3,
     "metadata": {},
     "output_type": "execute_result"
    }
   ],
   "source": [
    "rating.rating.replace({-1: np.nan}, inplace = True)\n",
    "rating.head()"
   ]
  },
  {
   "cell_type": "code",
   "execution_count": 4,
   "metadata": {
    "ExecuteTime": {
     "end_time": "2020-05-25T19:23:27.411936Z",
     "start_time": "2020-05-25T19:23:27.403934Z"
    }
   },
   "outputs": [
    {
     "name": "stdout",
     "output_type": "stream",
     "text": [
      "(7813737, 3)\n"
     ]
    }
   ],
   "source": [
    "rating.head()\n",
    "print(rating.shape)"
   ]
  },
  {
   "cell_type": "markdown",
   "metadata": {},
   "source": [
    "Join the two dataframes on the anime_id columns"
   ]
  },
  {
   "cell_type": "code",
   "execution_count": 5,
   "metadata": {
    "ExecuteTime": {
     "end_time": "2020-05-25T19:23:27.430923Z",
     "start_time": "2020-05-25T19:23:27.413921Z"
    },
    "_cell_guid": "42760207-0e77-e6cc-03c1-5cb3d2107991",
    "scrolled": true
   },
   "outputs": [
    {
     "name": "stdout",
     "output_type": "stream",
     "text": [
      "(4103, 14)\n"
     ]
    }
   ],
   "source": [
    "# For this analysis I'm only interest in finding recommendations for the TV category\n",
    "\n",
    "anime_show = anime[anime['type']=='TV']\n",
    "anime_show.head()\n",
    "print(anime_show.shape)"
   ]
  },
  {
   "cell_type": "code",
   "execution_count": 6,
   "metadata": {
    "ExecuteTime": {
     "end_time": "2020-05-25T19:23:33.395922Z",
     "start_time": "2020-05-25T19:23:27.432922Z"
    },
    "_cell_guid": "333be05a-5492-67a2-a64c-154a52ac060f"
   },
   "outputs": [
    {
     "name": "stdout",
     "output_type": "stream",
     "text": [
      "(5185071, 16)\n"
     ]
    },
    {
     "data": {
      "text/html": [
       "<div>\n",
       "<style scoped>\n",
       "    .dataframe tbody tr th:only-of-type {\n",
       "        vertical-align: middle;\n",
       "    }\n",
       "\n",
       "    .dataframe tbody tr th {\n",
       "        vertical-align: top;\n",
       "    }\n",
       "\n",
       "    .dataframe thead th {\n",
       "        text-align: right;\n",
       "    }\n",
       "</style>\n",
       "<table border=\"1\" class=\"dataframe\">\n",
       "  <thead>\n",
       "    <tr style=\"text-align: right;\">\n",
       "      <th></th>\n",
       "      <th>user_id</th>\n",
       "      <th>anime_id</th>\n",
       "      <th>user_rating</th>\n",
       "      <th>name</th>\n",
       "      <th>type</th>\n",
       "      <th>source</th>\n",
       "      <th>episodes</th>\n",
       "      <th>duration</th>\n",
       "      <th>genre</th>\n",
       "      <th>rating</th>\n",
       "      <th>score</th>\n",
       "      <th>scored_by</th>\n",
       "      <th>rank</th>\n",
       "      <th>popularity</th>\n",
       "      <th>members</th>\n",
       "      <th>favorites</th>\n",
       "    </tr>\n",
       "  </thead>\n",
       "  <tbody>\n",
       "    <tr>\n",
       "      <td>0</td>\n",
       "      <td>1</td>\n",
       "      <td>20</td>\n",
       "      <td>NaN</td>\n",
       "      <td>Naruto</td>\n",
       "      <td>TV</td>\n",
       "      <td>Manga</td>\n",
       "      <td>220</td>\n",
       "      <td>0:23:00</td>\n",
       "      <td>['Action', 'Adventure', 'Comedy', 'Super Power...</td>\n",
       "      <td>PG-13 - Teens 13 or older</td>\n",
       "      <td>7.9</td>\n",
       "      <td>716412</td>\n",
       "      <td>705</td>\n",
       "      <td>10</td>\n",
       "      <td>1091313</td>\n",
       "      <td>39356</td>\n",
       "    </tr>\n",
       "    <tr>\n",
       "      <td>1</td>\n",
       "      <td>3</td>\n",
       "      <td>20</td>\n",
       "      <td>8.0</td>\n",
       "      <td>Naruto</td>\n",
       "      <td>TV</td>\n",
       "      <td>Manga</td>\n",
       "      <td>220</td>\n",
       "      <td>0:23:00</td>\n",
       "      <td>['Action', 'Adventure', 'Comedy', 'Super Power...</td>\n",
       "      <td>PG-13 - Teens 13 or older</td>\n",
       "      <td>7.9</td>\n",
       "      <td>716412</td>\n",
       "      <td>705</td>\n",
       "      <td>10</td>\n",
       "      <td>1091313</td>\n",
       "      <td>39356</td>\n",
       "    </tr>\n",
       "    <tr>\n",
       "      <td>2</td>\n",
       "      <td>5</td>\n",
       "      <td>20</td>\n",
       "      <td>6.0</td>\n",
       "      <td>Naruto</td>\n",
       "      <td>TV</td>\n",
       "      <td>Manga</td>\n",
       "      <td>220</td>\n",
       "      <td>0:23:00</td>\n",
       "      <td>['Action', 'Adventure', 'Comedy', 'Super Power...</td>\n",
       "      <td>PG-13 - Teens 13 or older</td>\n",
       "      <td>7.9</td>\n",
       "      <td>716412</td>\n",
       "      <td>705</td>\n",
       "      <td>10</td>\n",
       "      <td>1091313</td>\n",
       "      <td>39356</td>\n",
       "    </tr>\n",
       "    <tr>\n",
       "      <td>3</td>\n",
       "      <td>6</td>\n",
       "      <td>20</td>\n",
       "      <td>NaN</td>\n",
       "      <td>Naruto</td>\n",
       "      <td>TV</td>\n",
       "      <td>Manga</td>\n",
       "      <td>220</td>\n",
       "      <td>0:23:00</td>\n",
       "      <td>['Action', 'Adventure', 'Comedy', 'Super Power...</td>\n",
       "      <td>PG-13 - Teens 13 or older</td>\n",
       "      <td>7.9</td>\n",
       "      <td>716412</td>\n",
       "      <td>705</td>\n",
       "      <td>10</td>\n",
       "      <td>1091313</td>\n",
       "      <td>39356</td>\n",
       "    </tr>\n",
       "    <tr>\n",
       "      <td>4</td>\n",
       "      <td>10</td>\n",
       "      <td>20</td>\n",
       "      <td>NaN</td>\n",
       "      <td>Naruto</td>\n",
       "      <td>TV</td>\n",
       "      <td>Manga</td>\n",
       "      <td>220</td>\n",
       "      <td>0:23:00</td>\n",
       "      <td>['Action', 'Adventure', 'Comedy', 'Super Power...</td>\n",
       "      <td>PG-13 - Teens 13 or older</td>\n",
       "      <td>7.9</td>\n",
       "      <td>716412</td>\n",
       "      <td>705</td>\n",
       "      <td>10</td>\n",
       "      <td>1091313</td>\n",
       "      <td>39356</td>\n",
       "    </tr>\n",
       "  </tbody>\n",
       "</table>\n",
       "</div>"
      ],
      "text/plain": [
       "   user_id  anime_id  user_rating    name type source  episodes duration  \\\n",
       "0        1        20          NaN  Naruto   TV  Manga       220  0:23:00   \n",
       "1        3        20          8.0  Naruto   TV  Manga       220  0:23:00   \n",
       "2        5        20          6.0  Naruto   TV  Manga       220  0:23:00   \n",
       "3        6        20          NaN  Naruto   TV  Manga       220  0:23:00   \n",
       "4       10        20          NaN  Naruto   TV  Manga       220  0:23:00   \n",
       "\n",
       "                                               genre  \\\n",
       "0  ['Action', 'Adventure', 'Comedy', 'Super Power...   \n",
       "1  ['Action', 'Adventure', 'Comedy', 'Super Power...   \n",
       "2  ['Action', 'Adventure', 'Comedy', 'Super Power...   \n",
       "3  ['Action', 'Adventure', 'Comedy', 'Super Power...   \n",
       "4  ['Action', 'Adventure', 'Comedy', 'Super Power...   \n",
       "\n",
       "                      rating  score  scored_by  rank  popularity  members  \\\n",
       "0  PG-13 - Teens 13 or older    7.9     716412   705          10  1091313   \n",
       "1  PG-13 - Teens 13 or older    7.9     716412   705          10  1091313   \n",
       "2  PG-13 - Teens 13 or older    7.9     716412   705          10  1091313   \n",
       "3  PG-13 - Teens 13 or older    7.9     716412   705          10  1091313   \n",
       "4  PG-13 - Teens 13 or older    7.9     716412   705          10  1091313   \n",
       "\n",
       "   favorites  \n",
       "0      39356  \n",
       "1      39356  \n",
       "2      39356  \n",
       "3      39356  \n",
       "4      39356  "
      ]
     },
     "execution_count": 6,
     "metadata": {},
     "output_type": "execute_result"
    }
   ],
   "source": [
    "# Merging anime_show and rating dataframe with inner join\n",
    "merged = rating.merge(anime_show, left_on = 'anime_id', right_on = 'animeID', suffixes= ['_user', ''], how='inner')\n",
    "# Renaming column\n",
    "merged.rename(columns = {'rating_user':'user_rating'}, inplace = True)\n",
    "# Dropping extra column\n",
    "merged = merged.drop(columns=\"animeID\")\n",
    "print(merged.shape)\n",
    "merged.head()"
   ]
  },
  {
   "cell_type": "code",
   "execution_count": 7,
   "metadata": {
    "ExecuteTime": {
     "end_time": "2020-05-25T19:23:36.252922Z",
     "start_time": "2020-05-25T19:23:33.399921Z"
    },
    "scrolled": true
   },
   "outputs": [
    {
     "name": "stdout",
     "output_type": "stream",
     "text": [
      "(4284319, 16)\n"
     ]
    },
    {
     "data": {
      "text/html": [
       "<div>\n",
       "<style scoped>\n",
       "    .dataframe tbody tr th:only-of-type {\n",
       "        vertical-align: middle;\n",
       "    }\n",
       "\n",
       "    .dataframe tbody tr th {\n",
       "        vertical-align: top;\n",
       "    }\n",
       "\n",
       "    .dataframe thead th {\n",
       "        text-align: right;\n",
       "    }\n",
       "</style>\n",
       "<table border=\"1\" class=\"dataframe\">\n",
       "  <thead>\n",
       "    <tr style=\"text-align: right;\">\n",
       "      <th></th>\n",
       "      <th>user_id</th>\n",
       "      <th>anime_id</th>\n",
       "      <th>user_rating</th>\n",
       "      <th>name</th>\n",
       "      <th>type</th>\n",
       "      <th>source</th>\n",
       "      <th>episodes</th>\n",
       "      <th>duration</th>\n",
       "      <th>genre</th>\n",
       "      <th>rating</th>\n",
       "      <th>score</th>\n",
       "      <th>scored_by</th>\n",
       "      <th>rank</th>\n",
       "      <th>popularity</th>\n",
       "      <th>members</th>\n",
       "      <th>favorites</th>\n",
       "    </tr>\n",
       "  </thead>\n",
       "  <tbody>\n",
       "    <tr>\n",
       "      <td>1</td>\n",
       "      <td>3</td>\n",
       "      <td>20</td>\n",
       "      <td>8.0</td>\n",
       "      <td>Naruto</td>\n",
       "      <td>TV</td>\n",
       "      <td>Manga</td>\n",
       "      <td>220</td>\n",
       "      <td>0:23:00</td>\n",
       "      <td>['Action', 'Adventure', 'Comedy', 'Super Power...</td>\n",
       "      <td>PG-13 - Teens 13 or older</td>\n",
       "      <td>7.9</td>\n",
       "      <td>716412</td>\n",
       "      <td>705</td>\n",
       "      <td>10</td>\n",
       "      <td>1091313</td>\n",
       "      <td>39356</td>\n",
       "    </tr>\n",
       "    <tr>\n",
       "      <td>2</td>\n",
       "      <td>5</td>\n",
       "      <td>20</td>\n",
       "      <td>6.0</td>\n",
       "      <td>Naruto</td>\n",
       "      <td>TV</td>\n",
       "      <td>Manga</td>\n",
       "      <td>220</td>\n",
       "      <td>0:23:00</td>\n",
       "      <td>['Action', 'Adventure', 'Comedy', 'Super Power...</td>\n",
       "      <td>PG-13 - Teens 13 or older</td>\n",
       "      <td>7.9</td>\n",
       "      <td>716412</td>\n",
       "      <td>705</td>\n",
       "      <td>10</td>\n",
       "      <td>1091313</td>\n",
       "      <td>39356</td>\n",
       "    </tr>\n",
       "    <tr>\n",
       "      <td>5</td>\n",
       "      <td>21</td>\n",
       "      <td>20</td>\n",
       "      <td>8.0</td>\n",
       "      <td>Naruto</td>\n",
       "      <td>TV</td>\n",
       "      <td>Manga</td>\n",
       "      <td>220</td>\n",
       "      <td>0:23:00</td>\n",
       "      <td>['Action', 'Adventure', 'Comedy', 'Super Power...</td>\n",
       "      <td>PG-13 - Teens 13 or older</td>\n",
       "      <td>7.9</td>\n",
       "      <td>716412</td>\n",
       "      <td>705</td>\n",
       "      <td>10</td>\n",
       "      <td>1091313</td>\n",
       "      <td>39356</td>\n",
       "    </tr>\n",
       "    <tr>\n",
       "      <td>6</td>\n",
       "      <td>28</td>\n",
       "      <td>20</td>\n",
       "      <td>9.0</td>\n",
       "      <td>Naruto</td>\n",
       "      <td>TV</td>\n",
       "      <td>Manga</td>\n",
       "      <td>220</td>\n",
       "      <td>0:23:00</td>\n",
       "      <td>['Action', 'Adventure', 'Comedy', 'Super Power...</td>\n",
       "      <td>PG-13 - Teens 13 or older</td>\n",
       "      <td>7.9</td>\n",
       "      <td>716412</td>\n",
       "      <td>705</td>\n",
       "      <td>10</td>\n",
       "      <td>1091313</td>\n",
       "      <td>39356</td>\n",
       "    </tr>\n",
       "    <tr>\n",
       "      <td>7</td>\n",
       "      <td>34</td>\n",
       "      <td>20</td>\n",
       "      <td>9.0</td>\n",
       "      <td>Naruto</td>\n",
       "      <td>TV</td>\n",
       "      <td>Manga</td>\n",
       "      <td>220</td>\n",
       "      <td>0:23:00</td>\n",
       "      <td>['Action', 'Adventure', 'Comedy', 'Super Power...</td>\n",
       "      <td>PG-13 - Teens 13 or older</td>\n",
       "      <td>7.9</td>\n",
       "      <td>716412</td>\n",
       "      <td>705</td>\n",
       "      <td>10</td>\n",
       "      <td>1091313</td>\n",
       "      <td>39356</td>\n",
       "    </tr>\n",
       "  </tbody>\n",
       "</table>\n",
       "</div>"
      ],
      "text/plain": [
       "   user_id  anime_id  user_rating    name type source  episodes duration  \\\n",
       "1        3        20          8.0  Naruto   TV  Manga       220  0:23:00   \n",
       "2        5        20          6.0  Naruto   TV  Manga       220  0:23:00   \n",
       "5       21        20          8.0  Naruto   TV  Manga       220  0:23:00   \n",
       "6       28        20          9.0  Naruto   TV  Manga       220  0:23:00   \n",
       "7       34        20          9.0  Naruto   TV  Manga       220  0:23:00   \n",
       "\n",
       "                                               genre  \\\n",
       "1  ['Action', 'Adventure', 'Comedy', 'Super Power...   \n",
       "2  ['Action', 'Adventure', 'Comedy', 'Super Power...   \n",
       "5  ['Action', 'Adventure', 'Comedy', 'Super Power...   \n",
       "6  ['Action', 'Adventure', 'Comedy', 'Super Power...   \n",
       "7  ['Action', 'Adventure', 'Comedy', 'Super Power...   \n",
       "\n",
       "                      rating  score  scored_by  rank  popularity  members  \\\n",
       "1  PG-13 - Teens 13 or older    7.9     716412   705          10  1091313   \n",
       "2  PG-13 - Teens 13 or older    7.9     716412   705          10  1091313   \n",
       "5  PG-13 - Teens 13 or older    7.9     716412   705          10  1091313   \n",
       "6  PG-13 - Teens 13 or older    7.9     716412   705          10  1091313   \n",
       "7  PG-13 - Teens 13 or older    7.9     716412   705          10  1091313   \n",
       "\n",
       "   favorites  \n",
       "1      39356  \n",
       "2      39356  \n",
       "5      39356  \n",
       "6      39356  \n",
       "7      39356  "
      ]
     },
     "execution_count": 7,
     "metadata": {},
     "output_type": "execute_result"
    }
   ],
   "source": [
    "merged2 = merged.dropna()\n",
    "print(merged2.shape)\n",
    "merged2.head()"
   ]
  },
  {
   "cell_type": "code",
   "execution_count": 16,
   "metadata": {
    "ExecuteTime": {
     "end_time": "2020-05-25T22:32:08.355648Z",
     "start_time": "2020-05-25T22:32:07.859648Z"
    }
   },
   "outputs": [
    {
     "data": {
      "text/html": [
       "<div>\n",
       "<style scoped>\n",
       "    .dataframe tbody tr th:only-of-type {\n",
       "        vertical-align: middle;\n",
       "    }\n",
       "\n",
       "    .dataframe tbody tr th {\n",
       "        vertical-align: top;\n",
       "    }\n",
       "\n",
       "    .dataframe thead th {\n",
       "        text-align: right;\n",
       "    }\n",
       "</style>\n",
       "<table border=\"1\" class=\"dataframe\">\n",
       "  <thead>\n",
       "    <tr style=\"text-align: right;\">\n",
       "      <th></th>\n",
       "      <th>user_id</th>\n",
       "      <th>name</th>\n",
       "      <th>user_rating</th>\n",
       "    </tr>\n",
       "  </thead>\n",
       "  <tbody>\n",
       "    <tr>\n",
       "      <td>1</td>\n",
       "      <td>3</td>\n",
       "      <td>Naruto</td>\n",
       "      <td>8.0</td>\n",
       "    </tr>\n",
       "    <tr>\n",
       "      <td>2</td>\n",
       "      <td>5</td>\n",
       "      <td>Naruto</td>\n",
       "      <td>6.0</td>\n",
       "    </tr>\n",
       "    <tr>\n",
       "      <td>5</td>\n",
       "      <td>21</td>\n",
       "      <td>Naruto</td>\n",
       "      <td>8.0</td>\n",
       "    </tr>\n",
       "    <tr>\n",
       "      <td>6</td>\n",
       "      <td>28</td>\n",
       "      <td>Naruto</td>\n",
       "      <td>9.0</td>\n",
       "    </tr>\n",
       "    <tr>\n",
       "      <td>7</td>\n",
       "      <td>34</td>\n",
       "      <td>Naruto</td>\n",
       "      <td>9.0</td>\n",
       "    </tr>\n",
       "  </tbody>\n",
       "</table>\n",
       "</div>"
      ],
      "text/plain": [
       "   user_id    name  user_rating\n",
       "1        3  Naruto          8.0\n",
       "2        5  Naruto          6.0\n",
       "5       21  Naruto          8.0\n",
       "6       28  Naruto          9.0\n",
       "7       34  Naruto          9.0"
      ]
     },
     "execution_count": 16,
     "metadata": {},
     "output_type": "execute_result"
    }
   ],
   "source": [
    "# For computing reasons I'm limiting the dataframe length to 25,000 users\n",
    "\n",
    "merged2=merged2[['user_id', 'name', 'user_rating']]\n",
    "merged_sub= merged2[merged2.user_id <= 25000]\n",
    "merged_sub.head()"
   ]
  },
  {
   "cell_type": "markdown",
   "metadata": {
    "_cell_guid": "422fb6ee-644a-562f-ae27-99e759feaa6e"
   },
   "source": [
    "Pivoting table of users on one axis and tv show names along the other. This helps us in defining the similarity between users and shows to better predict who will like what."
   ]
  },
  {
   "cell_type": "code",
   "execution_count": 17,
   "metadata": {
    "ExecuteTime": {
     "end_time": "2020-05-25T22:32:21.149249Z",
     "start_time": "2020-05-25T22:32:08.844196Z"
    },
    "_cell_guid": "f7e42fe9-5cf2-c1fb-52ae-1d512c248a72"
   },
   "outputs": [],
   "source": [
    "piv = merged_sub.pivot_table(index=['user_id'], columns=['name'], values='user_rating',fill_value=0)"
   ]
  },
  {
   "cell_type": "code",
   "execution_count": 18,
   "metadata": {
    "ExecuteTime": {
     "end_time": "2020-05-25T22:32:21.177195Z",
     "start_time": "2020-05-25T22:32:21.151214Z"
    },
    "_cell_guid": "978bc3ed-21c1-d563-13a8-f0b3056e8e7a"
   },
   "outputs": [
    {
     "name": "stdout",
     "output_type": "stream",
     "text": [
      "(23408, 2811)\n"
     ]
    },
    {
     "data": {
      "text/html": [
       "<div>\n",
       "<style scoped>\n",
       "    .dataframe tbody tr th:only-of-type {\n",
       "        vertical-align: middle;\n",
       "    }\n",
       "\n",
       "    .dataframe tbody tr th {\n",
       "        vertical-align: top;\n",
       "    }\n",
       "\n",
       "    .dataframe thead th {\n",
       "        text-align: right;\n",
       "    }\n",
       "</style>\n",
       "<table border=\"1\" class=\"dataframe\">\n",
       "  <thead>\n",
       "    <tr style=\"text-align: right;\">\n",
       "      <th>name</th>\n",
       "      <th>.hack//Roots</th>\n",
       "      <th>.hack//Sign</th>\n",
       "      <th>009-1</th>\n",
       "      <th>07-Ghost</th>\n",
       "      <th>11eyes</th>\n",
       "      <th>12-sai.: Chicchana Mune no Tokimeki</th>\n",
       "      <th>12-sai.: Chicchana Mune no Tokimeki 2nd Season</th>\n",
       "      <th>3 Choume no Tama: Uchi no Tama Shirimasenka?</th>\n",
       "      <th>30-sai no Hoken Taiiku</th>\n",
       "      <th>91 Days</th>\n",
       "      <th>...</th>\n",
       "      <th>Zombie-Loan</th>\n",
       "      <th>Zone of the Enders: Dolores, I</th>\n",
       "      <th>Zukkoke Knight: Don De La Mancha</th>\n",
       "      <th>ef: A Tale of Melodies.</th>\n",
       "      <th>ef: A Tale of Memories.</th>\n",
       "      <th>gdgd Fairies</th>\n",
       "      <th>gdgd Fairies 2</th>\n",
       "      <th>s.CRY.ed</th>\n",
       "      <th>xxxHOLiC</th>\n",
       "      <th>xxxHOLiC Kei</th>\n",
       "    </tr>\n",
       "    <tr>\n",
       "      <th>user_id</th>\n",
       "      <th></th>\n",
       "      <th></th>\n",
       "      <th></th>\n",
       "      <th></th>\n",
       "      <th></th>\n",
       "      <th></th>\n",
       "      <th></th>\n",
       "      <th></th>\n",
       "      <th></th>\n",
       "      <th></th>\n",
       "      <th></th>\n",
       "      <th></th>\n",
       "      <th></th>\n",
       "      <th></th>\n",
       "      <th></th>\n",
       "      <th></th>\n",
       "      <th></th>\n",
       "      <th></th>\n",
       "      <th></th>\n",
       "      <th></th>\n",
       "      <th></th>\n",
       "    </tr>\n",
       "  </thead>\n",
       "  <tbody>\n",
       "    <tr>\n",
       "      <td>1</td>\n",
       "      <td>0</td>\n",
       "      <td>0</td>\n",
       "      <td>0</td>\n",
       "      <td>0</td>\n",
       "      <td>0</td>\n",
       "      <td>0</td>\n",
       "      <td>0</td>\n",
       "      <td>0</td>\n",
       "      <td>0</td>\n",
       "      <td>0</td>\n",
       "      <td>...</td>\n",
       "      <td>0</td>\n",
       "      <td>0</td>\n",
       "      <td>0</td>\n",
       "      <td>0</td>\n",
       "      <td>0</td>\n",
       "      <td>0</td>\n",
       "      <td>0</td>\n",
       "      <td>0</td>\n",
       "      <td>0</td>\n",
       "      <td>0</td>\n",
       "    </tr>\n",
       "    <tr>\n",
       "      <td>2</td>\n",
       "      <td>0</td>\n",
       "      <td>0</td>\n",
       "      <td>0</td>\n",
       "      <td>0</td>\n",
       "      <td>0</td>\n",
       "      <td>0</td>\n",
       "      <td>0</td>\n",
       "      <td>0</td>\n",
       "      <td>0</td>\n",
       "      <td>0</td>\n",
       "      <td>...</td>\n",
       "      <td>0</td>\n",
       "      <td>0</td>\n",
       "      <td>0</td>\n",
       "      <td>0</td>\n",
       "      <td>0</td>\n",
       "      <td>0</td>\n",
       "      <td>0</td>\n",
       "      <td>0</td>\n",
       "      <td>0</td>\n",
       "      <td>0</td>\n",
       "    </tr>\n",
       "    <tr>\n",
       "      <td>3</td>\n",
       "      <td>0</td>\n",
       "      <td>0</td>\n",
       "      <td>0</td>\n",
       "      <td>0</td>\n",
       "      <td>0</td>\n",
       "      <td>0</td>\n",
       "      <td>0</td>\n",
       "      <td>0</td>\n",
       "      <td>0</td>\n",
       "      <td>0</td>\n",
       "      <td>...</td>\n",
       "      <td>7</td>\n",
       "      <td>0</td>\n",
       "      <td>0</td>\n",
       "      <td>0</td>\n",
       "      <td>0</td>\n",
       "      <td>0</td>\n",
       "      <td>0</td>\n",
       "      <td>0</td>\n",
       "      <td>0</td>\n",
       "      <td>0</td>\n",
       "    </tr>\n",
       "    <tr>\n",
       "      <td>5</td>\n",
       "      <td>0</td>\n",
       "      <td>0</td>\n",
       "      <td>0</td>\n",
       "      <td>0</td>\n",
       "      <td>0</td>\n",
       "      <td>0</td>\n",
       "      <td>0</td>\n",
       "      <td>0</td>\n",
       "      <td>0</td>\n",
       "      <td>0</td>\n",
       "      <td>...</td>\n",
       "      <td>0</td>\n",
       "      <td>0</td>\n",
       "      <td>0</td>\n",
       "      <td>0</td>\n",
       "      <td>0</td>\n",
       "      <td>0</td>\n",
       "      <td>0</td>\n",
       "      <td>0</td>\n",
       "      <td>2</td>\n",
       "      <td>0</td>\n",
       "    </tr>\n",
       "    <tr>\n",
       "      <td>7</td>\n",
       "      <td>0</td>\n",
       "      <td>0</td>\n",
       "      <td>0</td>\n",
       "      <td>0</td>\n",
       "      <td>0</td>\n",
       "      <td>0</td>\n",
       "      <td>0</td>\n",
       "      <td>0</td>\n",
       "      <td>0</td>\n",
       "      <td>0</td>\n",
       "      <td>...</td>\n",
       "      <td>0</td>\n",
       "      <td>0</td>\n",
       "      <td>0</td>\n",
       "      <td>0</td>\n",
       "      <td>0</td>\n",
       "      <td>0</td>\n",
       "      <td>0</td>\n",
       "      <td>0</td>\n",
       "      <td>0</td>\n",
       "      <td>0</td>\n",
       "    </tr>\n",
       "  </tbody>\n",
       "</table>\n",
       "<p>5 rows × 2811 columns</p>\n",
       "</div>"
      ],
      "text/plain": [
       "name     .hack//Roots  .hack//Sign  009-1  07-Ghost  11eyes  \\\n",
       "user_id                                                       \n",
       "1                   0            0      0         0       0   \n",
       "2                   0            0      0         0       0   \n",
       "3                   0            0      0         0       0   \n",
       "5                   0            0      0         0       0   \n",
       "7                   0            0      0         0       0   \n",
       "\n",
       "name     12-sai.: Chicchana Mune no Tokimeki  \\\n",
       "user_id                                        \n",
       "1                                          0   \n",
       "2                                          0   \n",
       "3                                          0   \n",
       "5                                          0   \n",
       "7                                          0   \n",
       "\n",
       "name     12-sai.: Chicchana Mune no Tokimeki 2nd Season  \\\n",
       "user_id                                                   \n",
       "1                                                     0   \n",
       "2                                                     0   \n",
       "3                                                     0   \n",
       "5                                                     0   \n",
       "7                                                     0   \n",
       "\n",
       "name     3 Choume no Tama: Uchi no Tama Shirimasenka?  30-sai no Hoken Taiiku  \\\n",
       "user_id                                                                         \n",
       "1                                                   0                       0   \n",
       "2                                                   0                       0   \n",
       "3                                                   0                       0   \n",
       "5                                                   0                       0   \n",
       "7                                                   0                       0   \n",
       "\n",
       "name     91 Days  ...  Zombie-Loan  Zone of the Enders: Dolores, I  \\\n",
       "user_id           ...                                                \n",
       "1              0  ...            0                               0   \n",
       "2              0  ...            0                               0   \n",
       "3              0  ...            7                               0   \n",
       "5              0  ...            0                               0   \n",
       "7              0  ...            0                               0   \n",
       "\n",
       "name     Zukkoke Knight: Don De La Mancha  ef: A Tale of Melodies.  \\\n",
       "user_id                                                              \n",
       "1                                       0                        0   \n",
       "2                                       0                        0   \n",
       "3                                       0                        0   \n",
       "5                                       0                        0   \n",
       "7                                       0                        0   \n",
       "\n",
       "name     ef: A Tale of Memories.  gdgd Fairies  gdgd Fairies 2  s.CRY.ed  \\\n",
       "user_id                                                                    \n",
       "1                              0             0               0         0   \n",
       "2                              0             0               0         0   \n",
       "3                              0             0               0         0   \n",
       "5                              0             0               0         0   \n",
       "7                              0             0               0         0   \n",
       "\n",
       "name     xxxHOLiC  xxxHOLiC Kei  \n",
       "user_id                          \n",
       "1               0             0  \n",
       "2               0             0  \n",
       "3               0             0  \n",
       "5               2             0  \n",
       "7               0             0  \n",
       "\n",
       "[5 rows x 2811 columns]"
      ]
     },
     "execution_count": 18,
     "metadata": {},
     "output_type": "execute_result"
    }
   ],
   "source": [
    "print(piv.shape)\n",
    "piv.head()"
   ]
  },
  {
   "cell_type": "markdown",
   "metadata": {
    "ExecuteTime": {
     "end_time": "2020-05-23T05:39:38.932573Z",
     "start_time": "2020-05-23T05:39:38.927092Z"
    }
   },
   "source": [
    "Transposing the Matrix (eg. pivoted table)"
   ]
  },
  {
   "cell_type": "code",
   "execution_count": 19,
   "metadata": {
    "ExecuteTime": {
     "end_time": "2020-05-25T22:32:53.532198Z",
     "start_time": "2020-05-25T22:32:21.179195Z"
    },
    "scrolled": true
   },
   "outputs": [
    {
     "name": "stdout",
     "output_type": "stream",
     "text": [
      "(2811, 23408)\n"
     ]
    },
    {
     "data": {
      "text/html": [
       "<div>\n",
       "<style scoped>\n",
       "    .dataframe tbody tr th:only-of-type {\n",
       "        vertical-align: middle;\n",
       "    }\n",
       "\n",
       "    .dataframe tbody tr th {\n",
       "        vertical-align: top;\n",
       "    }\n",
       "\n",
       "    .dataframe thead th {\n",
       "        text-align: right;\n",
       "    }\n",
       "</style>\n",
       "<table border=\"1\" class=\"dataframe\">\n",
       "  <thead>\n",
       "    <tr style=\"text-align: right;\">\n",
       "      <th>user_id</th>\n",
       "      <th>1</th>\n",
       "      <th>2</th>\n",
       "      <th>3</th>\n",
       "      <th>5</th>\n",
       "      <th>7</th>\n",
       "      <th>8</th>\n",
       "      <th>9</th>\n",
       "      <th>10</th>\n",
       "      <th>11</th>\n",
       "      <th>12</th>\n",
       "      <th>...</th>\n",
       "      <th>24990</th>\n",
       "      <th>24991</th>\n",
       "      <th>24992</th>\n",
       "      <th>24993</th>\n",
       "      <th>24994</th>\n",
       "      <th>24995</th>\n",
       "      <th>24996</th>\n",
       "      <th>24997</th>\n",
       "      <th>24999</th>\n",
       "      <th>25000</th>\n",
       "    </tr>\n",
       "    <tr>\n",
       "      <th>name</th>\n",
       "      <th></th>\n",
       "      <th></th>\n",
       "      <th></th>\n",
       "      <th></th>\n",
       "      <th></th>\n",
       "      <th></th>\n",
       "      <th></th>\n",
       "      <th></th>\n",
       "      <th></th>\n",
       "      <th></th>\n",
       "      <th></th>\n",
       "      <th></th>\n",
       "      <th></th>\n",
       "      <th></th>\n",
       "      <th></th>\n",
       "      <th></th>\n",
       "      <th></th>\n",
       "      <th></th>\n",
       "      <th></th>\n",
       "      <th></th>\n",
       "      <th></th>\n",
       "    </tr>\n",
       "  </thead>\n",
       "  <tbody>\n",
       "    <tr>\n",
       "      <td>.hack//Roots</td>\n",
       "      <td>-0.001423</td>\n",
       "      <td>-0.000356</td>\n",
       "      <td>-0.018356</td>\n",
       "      <td>-0.047207</td>\n",
       "      <td>-0.06005</td>\n",
       "      <td>-0.003557</td>\n",
       "      <td>-0.000356</td>\n",
       "      <td>-0.000996</td>\n",
       "      <td>-0.015439</td>\n",
       "      <td>-0.006012</td>\n",
       "      <td>...</td>\n",
       "      <td>-0.009</td>\n",
       "      <td>-0.028104</td>\n",
       "      <td>-0.052437</td>\n",
       "      <td>-0.01608</td>\n",
       "      <td>-0.000356</td>\n",
       "      <td>-0.048061</td>\n",
       "      <td>-0.000996</td>\n",
       "      <td>-0.017538</td>\n",
       "      <td>-0.003415</td>\n",
       "      <td>-0.002953</td>\n",
       "    </tr>\n",
       "    <tr>\n",
       "      <td>.hack//Sign</td>\n",
       "      <td>-0.001423</td>\n",
       "      <td>-0.000356</td>\n",
       "      <td>-0.018356</td>\n",
       "      <td>-0.047207</td>\n",
       "      <td>-0.06005</td>\n",
       "      <td>-0.003557</td>\n",
       "      <td>-0.000356</td>\n",
       "      <td>-0.000996</td>\n",
       "      <td>-0.015439</td>\n",
       "      <td>-0.006012</td>\n",
       "      <td>...</td>\n",
       "      <td>-0.009</td>\n",
       "      <td>-0.028104</td>\n",
       "      <td>-0.052437</td>\n",
       "      <td>-0.01608</td>\n",
       "      <td>-0.000356</td>\n",
       "      <td>-0.048061</td>\n",
       "      <td>-0.000996</td>\n",
       "      <td>-0.017538</td>\n",
       "      <td>-0.003415</td>\n",
       "      <td>-0.002953</td>\n",
       "    </tr>\n",
       "    <tr>\n",
       "      <td>009-1</td>\n",
       "      <td>-0.001423</td>\n",
       "      <td>-0.000356</td>\n",
       "      <td>-0.018356</td>\n",
       "      <td>-0.047207</td>\n",
       "      <td>-0.06005</td>\n",
       "      <td>-0.003557</td>\n",
       "      <td>-0.000356</td>\n",
       "      <td>-0.000996</td>\n",
       "      <td>-0.015439</td>\n",
       "      <td>-0.006012</td>\n",
       "      <td>...</td>\n",
       "      <td>-0.009</td>\n",
       "      <td>-0.028104</td>\n",
       "      <td>-0.052437</td>\n",
       "      <td>-0.01608</td>\n",
       "      <td>-0.000356</td>\n",
       "      <td>-0.048061</td>\n",
       "      <td>-0.000996</td>\n",
       "      <td>-0.017538</td>\n",
       "      <td>-0.003415</td>\n",
       "      <td>-0.002953</td>\n",
       "    </tr>\n",
       "    <tr>\n",
       "      <td>07-Ghost</td>\n",
       "      <td>-0.001423</td>\n",
       "      <td>-0.000356</td>\n",
       "      <td>-0.018356</td>\n",
       "      <td>-0.047207</td>\n",
       "      <td>-0.06005</td>\n",
       "      <td>-0.003557</td>\n",
       "      <td>-0.000356</td>\n",
       "      <td>-0.000996</td>\n",
       "      <td>-0.015439</td>\n",
       "      <td>-0.006012</td>\n",
       "      <td>...</td>\n",
       "      <td>-0.009</td>\n",
       "      <td>-0.028104</td>\n",
       "      <td>-0.052437</td>\n",
       "      <td>0.98392</td>\n",
       "      <td>-0.000356</td>\n",
       "      <td>-0.048061</td>\n",
       "      <td>-0.000996</td>\n",
       "      <td>-0.017538</td>\n",
       "      <td>-0.003415</td>\n",
       "      <td>-0.002953</td>\n",
       "    </tr>\n",
       "    <tr>\n",
       "      <td>11eyes</td>\n",
       "      <td>-0.001423</td>\n",
       "      <td>-0.000356</td>\n",
       "      <td>-0.018356</td>\n",
       "      <td>-0.047207</td>\n",
       "      <td>-0.06005</td>\n",
       "      <td>-0.003557</td>\n",
       "      <td>-0.000356</td>\n",
       "      <td>-0.000996</td>\n",
       "      <td>-0.015439</td>\n",
       "      <td>-0.006012</td>\n",
       "      <td>...</td>\n",
       "      <td>-0.009</td>\n",
       "      <td>-0.028104</td>\n",
       "      <td>-0.052437</td>\n",
       "      <td>-0.01608</td>\n",
       "      <td>-0.000356</td>\n",
       "      <td>0.351939</td>\n",
       "      <td>-0.000996</td>\n",
       "      <td>-0.017538</td>\n",
       "      <td>-0.003415</td>\n",
       "      <td>-0.002953</td>\n",
       "    </tr>\n",
       "  </tbody>\n",
       "</table>\n",
       "<p>5 rows × 23408 columns</p>\n",
       "</div>"
      ],
      "text/plain": [
       "user_id          1         2         3         5        7         8      \\\n",
       "name                                                                      \n",
       ".hack//Roots -0.001423 -0.000356 -0.018356 -0.047207 -0.06005 -0.003557   \n",
       ".hack//Sign  -0.001423 -0.000356 -0.018356 -0.047207 -0.06005 -0.003557   \n",
       "009-1        -0.001423 -0.000356 -0.018356 -0.047207 -0.06005 -0.003557   \n",
       "07-Ghost     -0.001423 -0.000356 -0.018356 -0.047207 -0.06005 -0.003557   \n",
       "11eyes       -0.001423 -0.000356 -0.018356 -0.047207 -0.06005 -0.003557   \n",
       "\n",
       "user_id          9         10        11        12     ...  24990     24991  \\\n",
       "name                                                  ...                    \n",
       ".hack//Roots -0.000356 -0.000996 -0.015439 -0.006012  ... -0.009 -0.028104   \n",
       ".hack//Sign  -0.000356 -0.000996 -0.015439 -0.006012  ... -0.009 -0.028104   \n",
       "009-1        -0.000356 -0.000996 -0.015439 -0.006012  ... -0.009 -0.028104   \n",
       "07-Ghost     -0.000356 -0.000996 -0.015439 -0.006012  ... -0.009 -0.028104   \n",
       "11eyes       -0.000356 -0.000996 -0.015439 -0.006012  ... -0.009 -0.028104   \n",
       "\n",
       "user_id          24992    24993     24994     24995     24996     24997  \\\n",
       "name                                                                      \n",
       ".hack//Roots -0.052437 -0.01608 -0.000356 -0.048061 -0.000996 -0.017538   \n",
       ".hack//Sign  -0.052437 -0.01608 -0.000356 -0.048061 -0.000996 -0.017538   \n",
       "009-1        -0.052437 -0.01608 -0.000356 -0.048061 -0.000996 -0.017538   \n",
       "07-Ghost     -0.052437  0.98392 -0.000356 -0.048061 -0.000996 -0.017538   \n",
       "11eyes       -0.052437 -0.01608 -0.000356  0.351939 -0.000996 -0.017538   \n",
       "\n",
       "user_id          24999     25000  \n",
       "name                              \n",
       ".hack//Roots -0.003415 -0.002953  \n",
       ".hack//Sign  -0.003415 -0.002953  \n",
       "009-1        -0.003415 -0.002953  \n",
       "07-Ghost     -0.003415 -0.002953  \n",
       "11eyes       -0.003415 -0.002953  \n",
       "\n",
       "[5 rows x 23408 columns]"
      ]
     },
     "execution_count": 19,
     "metadata": {},
     "output_type": "execute_result"
    }
   ],
   "source": [
    "# Note: As we are subtracting the mean from each rating to standardize\n",
    "# all users with only one rating or who had rated everything the same will be dropped\n",
    "\n",
    "# Normalize the values\n",
    "piv_norm = piv.apply(lambda x: (x-np.mean(x))/(np.max(x)-np.min(x)), axis=1)\n",
    "# # Drop all columns containing only zeros representing users who did not rate\n",
    "piv_norm.fillna(0, inplace=True)\n",
    "\n",
    "\n",
    "# Transposing the Matrix\n",
    "piv_norm = piv_norm.T\n",
    "piv_norm = piv_norm.loc[:, (piv_norm != 0).any(axis=0)]\n",
    "\n",
    "print(piv_norm.shape)\n",
    "piv_norm.head()"
   ]
  },
  {
   "cell_type": "code",
   "execution_count": 20,
   "metadata": {
    "ExecuteTime": {
     "end_time": "2020-05-25T22:32:57.728195Z",
     "start_time": "2020-05-25T22:32:53.535196Z"
    }
   },
   "outputs": [
    {
     "name": "stdout",
     "output_type": "stream",
     "text": [
      "(2811, 23408)\n"
     ]
    },
    {
     "data": {
      "text/plain": [
       "<2811x23408 sparse matrix of type '<class 'numpy.float64'>'\n",
       "\twith 65799888 stored elements in Compressed Sparse Row format>"
      ]
     },
     "execution_count": 20,
     "metadata": {},
     "output_type": "execute_result"
    }
   ],
   "source": [
    "# Our data needs to be in a sparse matrix format to be read by the following functions\n",
    "piv_sparse = sp.sparse.csr_matrix(piv_norm.values)\n",
    "print(piv_sparse.shape)\n",
    "piv_sparse"
   ]
  },
  {
   "cell_type": "code",
   "execution_count": 21,
   "metadata": {
    "ExecuteTime": {
     "end_time": "2020-05-25T22:42:07.695511Z",
     "start_time": "2020-05-25T22:32:57.730196Z"
    }
   },
   "outputs": [],
   "source": [
    "# Matrix showing the computed cosine similarity of anime to anime \n",
    "anime_similarity = cosine_similarity(piv_sparse)\n",
    "# print(anime_similarity.shape)"
   ]
  },
  {
   "cell_type": "code",
   "execution_count": 22,
   "metadata": {
    "ExecuteTime": {
     "end_time": "2020-05-25T23:56:34.036148Z",
     "start_time": "2020-05-25T22:42:07.697510Z"
    }
   },
   "outputs": [],
   "source": [
    "# Matrix showing the computed cosine similarity of user to user \n",
    "user_similarity = cosine_similarity(piv_sparse.T)\n",
    "# print(user_similarity.shape)"
   ]
  },
  {
   "cell_type": "code",
   "execution_count": 23,
   "metadata": {
    "ExecuteTime": {
     "end_time": "2020-05-25T23:56:34.064149Z",
     "start_time": "2020-05-25T23:56:34.042149Z"
    }
   },
   "outputs": [],
   "source": [
    "# Inserting the 2 similarity matricies into separate dataframe objects\n",
    "\n",
    "# Item to Item cosine similarity \n",
    "anime_sim_df = pd.DataFrame(anime_similarity, index = piv_norm.index, columns = piv_norm.index)\n",
    "# User to User cosine similarity \n",
    "user_sim_df = pd.DataFrame(user_similarity, index = piv_norm.columns, columns = piv_norm.columns)"
   ]
  },
  {
   "cell_type": "code",
   "execution_count": 24,
   "metadata": {
    "ExecuteTime": {
     "end_time": "2020-05-25T23:56:34.082150Z",
     "start_time": "2020-05-25T23:56:34.066150Z"
    },
    "_cell_guid": "5cd7919d-163a-7fd8-da8e-c06ce1d705f1"
   },
   "outputs": [],
   "source": [
    "# This function will return the top 10 shows with the highest cosine similarity value\n",
    "\n",
    "def top_animes(anime_title):\n",
    "    count = 1\n",
    "    print(f'Top 10 similar Anime shows compared to {anime_title}:\\n')\n",
    "    for anime in anime_sim_df.sort_values(by = anime_title, ascending = False).index[1:11]: \n",
    "        print(f'No. {count}: {anime}')\n",
    "        count +=1"
   ]
  },
  {
   "cell_type": "code",
   "execution_count": 25,
   "metadata": {
    "ExecuteTime": {
     "end_time": "2020-05-25T23:56:34.117151Z",
     "start_time": "2020-05-25T23:56:34.087149Z"
    },
    "_cell_guid": "725964d6-986f-d34b-a616-c10b4f504fc7"
   },
   "outputs": [],
   "source": [
    "# This function will return the top 5 users with the highest similarity value \n",
    "\n",
    "def top_users(user):\n",
    "    \n",
    "    if user not in piv_norm.columns:\n",
    "        return(f'No data available on user {user}')\n",
    "    \n",
    "    print(f'Top 10 similar Users compared to {user}:\\n')\n",
    "    sim_values = user_sim_df.sort_values(by=user, ascending=False).loc[:,user].tolist()[1:11]\n",
    "    sim_users = user_sim_df.sort_values(by=user, ascending=False).index[1:11]\n",
    "    zipped = zip(sim_users, sim_values,)\n",
    "    for user, sim in zipped:\n",
    "        print('User #{0}, Similarity value: {1:.2f}'.format(user, sim))"
   ]
  },
  {
   "cell_type": "code",
   "execution_count": 26,
   "metadata": {
    "ExecuteTime": {
     "end_time": "2020-05-25T23:56:34.142149Z",
     "start_time": "2020-05-25T23:56:34.125150Z"
    },
    "_cell_guid": "876a5010-0e99-7aa8-5e9c-e704181b81a3"
   },
   "outputs": [],
   "source": [
    "# This function constructs a list of lists containing the highest rated shows per similar user\n",
    "# and returns the name of the show along with the frequency it appears in the list\n",
    "\n",
    "def similar_user_recs(user):\n",
    "    \n",
    "    if user not in piv_norm.columns:\n",
    "        return(f'No data available on user {user}')\n",
    "    \n",
    "    sim_users = user_sim_df.sort_values(by=user, ascending=False).index[1:11]\n",
    "    best = []\n",
    "    most_common = {}\n",
    "    \n",
    "    for i in sim_users:\n",
    "        max_score = piv_norm.loc[:, i].max()\n",
    "        best.append(piv_norm[piv_norm.loc[:, i]==max_score].index.tolist())\n",
    "    for i in range(len(best)):\n",
    "        for j in best[i]:\n",
    "            if j in most_common:\n",
    "                most_common[j] += 1\n",
    "            else:\n",
    "                most_common[j] = 1\n",
    "    sorted_list = sorted(most_common.items(), key=operator.itemgetter(1), reverse=True)\n",
    "    return sorted_list[:5]"
   ]
  },
  {
   "cell_type": "code",
   "execution_count": 39,
   "metadata": {
    "ExecuteTime": {
     "end_time": "2020-05-26T02:43:02.884621Z",
     "start_time": "2020-05-26T02:43:02.875621Z"
    },
    "_cell_guid": "55c0e789-caa4-3c6d-c062-f58fb8268a2e"
   },
   "outputs": [],
   "source": [
    "# This function calculates the weighted average of similar users\n",
    "# to determine a potential rating for an input user and show\n",
    "\n",
    "def predicted_rating(anime_name, user):\n",
    "    sim_users = user_sim_df.sort_values(by=user, ascending=False).index[1:1000]\n",
    "    user_values = user_sim_df.sort_values(by=user, ascending=False).loc[:,user].tolist()[1:1000]\n",
    "    rating_list = []\n",
    "    weight_list = []\n",
    "    for j, i in enumerate(sim_users):\n",
    "        rating = piv.loc[i, anime_name]\n",
    "        similarity = user_values[j]\n",
    "        if np.isnan(rating):\n",
    "            continue\n",
    "        elif not np.isnan(rating):\n",
    "            rating_list.append(rating*similarity)\n",
    "            weight_list.append(similarity)\n",
    "    return sum(rating_list)/sum(weight_list)"
   ]
  },
  {
   "cell_type": "code",
   "execution_count": 29,
   "metadata": {
    "ExecuteTime": {
     "end_time": "2020-05-26T00:17:04.553619Z",
     "start_time": "2020-05-26T00:17:04.459618Z"
    },
    "_cell_guid": "50988cb1-4034-4316-2638-d0b5954b0c26"
   },
   "outputs": [
    {
     "name": "stdout",
     "output_type": "stream",
     "text": [
      "Top 10 similar Anime shows compared to Naruto:\n",
      "\n",
      "No. 1: Death Note\n",
      "No. 2: Fullmetal Alchemist\n",
      "No. 3: Fullmetal Alchemist: Brotherhood\n",
      "No. 4: Sword Art Online\n",
      "No. 5: Bleach\n",
      "No. 6: Shingeki no Kyojin\n",
      "No. 7: Code Geass: Hangyaku no Lelouch\n",
      "No. 8: Dragon Ball Z\n",
      "No. 9: Ao no Exorcist\n",
      "No. 10: Code Geass: Hangyaku no Lelouch R2\n"
     ]
    }
   ],
   "source": [
    "top_animes('Naruto')"
   ]
  },
  {
   "cell_type": "code",
   "execution_count": 30,
   "metadata": {
    "ExecuteTime": {
     "end_time": "2020-05-26T00:17:12.295405Z",
     "start_time": "2020-05-26T00:17:04.808395Z"
    },
    "_cell_guid": "360f71b5-86dd-166a-a235-4ae662449a77"
   },
   "outputs": [
    {
     "name": "stdout",
     "output_type": "stream",
     "text": [
      "Top 10 similar Users compared to 3:\n",
      "\n",
      "User #1918, Similarity value: 0.57\n",
      "User #13920, Similarity value: 0.53\n",
      "User #12887, Similarity value: 0.52\n",
      "User #3376, Similarity value: 0.51\n",
      "User #12905, Similarity value: 0.51\n",
      "User #19885, Similarity value: 0.49\n",
      "User #14741, Similarity value: 0.49\n",
      "User #20655, Similarity value: 0.49\n",
      "User #9615, Similarity value: 0.49\n",
      "User #21233, Similarity value: 0.48\n"
     ]
    }
   ],
   "source": [
    "top_users(3)"
   ]
  },
  {
   "cell_type": "code",
   "execution_count": 31,
   "metadata": {
    "ExecuteTime": {
     "end_time": "2020-05-26T00:17:16.013385Z",
     "start_time": "2020-05-26T00:17:12.297385Z"
    },
    "_cell_guid": "99affa09-1a22-e7d0-7f39-f785cd8b89a4"
   },
   "outputs": [
    {
     "data": {
      "text/plain": [
       "[('Death Note', 6),\n",
       " ('Fullmetal Alchemist: Brotherhood', 5),\n",
       " ('Ano Hi Mita Hana no Namae wo Bokutachi wa Mada Shiranai.', 3),\n",
       " ('Dragon Ball Z', 3),\n",
       " ('Hunter x Hunter (2011)', 3)]"
      ]
     },
     "execution_count": 31,
     "metadata": {},
     "output_type": "execute_result"
    }
   ],
   "source": [
    "similar_user_recs(3)"
   ]
  },
  {
   "cell_type": "code",
   "execution_count": 32,
   "metadata": {
    "ExecuteTime": {
     "end_time": "2020-05-26T00:17:23.384384Z",
     "start_time": "2020-05-26T00:17:16.016386Z"
    },
    "_cell_guid": "007764c2-bafc-a061-d9a8-eb03a12e629f"
   },
   "outputs": [
    {
     "name": "stdout",
     "output_type": "stream",
     "text": [
      "The predicted score for user_id: 3 is 5.8888152927874655\n"
     ]
    }
   ],
   "source": [
    "predicted_rating('Naruto', 3)"
   ]
  },
  {
   "cell_type": "code",
   "execution_count": 40,
   "metadata": {
    "ExecuteTime": {
     "end_time": "2020-05-26T02:43:07.320611Z",
     "start_time": "2020-05-26T02:43:07.317614Z"
    }
   },
   "outputs": [],
   "source": [
    "# Function to list every show watched by user_id \n",
    "def watchlist_of_user(user):\n",
    "    return piv.T[piv.loc[user,:]>0].index.tolist()"
   ]
  },
  {
   "cell_type": "code",
   "execution_count": 67,
   "metadata": {
    "ExecuteTime": {
     "end_time": "2020-05-26T04:33:08.344912Z",
     "start_time": "2020-05-26T04:33:08.309913Z"
    }
   },
   "outputs": [],
   "source": [
    "# Make a list of the mean squared errors between actual and predicted value\n",
    "def sq_errors(anime_title,user):\n",
    "    watchlist_of_user(user)\n",
    "    errors = []\n",
    "    for anime_title in watchlist_of_user(user):\n",
    "        actual=piv.loc[user, anime_title]\n",
    "        predicted = predicted_rating(anime_title, user)\n",
    "        errors.append((actual-predicted)**2)\n",
    "#         RMSE = np.sqrt(((predicted - actual) ** 2).mean())\n",
    "        MSE = np.mean((errors))\n",
    "        RMSE = sqrt(MSE)\n",
    "    print(f'The MSE:{MSE}')\n",
    "    print(f'The RMSE:{RMSE}')"
   ]
  },
  {
   "cell_type": "code",
   "execution_count": null,
   "metadata": {
    "ExecuteTime": {
     "start_time": "2020-05-26T04:33:08.909Z"
    }
   },
   "outputs": [],
   "source": [
    "sq_errors('Naruto',3)"
   ]
  },
  {
   "cell_type": "code",
   "execution_count": null,
   "metadata": {},
   "outputs": [],
   "source": []
  }
 ],
 "metadata": {
  "_change_revision": 0,
  "_is_fork": false,
  "kernelspec": {
   "display_name": "Python 3",
   "language": "python",
   "name": "python3"
  },
  "language_info": {
   "codemirror_mode": {
    "name": "ipython",
    "version": 3
   },
   "file_extension": ".py",
   "mimetype": "text/x-python",
   "name": "python",
   "nbconvert_exporter": "python",
   "pygments_lexer": "ipython3",
   "version": "3.7.4"
  },
  "toc": {
   "base_numbering": 1,
   "nav_menu": {},
   "number_sections": true,
   "sideBar": true,
   "skip_h1_title": false,
   "title_cell": "Table of Contents",
   "title_sidebar": "Contents",
   "toc_cell": false,
   "toc_position": {},
   "toc_section_display": true,
   "toc_window_display": false
  },
  "varInspector": {
   "cols": {
    "lenName": 16,
    "lenType": 16,
    "lenVar": 40
   },
   "kernels_config": {
    "python": {
     "delete_cmd_postfix": "",
     "delete_cmd_prefix": "del ",
     "library": "var_list.py",
     "varRefreshCmd": "print(var_dic_list())"
    },
    "r": {
     "delete_cmd_postfix": ") ",
     "delete_cmd_prefix": "rm(",
     "library": "var_list.r",
     "varRefreshCmd": "cat(var_dic_list()) "
    }
   },
   "types_to_exclude": [
    "module",
    "function",
    "builtin_function_or_method",
    "instance",
    "_Feature"
   ],
   "window_display": false
  }
 },
 "nbformat": 4,
 "nbformat_minor": 1
}
