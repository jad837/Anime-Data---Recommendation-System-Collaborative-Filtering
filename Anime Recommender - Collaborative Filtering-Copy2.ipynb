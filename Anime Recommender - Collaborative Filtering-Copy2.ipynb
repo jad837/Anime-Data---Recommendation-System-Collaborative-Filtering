{
 "cells": [
  {
   "cell_type": "markdown",
   "metadata": {
    "_cell_guid": "cde0f61c-f6ab-40b6-a757-c9394566aa62"
   },
   "source": [
    "Here I want to make a simple recommender system to find the similarity between shows, users and to help me predict whether a user will enjoy a particular anime."
   ]
  },
  {
   "cell_type": "code",
   "execution_count": 51,
   "metadata": {
    "ExecuteTime": {
     "end_time": "2020-05-23T06:27:47.179533Z",
     "start_time": "2020-05-23T06:27:46.925342Z"
    },
    "_cell_guid": "27f2680b-e691-70e4-e762-1bca22449d14"
   },
   "outputs": [],
   "source": [
    "# Import relevant libraries \n",
    "\n",
    "import pandas as pd\n",
    "import numpy as np\n",
    "import scipy as sp\n",
    "import sklearn\n",
    "from sklearn.decomposition import TruncatedSVD\n",
    "from sklearn.metrics.pairwise import cosine_similarity\n",
    "import operator\n",
    "%matplotlib inline"
   ]
  },
  {
   "cell_type": "code",
   "execution_count": 128,
   "metadata": {
    "ExecuteTime": {
     "end_time": "2020-05-23T08:36:25.649504Z",
     "start_time": "2020-05-23T08:36:18.344332Z"
    },
    "_cell_guid": "f5c1d1b7-983a-daa8-27ab-d25011d1f669"
   },
   "outputs": [
    {
     "data": {
      "text/html": [
       "<div>\n",
       "<style scoped>\n",
       "    .dataframe tbody tr th:only-of-type {\n",
       "        vertical-align: middle;\n",
       "    }\n",
       "\n",
       "    .dataframe tbody tr th {\n",
       "        vertical-align: top;\n",
       "    }\n",
       "\n",
       "    .dataframe thead th {\n",
       "        text-align: right;\n",
       "    }\n",
       "</style>\n",
       "<table border=\"1\" class=\"dataframe\">\n",
       "  <thead>\n",
       "    <tr style=\"text-align: right;\">\n",
       "      <th></th>\n",
       "      <th>uid</th>\n",
       "      <th>title</th>\n",
       "      <th>genre</th>\n",
       "      <th>aired</th>\n",
       "      <th>episodes</th>\n",
       "      <th>members</th>\n",
       "      <th>popularity</th>\n",
       "      <th>ranked</th>\n",
       "      <th>score</th>\n",
       "      <th>img_url</th>\n",
       "    </tr>\n",
       "  </thead>\n",
       "  <tbody>\n",
       "    <tr>\n",
       "      <th>0</th>\n",
       "      <td>28891</td>\n",
       "      <td>Haikyuu!! Second Season</td>\n",
       "      <td>['Comedy', 'Sports', 'Drama', 'School', 'Shoun...</td>\n",
       "      <td>Oct 4, 2015 to Mar 27, 2016</td>\n",
       "      <td>25.0</td>\n",
       "      <td>489888</td>\n",
       "      <td>141</td>\n",
       "      <td>25.0</td>\n",
       "      <td>8.82</td>\n",
       "      <td>https://cdn.myanimelist.net/images/anime/9/766...</td>\n",
       "    </tr>\n",
       "    <tr>\n",
       "      <th>1</th>\n",
       "      <td>23273</td>\n",
       "      <td>Shigatsu wa Kimi no Uso</td>\n",
       "      <td>['Drama', 'Music', 'Romance', 'School', 'Shoun...</td>\n",
       "      <td>Oct 10, 2014 to Mar 20, 2015</td>\n",
       "      <td>22.0</td>\n",
       "      <td>995473</td>\n",
       "      <td>28</td>\n",
       "      <td>24.0</td>\n",
       "      <td>8.83</td>\n",
       "      <td>https://cdn.myanimelist.net/images/anime/3/671...</td>\n",
       "    </tr>\n",
       "    <tr>\n",
       "      <th>2</th>\n",
       "      <td>34599</td>\n",
       "      <td>Made in Abyss</td>\n",
       "      <td>['Sci-Fi', 'Adventure', 'Mystery', 'Drama', 'F...</td>\n",
       "      <td>Jul 7, 2017 to Sep 29, 2017</td>\n",
       "      <td>13.0</td>\n",
       "      <td>581663</td>\n",
       "      <td>98</td>\n",
       "      <td>23.0</td>\n",
       "      <td>8.83</td>\n",
       "      <td>https://cdn.myanimelist.net/images/anime/6/867...</td>\n",
       "    </tr>\n",
       "    <tr>\n",
       "      <th>3</th>\n",
       "      <td>5114</td>\n",
       "      <td>Fullmetal Alchemist: Brotherhood</td>\n",
       "      <td>['Action', 'Military', 'Adventure', 'Comedy', ...</td>\n",
       "      <td>Apr 5, 2009 to Jul 4, 2010</td>\n",
       "      <td>64.0</td>\n",
       "      <td>1615084</td>\n",
       "      <td>4</td>\n",
       "      <td>1.0</td>\n",
       "      <td>9.23</td>\n",
       "      <td>https://cdn.myanimelist.net/images/anime/1223/...</td>\n",
       "    </tr>\n",
       "    <tr>\n",
       "      <th>4</th>\n",
       "      <td>31758</td>\n",
       "      <td>Kizumonogatari III: Reiketsu-hen</td>\n",
       "      <td>['Action', 'Mystery', 'Supernatural', 'Vampire']</td>\n",
       "      <td>Jan 6, 2017</td>\n",
       "      <td>1.0</td>\n",
       "      <td>214621</td>\n",
       "      <td>502</td>\n",
       "      <td>22.0</td>\n",
       "      <td>8.83</td>\n",
       "      <td>https://cdn.myanimelist.net/images/anime/3/815...</td>\n",
       "    </tr>\n",
       "  </tbody>\n",
       "</table>\n",
       "</div>"
      ],
      "text/plain": [
       "     uid                             title  \\\n",
       "0  28891           Haikyuu!! Second Season   \n",
       "1  23273           Shigatsu wa Kimi no Uso   \n",
       "2  34599                     Made in Abyss   \n",
       "3   5114  Fullmetal Alchemist: Brotherhood   \n",
       "4  31758  Kizumonogatari III: Reiketsu-hen   \n",
       "\n",
       "                                               genre  \\\n",
       "0  ['Comedy', 'Sports', 'Drama', 'School', 'Shoun...   \n",
       "1  ['Drama', 'Music', 'Romance', 'School', 'Shoun...   \n",
       "2  ['Sci-Fi', 'Adventure', 'Mystery', 'Drama', 'F...   \n",
       "3  ['Action', 'Military', 'Adventure', 'Comedy', ...   \n",
       "4   ['Action', 'Mystery', 'Supernatural', 'Vampire']   \n",
       "\n",
       "                          aired  episodes  members  popularity  ranked  score  \\\n",
       "0   Oct 4, 2015 to Mar 27, 2016      25.0   489888         141    25.0   8.82   \n",
       "1  Oct 10, 2014 to Mar 20, 2015      22.0   995473          28    24.0   8.83   \n",
       "2   Jul 7, 2017 to Sep 29, 2017      13.0   581663          98    23.0   8.83   \n",
       "3    Apr 5, 2009 to Jul 4, 2010      64.0  1615084           4     1.0   9.23   \n",
       "4                   Jan 6, 2017       1.0   214621         502    22.0   8.83   \n",
       "\n",
       "                                             img_url  \n",
       "0  https://cdn.myanimelist.net/images/anime/9/766...  \n",
       "1  https://cdn.myanimelist.net/images/anime/3/671...  \n",
       "2  https://cdn.myanimelist.net/images/anime/6/867...  \n",
       "3  https://cdn.myanimelist.net/images/anime/1223/...  \n",
       "4  https://cdn.myanimelist.net/images/anime/3/815...  "
      ]
     },
     "execution_count": 128,
     "metadata": {},
     "output_type": "execute_result"
    }
   ],
   "source": [
    "anime = pd.read_csv('animes.csv').drop(columns=['synopsis','link'])\n",
    "# anime = anime.drop(x if 'Hentai' x in anime.genre)\n",
    "rating = pd.read_csv('reviews.csv').drop(columns=['anime_uid','text','link','scores'])\n",
    "anime.head()"
   ]
  },
  {
   "cell_type": "code",
   "execution_count": null,
   "metadata": {
    "ExecuteTime": {
     "end_time": "2020-05-23T08:06:01.458512Z",
     "start_time": "2020-05-23T08:06:01.303Z"
    }
   },
   "outputs": [],
   "source": [
    "rating.head()"
   ]
  },
  {
   "cell_type": "markdown",
   "metadata": {},
   "source": [
    "Join the two dataframes on the anime_id columns"
   ]
  },
  {
   "cell_type": "code",
   "execution_count": 77,
   "metadata": {
    "ExecuteTime": {
     "end_time": "2020-05-23T07:48:01.788322Z",
     "start_time": "2020-05-23T07:48:01.664370Z"
    },
    "_cell_guid": "333be05a-5492-67a2-a64c-154a52ac060f"
   },
   "outputs": [
    {
     "name": "stdout",
     "output_type": "stream",
     "text": [
      "(12783, 12)\n"
     ]
    },
    {
     "data": {
      "text/html": [
       "<div>\n",
       "<style scoped>\n",
       "    .dataframe tbody tr th:only-of-type {\n",
       "        vertical-align: middle;\n",
       "    }\n",
       "\n",
       "    .dataframe tbody tr th {\n",
       "        vertical-align: top;\n",
       "    }\n",
       "\n",
       "    .dataframe thead th {\n",
       "        text-align: right;\n",
       "    }\n",
       "</style>\n",
       "<table border=\"1\" class=\"dataframe\">\n",
       "  <thead>\n",
       "    <tr style=\"text-align: right;\">\n",
       "      <th></th>\n",
       "      <th>anime_id</th>\n",
       "      <th>profile</th>\n",
       "      <th>user_rating</th>\n",
       "      <th>title</th>\n",
       "      <th>genre</th>\n",
       "      <th>aired</th>\n",
       "      <th>episodes</th>\n",
       "      <th>members</th>\n",
       "      <th>popularity</th>\n",
       "      <th>ranked</th>\n",
       "      <th>score</th>\n",
       "      <th>img_url</th>\n",
       "    </tr>\n",
       "  </thead>\n",
       "  <tbody>\n",
       "    <tr>\n",
       "      <th>0</th>\n",
       "      <td>29323</td>\n",
       "      <td>Slushpuppy282</td>\n",
       "      <td>7</td>\n",
       "      <td>Oyaji no, Imo no Kamisama.</td>\n",
       "      <td>['Slice of Life']</td>\n",
       "      <td>Dec 31, 2014</td>\n",
       "      <td>1.0</td>\n",
       "      <td>360</td>\n",
       "      <td>11732</td>\n",
       "      <td>8664.0</td>\n",
       "      <td>5.9</td>\n",
       "      <td>https://cdn.myanimelist.net/images/anime/2/705...</td>\n",
       "    </tr>\n",
       "    <tr>\n",
       "      <th>1</th>\n",
       "      <td>29323</td>\n",
       "      <td>Slushpuppy282</td>\n",
       "      <td>7</td>\n",
       "      <td>Oyaji no, Imo no Kamisama.</td>\n",
       "      <td>['Slice of Life']</td>\n",
       "      <td>Dec 31, 2014</td>\n",
       "      <td>1.0</td>\n",
       "      <td>360</td>\n",
       "      <td>11732</td>\n",
       "      <td>8664.0</td>\n",
       "      <td>5.9</td>\n",
       "      <td>https://cdn.myanimelist.net/images/anime/2/705...</td>\n",
       "    </tr>\n",
       "    <tr>\n",
       "      <th>2</th>\n",
       "      <td>30968</td>\n",
       "      <td>ParaParaJMo</td>\n",
       "      <td>9</td>\n",
       "      <td>Kokoro no Catchball</td>\n",
       "      <td>['Kids', 'Sports']</td>\n",
       "      <td>2005</td>\n",
       "      <td>1.0</td>\n",
       "      <td>100</td>\n",
       "      <td>15323</td>\n",
       "      <td>12764.0</td>\n",
       "      <td>6.7</td>\n",
       "      <td>https://cdn.myanimelist.net/images/anime/2/745...</td>\n",
       "    </tr>\n",
       "    <tr>\n",
       "      <th>3</th>\n",
       "      <td>30968</td>\n",
       "      <td>ParaParaJMo</td>\n",
       "      <td>9</td>\n",
       "      <td>Kokoro no Catchball</td>\n",
       "      <td>['Kids', 'Sports']</td>\n",
       "      <td>2005</td>\n",
       "      <td>1.0</td>\n",
       "      <td>100</td>\n",
       "      <td>15323</td>\n",
       "      <td>12764.0</td>\n",
       "      <td>6.7</td>\n",
       "      <td>https://cdn.myanimelist.net/images/anime/2/745...</td>\n",
       "    </tr>\n",
       "    <tr>\n",
       "      <th>4</th>\n",
       "      <td>38440</td>\n",
       "      <td>Jolon</td>\n",
       "      <td>9</td>\n",
       "      <td>Shikizakura</td>\n",
       "      <td>['Action', 'Sci-Fi', 'Drama']</td>\n",
       "      <td>2021 to ?</td>\n",
       "      <td>12.0</td>\n",
       "      <td>1419</td>\n",
       "      <td>8859</td>\n",
       "      <td>NaN</td>\n",
       "      <td>NaN</td>\n",
       "      <td>https://cdn.myanimelist.net/images/anime/1203/...</td>\n",
       "    </tr>\n",
       "  </tbody>\n",
       "</table>\n",
       "</div>"
      ],
      "text/plain": [
       "   anime_id        profile  user_rating                       title  \\\n",
       "0     29323  Slushpuppy282            7  Oyaji no, Imo no Kamisama.   \n",
       "1     29323  Slushpuppy282            7  Oyaji no, Imo no Kamisama.   \n",
       "2     30968    ParaParaJMo            9         Kokoro no Catchball   \n",
       "3     30968    ParaParaJMo            9         Kokoro no Catchball   \n",
       "4     38440          Jolon            9                 Shikizakura   \n",
       "\n",
       "                           genre         aired  episodes  members  popularity  \\\n",
       "0              ['Slice of Life']  Dec 31, 2014       1.0      360       11732   \n",
       "1              ['Slice of Life']  Dec 31, 2014       1.0      360       11732   \n",
       "2             ['Kids', 'Sports']          2005       1.0      100       15323   \n",
       "3             ['Kids', 'Sports']          2005       1.0      100       15323   \n",
       "4  ['Action', 'Sci-Fi', 'Drama']     2021 to ?      12.0     1419        8859   \n",
       "\n",
       "    ranked  score                                            img_url  \n",
       "0   8664.0    5.9  https://cdn.myanimelist.net/images/anime/2/705...  \n",
       "1   8664.0    5.9  https://cdn.myanimelist.net/images/anime/2/705...  \n",
       "2  12764.0    6.7  https://cdn.myanimelist.net/images/anime/2/745...  \n",
       "3  12764.0    6.7  https://cdn.myanimelist.net/images/anime/2/745...  \n",
       "4      NaN    NaN  https://cdn.myanimelist.net/images/anime/1203/...  "
      ]
     },
     "execution_count": 77,
     "metadata": {},
     "output_type": "execute_result"
    }
   ],
   "source": [
    "# Merging anime_show and rating dataframe with inner join\n",
    "merged = rating.merge(anime, on = 'uid', suffixes= ['_user', ''], how='inner')\n",
    "# Renaming column\n",
    "merged.rename(columns = {'uid':'anime_id'}, inplace = True)\n",
    "merged.rename(columns = {'score_user':'user_rating'}, inplace = True)\n",
    "# Dropping extra column\n",
    "print(merged.shape)\n",
    "merged.head()"
   ]
  },
  {
   "cell_type": "code",
   "execution_count": 78,
   "metadata": {
    "ExecuteTime": {
     "end_time": "2020-05-23T07:48:25.191146Z",
     "start_time": "2020-05-23T07:48:24.392132Z"
    },
    "scrolled": true
   },
   "outputs": [
    {
     "name": "stdout",
     "output_type": "stream",
     "text": [
      "(10636, 12)\n"
     ]
    },
    {
     "data": {
      "text/html": [
       "<div>\n",
       "<style scoped>\n",
       "    .dataframe tbody tr th:only-of-type {\n",
       "        vertical-align: middle;\n",
       "    }\n",
       "\n",
       "    .dataframe tbody tr th {\n",
       "        vertical-align: top;\n",
       "    }\n",
       "\n",
       "    .dataframe thead th {\n",
       "        text-align: right;\n",
       "    }\n",
       "</style>\n",
       "<table border=\"1\" class=\"dataframe\">\n",
       "  <thead>\n",
       "    <tr style=\"text-align: right;\">\n",
       "      <th></th>\n",
       "      <th>anime_id</th>\n",
       "      <th>profile</th>\n",
       "      <th>user_rating</th>\n",
       "      <th>title</th>\n",
       "      <th>genre</th>\n",
       "      <th>aired</th>\n",
       "      <th>episodes</th>\n",
       "      <th>members</th>\n",
       "      <th>popularity</th>\n",
       "      <th>ranked</th>\n",
       "      <th>score</th>\n",
       "      <th>img_url</th>\n",
       "    </tr>\n",
       "  </thead>\n",
       "  <tbody>\n",
       "    <tr>\n",
       "      <th>0</th>\n",
       "      <td>29323</td>\n",
       "      <td>Slushpuppy282</td>\n",
       "      <td>7</td>\n",
       "      <td>Oyaji no, Imo no Kamisama.</td>\n",
       "      <td>['Slice of Life']</td>\n",
       "      <td>Dec 31, 2014</td>\n",
       "      <td>1.0</td>\n",
       "      <td>360</td>\n",
       "      <td>11732</td>\n",
       "      <td>8664.0</td>\n",
       "      <td>5.9</td>\n",
       "      <td>https://cdn.myanimelist.net/images/anime/2/705...</td>\n",
       "    </tr>\n",
       "    <tr>\n",
       "      <th>1</th>\n",
       "      <td>29323</td>\n",
       "      <td>Slushpuppy282</td>\n",
       "      <td>7</td>\n",
       "      <td>Oyaji no, Imo no Kamisama.</td>\n",
       "      <td>['Slice of Life']</td>\n",
       "      <td>Dec 31, 2014</td>\n",
       "      <td>1.0</td>\n",
       "      <td>360</td>\n",
       "      <td>11732</td>\n",
       "      <td>8664.0</td>\n",
       "      <td>5.9</td>\n",
       "      <td>https://cdn.myanimelist.net/images/anime/2/705...</td>\n",
       "    </tr>\n",
       "    <tr>\n",
       "      <th>2</th>\n",
       "      <td>30968</td>\n",
       "      <td>ParaParaJMo</td>\n",
       "      <td>9</td>\n",
       "      <td>Kokoro no Catchball</td>\n",
       "      <td>['Kids', 'Sports']</td>\n",
       "      <td>2005</td>\n",
       "      <td>1.0</td>\n",
       "      <td>100</td>\n",
       "      <td>15323</td>\n",
       "      <td>12764.0</td>\n",
       "      <td>6.7</td>\n",
       "      <td>https://cdn.myanimelist.net/images/anime/2/745...</td>\n",
       "    </tr>\n",
       "    <tr>\n",
       "      <th>3</th>\n",
       "      <td>30968</td>\n",
       "      <td>ParaParaJMo</td>\n",
       "      <td>9</td>\n",
       "      <td>Kokoro no Catchball</td>\n",
       "      <td>['Kids', 'Sports']</td>\n",
       "      <td>2005</td>\n",
       "      <td>1.0</td>\n",
       "      <td>100</td>\n",
       "      <td>15323</td>\n",
       "      <td>12764.0</td>\n",
       "      <td>6.7</td>\n",
       "      <td>https://cdn.myanimelist.net/images/anime/2/745...</td>\n",
       "    </tr>\n",
       "    <tr>\n",
       "      <th>8</th>\n",
       "      <td>27501</td>\n",
       "      <td>Mimi_Taylor</td>\n",
       "      <td>9</td>\n",
       "      <td>Sore Ike! Anpanman: Anpanman to Tanoshii Nakam...</td>\n",
       "      <td>['Kids', 'Adventure', 'Fantasy']</td>\n",
       "      <td>Jul 24, 1999</td>\n",
       "      <td>1.0</td>\n",
       "      <td>171</td>\n",
       "      <td>13933</td>\n",
       "      <td>13953.0</td>\n",
       "      <td>7.1</td>\n",
       "      <td>https://cdn.myanimelist.net/images/anime/9/666...</td>\n",
       "    </tr>\n",
       "  </tbody>\n",
       "</table>\n",
       "</div>"
      ],
      "text/plain": [
       "   anime_id        profile  user_rating  \\\n",
       "0     29323  Slushpuppy282            7   \n",
       "1     29323  Slushpuppy282            7   \n",
       "2     30968    ParaParaJMo            9   \n",
       "3     30968    ParaParaJMo            9   \n",
       "8     27501    Mimi_Taylor            9   \n",
       "\n",
       "                                               title  \\\n",
       "0                         Oyaji no, Imo no Kamisama.   \n",
       "1                         Oyaji no, Imo no Kamisama.   \n",
       "2                                Kokoro no Catchball   \n",
       "3                                Kokoro no Catchball   \n",
       "8  Sore Ike! Anpanman: Anpanman to Tanoshii Nakam...   \n",
       "\n",
       "                              genre         aired  episodes  members  \\\n",
       "0                 ['Slice of Life']  Dec 31, 2014       1.0      360   \n",
       "1                 ['Slice of Life']  Dec 31, 2014       1.0      360   \n",
       "2                ['Kids', 'Sports']          2005       1.0      100   \n",
       "3                ['Kids', 'Sports']          2005       1.0      100   \n",
       "8  ['Kids', 'Adventure', 'Fantasy']  Jul 24, 1999       1.0      171   \n",
       "\n",
       "   popularity   ranked  score  \\\n",
       "0       11732   8664.0    5.9   \n",
       "1       11732   8664.0    5.9   \n",
       "2       15323  12764.0    6.7   \n",
       "3       15323  12764.0    6.7   \n",
       "8       13933  13953.0    7.1   \n",
       "\n",
       "                                             img_url  \n",
       "0  https://cdn.myanimelist.net/images/anime/2/705...  \n",
       "1  https://cdn.myanimelist.net/images/anime/2/705...  \n",
       "2  https://cdn.myanimelist.net/images/anime/2/745...  \n",
       "3  https://cdn.myanimelist.net/images/anime/2/745...  \n",
       "8  https://cdn.myanimelist.net/images/anime/9/666...  "
      ]
     },
     "execution_count": 78,
     "metadata": {},
     "output_type": "execute_result"
    }
   ],
   "source": [
    "merged2 = merged.dropna()\n",
    "print(merged2.shape)\n",
    "merged2.head()"
   ]
  },
  {
   "cell_type": "markdown",
   "metadata": {
    "_cell_guid": "422fb6ee-644a-562f-ae27-99e759feaa6e"
   },
   "source": [
    "Pivoting table of users on one axis and tv show names along the other. This helps us in defining the similarity between users and shows to better predict who will like what."
   ]
  },
  {
   "cell_type": "code",
   "execution_count": 100,
   "metadata": {
    "ExecuteTime": {
     "end_time": "2020-05-23T07:58:03.194994Z",
     "start_time": "2020-05-23T07:57:58.397754Z"
    },
    "_cell_guid": "f7e42fe9-5cf2-c1fb-52ae-1d512c248a72"
   },
   "outputs": [],
   "source": [
    "piv = merged.pivot_table(index=['profile'], columns=['title'], values='user_rating',fill_value=0)"
   ]
  },
  {
   "cell_type": "code",
   "execution_count": 101,
   "metadata": {
    "ExecuteTime": {
     "end_time": "2020-05-23T07:58:21.966091Z",
     "start_time": "2020-05-23T07:58:21.936335Z"
    },
    "_cell_guid": "978bc3ed-21c1-d563-13a8-f0b3056e8e7a"
   },
   "outputs": [
    {
     "name": "stdout",
     "output_type": "stream",
     "text": [
      "(3947, 7468)\n"
     ]
    },
    {
     "data": {
      "text/html": [
       "<div>\n",
       "<style scoped>\n",
       "    .dataframe tbody tr th:only-of-type {\n",
       "        vertical-align: middle;\n",
       "    }\n",
       "\n",
       "    .dataframe tbody tr th {\n",
       "        vertical-align: top;\n",
       "    }\n",
       "\n",
       "    .dataframe thead th {\n",
       "        text-align: right;\n",
       "    }\n",
       "</style>\n",
       "<table border=\"1\" class=\"dataframe\">\n",
       "  <thead>\n",
       "    <tr style=\"text-align: right;\">\n",
       "      <th>title</th>\n",
       "      <th>\"Aesop\" no Ohanashi yori: Ushi to Kaeru, Yokubatta Inu</th>\n",
       "      <th>\"Bungaku Shoujo\" Memoire</th>\n",
       "      <th>\"Eiji\"</th>\n",
       "      <th>\"Eiyuu\" Kaitai</th>\n",
       "      <th>\"Kinako\" x Mameshiba Movie</th>\n",
       "      <th>\"Parade\" de Satie</th>\n",
       "      <th>\"Tokyo\"</th>\n",
       "      <th>#Compass</th>\n",
       "      <th>(a long day of) Mr. Calpaccio</th>\n",
       "      <th>.hack//G.U. Trilogy: Parody Mode</th>\n",
       "      <th>...</th>\n",
       "      <th>lilac (bombs Jun Togawa)</th>\n",
       "      <th>s.CRY.ed</th>\n",
       "      <th>the FLY BanD!</th>\n",
       "      <th>xxxHOLiC</th>\n",
       "      <th>xxxHOLiC Kei</th>\n",
       "      <th>xxxHOLiC Movie: Manatsu no Yoru no Yume</th>\n",
       "      <th>xxxHOLiC Shunmuki</th>\n",
       "      <th>Üks Uks</th>\n",
       "      <th>ēlDLIVE</th>\n",
       "      <th>◯</th>\n",
       "    </tr>\n",
       "    <tr>\n",
       "      <th>profile</th>\n",
       "      <th></th>\n",
       "      <th></th>\n",
       "      <th></th>\n",
       "      <th></th>\n",
       "      <th></th>\n",
       "      <th></th>\n",
       "      <th></th>\n",
       "      <th></th>\n",
       "      <th></th>\n",
       "      <th></th>\n",
       "      <th></th>\n",
       "      <th></th>\n",
       "      <th></th>\n",
       "      <th></th>\n",
       "      <th></th>\n",
       "      <th></th>\n",
       "      <th></th>\n",
       "      <th></th>\n",
       "      <th></th>\n",
       "      <th></th>\n",
       "      <th></th>\n",
       "    </tr>\n",
       "  </thead>\n",
       "  <tbody>\n",
       "    <tr>\n",
       "      <th>--skeletor--</th>\n",
       "      <td>0</td>\n",
       "      <td>0</td>\n",
       "      <td>0</td>\n",
       "      <td>0</td>\n",
       "      <td>0</td>\n",
       "      <td>0</td>\n",
       "      <td>0</td>\n",
       "      <td>0</td>\n",
       "      <td>0</td>\n",
       "      <td>0</td>\n",
       "      <td>...</td>\n",
       "      <td>0</td>\n",
       "      <td>0</td>\n",
       "      <td>0</td>\n",
       "      <td>0</td>\n",
       "      <td>0</td>\n",
       "      <td>0</td>\n",
       "      <td>0</td>\n",
       "      <td>0</td>\n",
       "      <td>0</td>\n",
       "      <td>0</td>\n",
       "    </tr>\n",
       "    <tr>\n",
       "      <th>-Alice-</th>\n",
       "      <td>0</td>\n",
       "      <td>0</td>\n",
       "      <td>0</td>\n",
       "      <td>0</td>\n",
       "      <td>0</td>\n",
       "      <td>0</td>\n",
       "      <td>0</td>\n",
       "      <td>0</td>\n",
       "      <td>0</td>\n",
       "      <td>0</td>\n",
       "      <td>...</td>\n",
       "      <td>0</td>\n",
       "      <td>0</td>\n",
       "      <td>0</td>\n",
       "      <td>0</td>\n",
       "      <td>0</td>\n",
       "      <td>0</td>\n",
       "      <td>0</td>\n",
       "      <td>0</td>\n",
       "      <td>0</td>\n",
       "      <td>0</td>\n",
       "    </tr>\n",
       "    <tr>\n",
       "      <th>-Animewatcher-</th>\n",
       "      <td>0</td>\n",
       "      <td>0</td>\n",
       "      <td>0</td>\n",
       "      <td>0</td>\n",
       "      <td>0</td>\n",
       "      <td>0</td>\n",
       "      <td>0</td>\n",
       "      <td>0</td>\n",
       "      <td>0</td>\n",
       "      <td>0</td>\n",
       "      <td>...</td>\n",
       "      <td>0</td>\n",
       "      <td>0</td>\n",
       "      <td>0</td>\n",
       "      <td>0</td>\n",
       "      <td>0</td>\n",
       "      <td>0</td>\n",
       "      <td>0</td>\n",
       "      <td>0</td>\n",
       "      <td>0</td>\n",
       "      <td>0</td>\n",
       "    </tr>\n",
       "    <tr>\n",
       "      <th>-Exo-</th>\n",
       "      <td>0</td>\n",
       "      <td>0</td>\n",
       "      <td>0</td>\n",
       "      <td>0</td>\n",
       "      <td>0</td>\n",
       "      <td>0</td>\n",
       "      <td>0</td>\n",
       "      <td>0</td>\n",
       "      <td>0</td>\n",
       "      <td>0</td>\n",
       "      <td>...</td>\n",
       "      <td>0</td>\n",
       "      <td>0</td>\n",
       "      <td>0</td>\n",
       "      <td>0</td>\n",
       "      <td>0</td>\n",
       "      <td>0</td>\n",
       "      <td>0</td>\n",
       "      <td>0</td>\n",
       "      <td>0</td>\n",
       "      <td>0</td>\n",
       "    </tr>\n",
       "    <tr>\n",
       "      <th>-FAWKYOURFACE-</th>\n",
       "      <td>0</td>\n",
       "      <td>0</td>\n",
       "      <td>0</td>\n",
       "      <td>0</td>\n",
       "      <td>0</td>\n",
       "      <td>0</td>\n",
       "      <td>0</td>\n",
       "      <td>0</td>\n",
       "      <td>0</td>\n",
       "      <td>0</td>\n",
       "      <td>...</td>\n",
       "      <td>0</td>\n",
       "      <td>0</td>\n",
       "      <td>0</td>\n",
       "      <td>0</td>\n",
       "      <td>0</td>\n",
       "      <td>0</td>\n",
       "      <td>0</td>\n",
       "      <td>0</td>\n",
       "      <td>0</td>\n",
       "      <td>0</td>\n",
       "    </tr>\n",
       "  </tbody>\n",
       "</table>\n",
       "<p>5 rows × 7468 columns</p>\n",
       "</div>"
      ],
      "text/plain": [
       "title           \"Aesop\" no Ohanashi yori: Ushi to Kaeru, Yokubatta Inu  \\\n",
       "profile                                                                  \n",
       "--skeletor--                                                    0        \n",
       "-Alice-                                                         0        \n",
       "-Animewatcher-                                                  0        \n",
       "-Exo-                                                           0        \n",
       "-FAWKYOURFACE-                                                  0        \n",
       "\n",
       "title           \"Bungaku Shoujo\" Memoire  \"Eiji\"  \"Eiyuu\" Kaitai  \\\n",
       "profile                                                            \n",
       "--skeletor--                           0       0               0   \n",
       "-Alice-                                0       0               0   \n",
       "-Animewatcher-                         0       0               0   \n",
       "-Exo-                                  0       0               0   \n",
       "-FAWKYOURFACE-                         0       0               0   \n",
       "\n",
       "title           \"Kinako\" x Mameshiba Movie  \"Parade\" de Satie  \"Tokyo\"  \\\n",
       "profile                                                                  \n",
       "--skeletor--                             0                  0        0   \n",
       "-Alice-                                  0                  0        0   \n",
       "-Animewatcher-                           0                  0        0   \n",
       "-Exo-                                    0                  0        0   \n",
       "-FAWKYOURFACE-                           0                  0        0   \n",
       "\n",
       "title           #Compass  (a long day of) Mr. Calpaccio  \\\n",
       "profile                                                   \n",
       "--skeletor--           0                              0   \n",
       "-Alice-                0                              0   \n",
       "-Animewatcher-         0                              0   \n",
       "-Exo-                  0                              0   \n",
       "-FAWKYOURFACE-         0                              0   \n",
       "\n",
       "title           .hack//G.U. Trilogy: Parody Mode  ...  \\\n",
       "profile                                           ...   \n",
       "--skeletor--                                   0  ...   \n",
       "-Alice-                                        0  ...   \n",
       "-Animewatcher-                                 0  ...   \n",
       "-Exo-                                          0  ...   \n",
       "-FAWKYOURFACE-                                 0  ...   \n",
       "\n",
       "title           lilac (bombs Jun Togawa)  s.CRY.ed  the FLY BanD!  xxxHOLiC  \\\n",
       "profile                                                                       \n",
       "--skeletor--                           0         0              0         0   \n",
       "-Alice-                                0         0              0         0   \n",
       "-Animewatcher-                         0         0              0         0   \n",
       "-Exo-                                  0         0              0         0   \n",
       "-FAWKYOURFACE-                         0         0              0         0   \n",
       "\n",
       "title           xxxHOLiC Kei  xxxHOLiC Movie: Manatsu no Yoru no Yume  \\\n",
       "profile                                                                 \n",
       "--skeletor--               0                                        0   \n",
       "-Alice-                    0                                        0   \n",
       "-Animewatcher-             0                                        0   \n",
       "-Exo-                      0                                        0   \n",
       "-FAWKYOURFACE-             0                                        0   \n",
       "\n",
       "title           xxxHOLiC Shunmuki  Üks Uks  ēlDLIVE  ◯  \n",
       "profile                                                 \n",
       "--skeletor--                    0        0        0  0  \n",
       "-Alice-                         0        0        0  0  \n",
       "-Animewatcher-                  0        0        0  0  \n",
       "-Exo-                           0        0        0  0  \n",
       "-FAWKYOURFACE-                  0        0        0  0  \n",
       "\n",
       "[5 rows x 7468 columns]"
      ]
     },
     "execution_count": 101,
     "metadata": {},
     "output_type": "execute_result"
    }
   ],
   "source": [
    "print(piv.shape)\n",
    "piv.head()"
   ]
  },
  {
   "cell_type": "markdown",
   "metadata": {
    "ExecuteTime": {
     "end_time": "2020-05-23T05:39:38.932573Z",
     "start_time": "2020-05-23T05:39:38.927092Z"
    }
   },
   "source": [
    "Transposing the Matrix (eg. pivoted table)"
   ]
  },
  {
   "cell_type": "code",
   "execution_count": 102,
   "metadata": {
    "ExecuteTime": {
     "end_time": "2020-05-23T07:58:38.517036Z",
     "start_time": "2020-05-23T07:58:38.501499Z"
    }
   },
   "outputs": [
    {
     "data": {
      "text/plain": [
       "(7468, 3947)"
      ]
     },
     "execution_count": 102,
     "metadata": {},
     "output_type": "execute_result"
    }
   ],
   "source": [
    "X = piv.T\n",
    "X.shape"
   ]
  },
  {
   "cell_type": "markdown",
   "metadata": {},
   "source": [
    "Decomposing the Matrix - Lowering the total features"
   ]
  },
  {
   "cell_type": "code",
   "execution_count": 103,
   "metadata": {
    "ExecuteTime": {
     "end_time": "2020-05-23T07:58:57.767030Z",
     "start_time": "2020-05-23T07:58:55.700171Z"
    }
   },
   "outputs": [
    {
     "data": {
      "text/plain": [
       "(7468, 12)"
      ]
     },
     "execution_count": 103,
     "metadata": {},
     "output_type": "execute_result"
    }
   ],
   "source": [
    "# Truncates matrix in 12 Synthetic features\n",
    "SVD = TruncatedSVD(n_components=12,random_state=12)\n",
    "\n",
    "resultant_matrix = SVD.fit_transform(X)\n",
    "\n",
    "resultant_matrix.shape"
   ]
  },
  {
   "cell_type": "markdown",
   "metadata": {},
   "source": [
    "Generating a Correlation Matrix"
   ]
  },
  {
   "cell_type": "code",
   "execution_count": 104,
   "metadata": {
    "ExecuteTime": {
     "end_time": "2020-05-23T07:59:14.932591Z",
     "start_time": "2020-05-23T07:59:14.240701Z"
    }
   },
   "outputs": [
    {
     "data": {
      "text/plain": [
       "(7468, 7468)"
      ]
     },
     "execution_count": 104,
     "metadata": {},
     "output_type": "execute_result"
    }
   ],
   "source": [
    "corr_mat = np.corrcoef(resultant_matrix)\n",
    "corr_mat.shape\n"
   ]
  },
  {
   "cell_type": "code",
   "execution_count": 105,
   "metadata": {
    "ExecuteTime": {
     "end_time": "2020-05-23T07:59:31.629863Z",
     "start_time": "2020-05-23T07:59:31.622212Z"
    }
   },
   "outputs": [],
   "source": [
    "anime_titles = piv.columns\n",
    "anime_list = list(anime_titles)\n"
   ]
  },
  {
   "cell_type": "code",
   "execution_count": 124,
   "metadata": {
    "ExecuteTime": {
     "end_time": "2020-05-23T08:29:14.928131Z",
     "start_time": "2020-05-23T08:29:14.921808Z"
    }
   },
   "outputs": [
    {
     "name": "stdout",
     "output_type": "stream",
     "text": [
      "4471\n"
     ]
    },
    {
     "data": {
      "text/plain": [
       "(7468,)"
      ]
     },
     "execution_count": 124,
     "metadata": {},
     "output_type": "execute_result"
    }
   ],
   "source": [
    "naruto = anime_list.index('naruto'.title())\n",
    "print(naruto_corr)\n",
    "corr_naruto = corr_mat[int(naruto)]\n",
    "corr_naruto.shape"
   ]
  },
  {
   "cell_type": "markdown",
   "metadata": {},
   "source": [
    "Recommending top 10% of Hightly Correlated Anime"
   ]
  },
  {
   "cell_type": "code",
   "execution_count": 125,
   "metadata": {
    "ExecuteTime": {
     "end_time": "2020-05-23T08:29:31.968816Z",
     "start_time": "2020-05-23T08:29:31.957967Z"
    },
    "scrolled": true
   },
   "outputs": [
    {
     "data": {
      "text/plain": [
       "['Anzen no Shiteiseki Child Seat',\n",
       " 'Blood: The Last Vampire',\n",
       " 'Bokura no Ashita: Freeter no Genjou ni Kansuru Wakamono e no Shuuchi Kouhou Jigyou',\n",
       " 'Chameko no Ichinichi',\n",
       " 'Discode: Ijou Seiai',\n",
       " 'Fairy Tail Movie 1: Houou no Miko',\n",
       " 'Fushigi Yuugi: Eikouden',\n",
       " 'Garo: Guren no Tsuki',\n",
       " 'Given Movie',\n",
       " 'High School Fleet OVA',\n",
       " 'Inazuma Eleven Go: Chrono Stone',\n",
       " 'Joker Game',\n",
       " 'Kagee Aesop Monogatari',\n",
       " 'Kimi no Na wa.',\n",
       " 'Lupin III: Lupin wa Ima mo Moete Iru ka?',\n",
       " 'Macross 7 Plus',\n",
       " 'Manaria Friends',\n",
       " 'Mardock Scramble: The Third Exhaust',\n",
       " 'Meitantei Rascal',\n",
       " 'Mobile Suit Gundam UC: A Phantom World',\n",
       " 'Nana',\n",
       " 'Nekoronde Mite ne.',\n",
       " 'New My Tear CL Series',\n",
       " 'Nurse Witch Komugi-chan Magikarte',\n",
       " 'Oh Yoko!',\n",
       " 'Osomatsu-kun (1988)',\n",
       " 'Overlord Movie: Manner Movie',\n",
       " 'Panda no Blues',\n",
       " 'Scrapped Princess',\n",
       " 'Sennen no Yakusoku',\n",
       " 'Speed Grapher',\n",
       " 'Starry☆Sky',\n",
       " 'Tamayura: Hitotose',\n",
       " 'Tamayura: More Aggressive',\n",
       " 'Tobe! Kujira no Peek',\n",
       " 'Tsundere Inran Shoujo Sukumi',\n",
       " 'Uchuu Senkan Yamato 2199',\n",
       " 'X']"
      ]
     },
     "execution_count": 125,
     "metadata": {},
     "output_type": "execute_result"
    }
   ],
   "source": [
    "list(anime_titles[(corr_naruto<1.0)&(corr_naruto>0.9)])"
   ]
  },
  {
   "cell_type": "markdown",
   "metadata": {},
   "source": [
    "Function to recommend the top correlated Anime, (top inputted percentage)"
   ]
  },
  {
   "cell_type": "code",
   "execution_count": 90,
   "metadata": {
    "ExecuteTime": {
     "end_time": "2020-05-23T07:53:10.916098Z",
     "start_time": "2020-05-23T07:53:10.907583Z"
    }
   },
   "outputs": [],
   "source": [
    "def rec_anime(x,float):\n",
    "    x_corr = anime_list.index(f'{x.title()}')\n",
    "    x_corr\n",
    "    corr_x = corr_mat[x_corr]\n",
    "    print(f'Top {int(float*100)} Percentile Correlational match to Anime: {x.title()}')\n",
    "    corr_anime = list(anime_titles[(corr_x < 1.0) & (corr_x > (1.0-float))])\n",
    "    return corr_anime\n"
   ]
  },
  {
   "cell_type": "code",
   "execution_count": 98,
   "metadata": {
    "ExecuteTime": {
     "end_time": "2020-05-23T07:56:41.686387Z",
     "start_time": "2020-05-23T07:56:41.678793Z"
    }
   },
   "outputs": [
    {
     "name": "stdout",
     "output_type": "stream",
     "text": [
      "Top 10 Percentile Correlational match to Anime: Naruto\n"
     ]
    },
    {
     "data": {
      "text/plain": [
       "['Allison to Lillia',\n",
       " 'Anata mo Robot ni Nareru feat. Kamome Jidou Gasshoudan',\n",
       " 'Ashita no Nadja',\n",
       " 'Boogiepop wa Warawanai',\n",
       " 'Chouon Senshi Borgman',\n",
       " 'Da Zuiba Dudu',\n",
       " 'Deadman Wonderland',\n",
       " 'Dogs: Bullets & Carnage',\n",
       " 'Dragon League',\n",
       " 'Fukuyama Gekijou: Natsu no Himitsu',\n",
       " 'Ganbare Genki',\n",
       " 'Ganbare! Moudouken Serve',\n",
       " 'Gegege no Kitarou (2007)',\n",
       " 'Getter Robo',\n",
       " 'Guilty Crown Kiseki: Reassortment',\n",
       " 'Hakuouki Hekketsuroku',\n",
       " 'Huckleberry no Bouken (Movie)',\n",
       " 'Jormungand: Perfect Order Recap',\n",
       " 'Kenritsu Chikyuu Boueigun',\n",
       " 'Kiddy GiRL-AND Pilot',\n",
       " 'Kikou Sennyo Rouran',\n",
       " 'Kindaichi Shounen no Jikenbo Movie 1: Operazakan - Aratanaru Satsujin',\n",
       " 'Kusatta Kyoushi no Houteishiki',\n",
       " 'Kyoto Animation: Megane-hen',\n",
       " 'Kyoto Animation: Suiei-hen',\n",
       " 'Ladies versus Butlers! Specials',\n",
       " 'Ling Yu 2nd Season',\n",
       " 'Ling Yu: Di San Ji',\n",
       " 'Lupin III: Dead or Alive',\n",
       " 'Machine Robo: Leina, The Legend of Wolf Blade',\n",
       " 'Maetel Legend',\n",
       " 'Magic Kaito',\n",
       " 'Manga Aesop Monogatari (TV)',\n",
       " 'Maryuu Senki',\n",
       " 'Monkey Punch: Manga Katsudou Daishashin',\n",
       " 'Moshidora',\n",
       " 'Naruto',\n",
       " 'Next Senki Ehrgeiz',\n",
       " 'Nurse Witch Komugi-chan Magikarte Z Special',\n",
       " 'Ocha-ken: Chokotto Monogatari',\n",
       " 'Ojamajo Doremi Sharp',\n",
       " 'Piyo no Ongaeshi',\n",
       " 'Qui Shui Yi Yun',\n",
       " 'Rescue Me!',\n",
       " 'Rokumon Tengai Mon Colle Knights Movie: Densetsu no Fire Dragon',\n",
       " 'Ryuusei Sentai Musumet',\n",
       " 'R²: Rise R to the Second Power',\n",
       " 'Seupideuwang Beongae',\n",
       " 'Shoujo☆Kageki Revue Starlight',\n",
       " 'Soukou Kihei Votoms: Pailsen Files Movie',\n",
       " 'Souseiki',\n",
       " 'Sugar Bunnies Fleur',\n",
       " 'Tide-Line Blue',\n",
       " 'Toaru Kagaku no Railgun S',\n",
       " 'Top wo Nerae! & Top wo Nerae 2! Gattai Movie!!',\n",
       " 'Toushi Gordian',\n",
       " 'VS Knight Lamune & 40 Fresh',\n",
       " 'Youkai Watch',\n",
       " 'Yowamushi Pedal: Re:ROAD']"
      ]
     },
     "execution_count": 98,
     "metadata": {},
     "output_type": "execute_result"
    }
   ],
   "source": [
    "rec_anime('naruto',.1)"
   ]
  },
  {
   "cell_type": "code",
   "execution_count": 99,
   "metadata": {
    "ExecuteTime": {
     "end_time": "2020-05-23T07:56:58.783865Z",
     "start_time": "2020-05-23T07:56:58.763298Z"
    }
   },
   "outputs": [
    {
     "ename": "ValueError",
     "evalue": "'One Piece' is not in list",
     "output_type": "error",
     "traceback": [
      "\u001b[0;31m---------------------------------------------------------------------------\u001b[0m",
      "\u001b[0;31mValueError\u001b[0m                                Traceback (most recent call last)",
      "\u001b[0;32m<ipython-input-99-5eb8ef85405d>\u001b[0m in \u001b[0;36m<module>\u001b[0;34m\u001b[0m\n\u001b[0;32m----> 1\u001b[0;31m \u001b[0mrec_anime\u001b[0m\u001b[0;34m(\u001b[0m\u001b[0;34m'one piece'\u001b[0m\u001b[0;34m,\u001b[0m\u001b[0;36m0.1\u001b[0m\u001b[0;34m)\u001b[0m\u001b[0;34m\u001b[0m\u001b[0;34m\u001b[0m\u001b[0m\n\u001b[0m",
      "\u001b[0;32m<ipython-input-90-0c5bb1e41664>\u001b[0m in \u001b[0;36mrec_anime\u001b[0;34m(x, float)\u001b[0m\n\u001b[1;32m      1\u001b[0m \u001b[0;32mdef\u001b[0m \u001b[0mrec_anime\u001b[0m\u001b[0;34m(\u001b[0m\u001b[0mx\u001b[0m\u001b[0;34m,\u001b[0m\u001b[0mfloat\u001b[0m\u001b[0;34m)\u001b[0m\u001b[0;34m:\u001b[0m\u001b[0;34m\u001b[0m\u001b[0;34m\u001b[0m\u001b[0m\n\u001b[0;32m----> 2\u001b[0;31m     \u001b[0mx_corr\u001b[0m \u001b[0;34m=\u001b[0m \u001b[0manime_list\u001b[0m\u001b[0;34m.\u001b[0m\u001b[0mindex\u001b[0m\u001b[0;34m(\u001b[0m\u001b[0;34mf'{x.title()}'\u001b[0m\u001b[0;34m)\u001b[0m\u001b[0;34m\u001b[0m\u001b[0;34m\u001b[0m\u001b[0m\n\u001b[0m\u001b[1;32m      3\u001b[0m     \u001b[0mx_corr\u001b[0m\u001b[0;34m\u001b[0m\u001b[0;34m\u001b[0m\u001b[0m\n\u001b[1;32m      4\u001b[0m     \u001b[0mcorr_x\u001b[0m \u001b[0;34m=\u001b[0m \u001b[0mcorr_mat\u001b[0m\u001b[0;34m[\u001b[0m\u001b[0mx_corr\u001b[0m\u001b[0;34m]\u001b[0m\u001b[0;34m\u001b[0m\u001b[0;34m\u001b[0m\u001b[0m\n\u001b[1;32m      5\u001b[0m     \u001b[0mprint\u001b[0m\u001b[0;34m(\u001b[0m\u001b[0;34mf'Top {int(float*100)} Percentile Correlational match to Anime: {x.title()}'\u001b[0m\u001b[0;34m)\u001b[0m\u001b[0;34m\u001b[0m\u001b[0;34m\u001b[0m\u001b[0m\n",
      "\u001b[0;31mValueError\u001b[0m: 'One Piece' is not in list"
     ]
    }
   ],
   "source": [
    "rec_anime('one piece',0.1)"
   ]
  },
  {
   "cell_type": "code",
   "execution_count": null,
   "metadata": {},
   "outputs": [],
   "source": []
  }
 ],
 "metadata": {
  "_change_revision": 0,
  "_is_fork": false,
  "kernelspec": {
   "display_name": "Python 3",
   "language": "python",
   "name": "python3"
  },
  "language_info": {
   "codemirror_mode": {
    "name": "ipython",
    "version": 3
   },
   "file_extension": ".py",
   "mimetype": "text/x-python",
   "name": "python",
   "nbconvert_exporter": "python",
   "pygments_lexer": "ipython3",
   "version": "3.7.3"
  },
  "toc": {
   "base_numbering": 1,
   "nav_menu": {},
   "number_sections": true,
   "sideBar": true,
   "skip_h1_title": false,
   "title_cell": "Table of Contents",
   "title_sidebar": "Contents",
   "toc_cell": false,
   "toc_position": {},
   "toc_section_display": true,
   "toc_window_display": false
  },
  "varInspector": {
   "cols": {
    "lenName": 16,
    "lenType": 16,
    "lenVar": 40
   },
   "kernels_config": {
    "python": {
     "delete_cmd_postfix": "",
     "delete_cmd_prefix": "del ",
     "library": "var_list.py",
     "varRefreshCmd": "print(var_dic_list())"
    },
    "r": {
     "delete_cmd_postfix": ") ",
     "delete_cmd_prefix": "rm(",
     "library": "var_list.r",
     "varRefreshCmd": "cat(var_dic_list()) "
    }
   },
   "types_to_exclude": [
    "module",
    "function",
    "builtin_function_or_method",
    "instance",
    "_Feature"
   ],
   "window_display": false
  }
 },
 "nbformat": 4,
 "nbformat_minor": 1
}
